{
 "cells": [
  {
   "cell_type": "markdown",
   "metadata": {},
   "source": [
    "# Use Filtered Data and Shuffle Training"
   ]
  },
  {
   "cell_type": "markdown",
   "metadata": {},
   "source": [
    "Data:\n",
    "    - filter out more hackers, admins, suppliers\n",
    "    - do not include users with only 1 click\n",
    "Model: \n",
    "    - seperate embeddings between suppliers and users\n",
    "    - high regularization\n",
    "    - padding for users - but maskAware average\n",
    "    - leaky relu instead of relu\n",
    " \n",
    "Training:\n",
    "    - no pretraining\n",
    "    - shuffling to see if i get speed up"
   ]
  },
  {
   "cell_type": "code",
   "execution_count": 4,
   "metadata": {},
   "outputs": [
    {
     "name": "stderr",
     "output_type": "stream",
     "text": [
      "Using TensorFlow backend.\n"
     ]
    }
   ],
   "source": [
    "import numpy as np\n",
    "import tensorflow as tf\n",
    "from numpy.random import seed\n",
    "from tensorflow import set_random_seed\n",
    "seed(1)\n",
    "set_random_seed(1)\n",
    "\n",
    "from keras import initializers\n",
    "from keras.regularizers import l2\n",
    "from keras.models import Model\n",
    "from keras.layers import Embedding, Input, Dense, merge, Flatten, concatenate, multiply, dot, Reshape, GlobalMaxPooling1D, GlobalAveragePooling1D\n",
    "from keras.optimizers import Adagrad, Adam, SGD, RMSprop\n",
    "import keras.callbacks\n",
    "from time import time\n",
    "import pdb\n",
    "from scipy import sparse\n",
    "import pickle\n",
    "import sqlite3"
   ]
  },
  {
   "cell_type": "code",
   "execution_count": null,
   "metadata": {},
   "outputs": [],
   "source": [
    "import sqlalchemy as db\n",
    "from sqlalchemy import create_engine\n",
    "import psycopg2"
   ]
  },
  {
   "cell_type": "code",
   "execution_count": null,
   "metadata": {},
   "outputs": [],
   "source": [
    "import random\n",
    "import pandas as pd\n",
    "from keras.preprocessing.sequence import pad_sequences\n",
    "from keras import backend as K"
   ]
  },
  {
   "cell_type": "code",
   "execution_count": null,
   "metadata": {},
   "outputs": [],
   "source": [
    "# DATABASE_URI = ###\n",
    "# engine = create_engine(DATABASE_URI)\n",
    "engine = sqlite3.connect('data/db.db', check_same_thread=False)"
   ]
  },
  {
   "cell_type": "markdown",
   "metadata": {},
   "source": [
    "## Select Parameters and Create Model"
   ]
  },
  {
   "cell_type": "markdown",
   "metadata": {},
   "source": [
    "Parameters to create the model and train "
   ]
  },
  {
   "cell_type": "code",
   "execution_count": 5,
   "metadata": {},
   "outputs": [],
   "source": [
    "# Parameters\n",
    "# Model\n",
    "# MLP\n",
    "layers = [128,64,32,16] #[378,162,42,14]\n",
    "reg_layers = [0.01, 0.01, 0.01, 0.01] #[0.04,0.0001,0.01,0.01] #\n",
    "# MF\n",
    "reg_mf = 0.01 #0.0003 \n",
    "#num_negatives = args.num_neg\n",
    "learning_rate = 0.001"
   ]
  },
  {
   "cell_type": "code",
   "execution_count": 6,
   "metadata": {},
   "outputs": [],
   "source": [
    "# size of embeddings = embedding_dimensions = number_of_categories**0.25\n",
    "# months = 13\n",
    "# supplier = 563\n",
    "# wgs = 230\n",
    "# mkt = 9\n",
    "\n",
    "# months_emb = round(months ** 0.25)\n",
    "# supplier_emb = round(supplier ** 0.25)\n",
    "# wgs_emb = round(wgs ** 0.25)\n",
    "# mkt_emb = round(mkt ** 0.25)"
   ]
  },
  {
   "cell_type": "code",
   "execution_count": 7,
   "metadata": {},
   "outputs": [],
   "source": [
    "import Hybrid_NeuMF"
   ]
  },
  {
   "cell_type": "code",
   "execution_count": 8,
   "metadata": {},
   "outputs": [
    {
     "name": "stdout",
     "output_type": "stream",
     "text": [
      "WARNING:tensorflow:From /opt/conda/lib/python3.7/site-packages/tensorflow_core/python/ops/resource_variable_ops.py:1630: calling BaseResourceVariable.__init__ (from tensorflow.python.ops.resource_variable_ops) with constraint is deprecated and will be removed in a future version.\n",
      "Instructions for updating:\n",
      "If using Keras pass *_constraint arguments to layers.\n"
     ]
    }
   ],
   "source": [
    "model = Hybrid_NeuMF.get_model(layers, reg_layers, reg_mf)"
   ]
  },
  {
   "cell_type": "code",
   "execution_count": 9,
   "metadata": {},
   "outputs": [
    {
     "name": "stdout",
     "output_type": "stream",
     "text": [
      "WARNING:tensorflow:From /opt/conda/lib/python3.7/site-packages/tensorflow_core/python/ops/nn_impl.py:183: where (from tensorflow.python.ops.array_ops) is deprecated and will be removed in a future version.\n",
      "Instructions for updating:\n",
      "Use tf.where in 2.0, which has the same broadcast rule as np.where\n",
      "Model: \"model_1\"\n",
      "__________________________________________________________________________________________________\n",
      "Layer (type)                    Output Shape         Param #     Connected to                     \n",
      "==================================================================================================\n",
      "user_mkt (InputLayer)           (None, 1)            0                                            \n",
      "__________________________________________________________________________________________________\n",
      "user_wg (InputLayer)            (None, 200)          0                                            \n",
      "__________________________________________________________________________________________________\n",
      "user_anbieter (InputLayer)      (None, 200)          0                                            \n",
      "__________________________________________________________________________________________________\n",
      "month (InputLayer)              (None, 1)            0                                            \n",
      "__________________________________________________________________________________________________\n",
      "item_mkt (InputLayer)           (None, 1)            0                                            \n",
      "__________________________________________________________________________________________________\n",
      "item_wg (InputLayer)            (None, 1)            0                                            \n",
      "__________________________________________________________________________________________________\n",
      "item_anbieter (InputLayer)      (None, 1)            0                                            \n",
      "__________________________________________________________________________________________________\n",
      "user_anbietermkt (InputLayer)   (None, 200)          0                                            \n",
      "__________________________________________________________________________________________________\n",
      "mlp_embedding_month (Embedding) (None, 1, 2)         26          month[0][0]                      \n",
      "__________________________________________________________________________________________________\n",
      "mlp_embedding_user_mkt (Embeddi (None, 1, 2)         18          user_mkt[0][0]                   \n",
      "__________________________________________________________________________________________________\n",
      "mlp_embedding_user_anbietermkt  (None, 200, 2)       18          user_anbietermkt[0][0]           \n",
      "__________________________________________________________________________________________________\n",
      "mlp_embedding_user_wg (Embeddin (None, 200, 4)       920         user_wg[0][0]                    \n",
      "__________________________________________________________________________________________________\n",
      "mlp_embedding_user_anbieter (Em (None, 200, 5)       2815        user_anbieter[0][0]              \n",
      "__________________________________________________________________________________________________\n",
      "mlp_embedding_item_anbieter (Em (None, 1, 5)         2815        item_anbieter[0][0]              \n",
      "__________________________________________________________________________________________________\n",
      "mlp_embedding_item_mkt (Embeddi (None, 1, 2)         18          item_mkt[0][0]                   \n",
      "__________________________________________________________________________________________________\n",
      "mlp_embedding_item_wg (Embeddin (None, 1, 4)         920         item_wg[0][0]                    \n",
      "__________________________________________________________________________________________________\n",
      "user_preis (InputLayer)         (None, 1)            0                                            \n",
      "__________________________________________________________________________________________________\n",
      "user_ve (InputLayer)            (None, 1)            0                                            \n",
      "__________________________________________________________________________________________________\n",
      "user_text (InputLayer)          (None, 150)          0                                            \n",
      "__________________________________________________________________________________________________\n",
      "days_online (InputLayer)        (None, 1)            0                                            \n",
      "__________________________________________________________________________________________________\n",
      "item_preis (InputLayer)         (None, 1)            0                                            \n",
      "__________________________________________________________________________________________________\n",
      "item_ve (InputLayer)            (None, 1)            0                                            \n",
      "__________________________________________________________________________________________________\n",
      "item_text (InputLayer)          (None, 150)          0                                            \n",
      "__________________________________________________________________________________________________\n",
      "mlp_flat_month (Flatten)        (None, 2)            0           mlp_embedding_month[0][0]        \n",
      "__________________________________________________________________________________________________\n",
      "mlp_flat_user_mkt (Flatten)     (None, 2)            0           mlp_embedding_user_mkt[0][0]     \n",
      "__________________________________________________________________________________________________\n",
      "mlp_avg_user_anbietermkt (Lambd (None, 2)            0           mlp_embedding_user_anbietermkt[0]\n",
      "__________________________________________________________________________________________________\n",
      "mlp_avg_user_wg (Lambda)        (None, 4)            0           mlp_embedding_user_wg[0][0]      \n",
      "__________________________________________________________________________________________________\n",
      "mlp_avg_user_anbieten (Lambda)  (None, 5)            0           mlp_embedding_user_anbieter[0][0]\n",
      "__________________________________________________________________________________________________\n",
      "mlp_flat_item_anbieter (Flatten (None, 5)            0           mlp_embedding_item_anbieter[0][0]\n",
      "__________________________________________________________________________________________________\n",
      "mlp_flat_item_mkt (Flatten)     (None, 2)            0           mlp_embedding_item_mkt[0][0]     \n",
      "__________________________________________________________________________________________________\n",
      "mlp_flat_item_wg (Flatten)      (None, 4)            0           mlp_embedding_item_wg[0][0]      \n",
      "__________________________________________________________________________________________________\n",
      "mf_embedding_user_mkt (Embeddin (None, 1, 2)         18          user_mkt[0][0]                   \n",
      "__________________________________________________________________________________________________\n",
      "mf_embedding_user_wg (Embedding (None, 200, 4)       920         user_wg[0][0]                    \n",
      "__________________________________________________________________________________________________\n",
      "mf_embedding_user_anbieter (Emb (None, 200, 5)       2815        user_anbieter[0][0]              \n",
      "__________________________________________________________________________________________________\n",
      "mf_embedding_month (Embedding)  (None, 1, 2)         26          month[0][0]                      \n",
      "__________________________________________________________________________________________________\n",
      "mf_embedding_item_mkt (Embeddin (None, 1, 2)         18          item_mkt[0][0]                   \n",
      "__________________________________________________________________________________________________\n",
      "mf_embedding_item_wg (Embedding (None, 1, 4)         920         item_wg[0][0]                    \n",
      "__________________________________________________________________________________________________\n",
      "mf_embedding_item_anbieter (Emb (None, 1, 5)         2815        item_anbieter[0][0]              \n",
      "__________________________________________________________________________________________________\n",
      "mlp_conc (Concatenate)          (None, 331)          0           mlp_flat_month[0][0]             \n",
      "                                                                 days_online[0][0]                \n",
      "                                                                 mlp_flat_user_mkt[0][0]          \n",
      "                                                                 mlp_avg_user_anbietermkt[0][0]   \n",
      "                                                                 mlp_avg_user_wg[0][0]            \n",
      "                                                                 mlp_avg_user_anbieten[0][0]      \n",
      "                                                                 user_preis[0][0]                 \n",
      "                                                                 user_ve[0][0]                    \n",
      "                                                                 user_text[0][0]                  \n",
      "                                                                 mlp_flat_item_anbieter[0][0]     \n",
      "                                                                 mlp_flat_item_mkt[0][0]          \n",
      "                                                                 mlp_flat_item_wg[0][0]           \n",
      "                                                                 item_preis[0][0]                 \n",
      "                                                                 item_ve[0][0]                    \n",
      "                                                                 item_text[0][0]                  \n",
      "__________________________________________________________________________________________________\n",
      "mf_flat_user_mkt (Flatten)      (None, 2)            0           mf_embedding_user_mkt[0][0]      \n",
      "__________________________________________________________________________________________________\n",
      "mf_avg_user_wg (Lambda)         (None, 4)            0           mf_embedding_user_wg[0][0]       \n",
      "__________________________________________________________________________________________________\n",
      "mf_avg_user_anbieter (Lambda)   (None, 5)            0           mf_embedding_user_anbieter[0][0] \n",
      "__________________________________________________________________________________________________\n",
      "mf_flat_month (Flatten)         (None, 2)            0           mf_embedding_month[0][0]         \n",
      "__________________________________________________________________________________________________\n",
      "mf_flat_item_mkt (Flatten)      (None, 2)            0           mf_embedding_item_mkt[0][0]      \n",
      "__________________________________________________________________________________________________\n",
      "mf_flat_item_wg (Flatten)       (None, 4)            0           mf_embedding_item_wg[0][0]       \n",
      "__________________________________________________________________________________________________\n",
      "mf_flat_item_anbieter (Flatten) (None, 5)            0           mf_embedding_item_anbieter[0][0] \n",
      "__________________________________________________________________________________________________\n",
      "layer1 (Dense)                  (None, 64)           21248       mlp_conc[0][0]                   \n",
      "__________________________________________________________________________________________________\n",
      "mf_user (Concatenate)           (None, 166)          0           mf_flat_user_mkt[0][0]           \n",
      "                                                                 mf_avg_user_wg[0][0]             \n",
      "                                                                 mf_avg_user_anbieter[0][0]       \n",
      "                                                                 user_preis[0][0]                 \n",
      "                                                                 user_ve[0][0]                    \n",
      "                                                                 user_text[0][0]                  \n",
      "                                                                 days_online[0][0]                \n",
      "                                                                 mf_flat_month[0][0]              \n",
      "__________________________________________________________________________________________________\n",
      "mf_item (Concatenate)           (None, 166)          0           mf_flat_item_mkt[0][0]           \n",
      "                                                                 mf_flat_item_wg[0][0]            \n",
      "                                                                 mf_flat_item_anbieter[0][0]      \n",
      "                                                                 item_preis[0][0]                 \n",
      "                                                                 item_ve[0][0]                    \n",
      "                                                                 item_text[0][0]                  \n",
      "                                                                 days_online[0][0]                \n",
      "                                                                 mf_flat_month[0][0]              \n",
      "__________________________________________________________________________________________________\n",
      "layer2 (Dense)                  (None, 32)           2080        layer1[0][0]                     \n",
      "__________________________________________________________________________________________________\n",
      "mf_multiply (Multiply)          (None, 166)          0           mf_user[0][0]                    \n",
      "                                                                 mf_item[0][0]                    \n",
      "__________________________________________________________________________________________________\n",
      "layer3 (Dense)                  (None, 16)           528         layer2[0][0]                     \n",
      "__________________________________________________________________________________________________\n",
      "concatenate_1 (Concatenate)     (None, 182)          0           mf_multiply[0][0]                \n",
      "                                                                 layer3[0][0]                     \n",
      "__________________________________________________________________________________________________\n",
      "prediction (Dense)              (None, 1)            183         concatenate_1[0][0]              \n",
      "==================================================================================================\n",
      "Total params: 39,121\n",
      "Trainable params: 39,121\n",
      "Non-trainable params: 0\n",
      "__________________________________________________________________________________________________\n"
     ]
    }
   ],
   "source": [
    "model.compile(optimizer=Adam(lr=learning_rate), loss='binary_crossentropy')\n",
    "model.summary()"
   ]
  },
  {
   "cell_type": "markdown",
   "metadata": {},
   "source": [
    "## Set Training Parameters and Train model"
   ]
  },
  {
   "cell_type": "code",
   "execution_count": 10,
   "metadata": {},
   "outputs": [],
   "source": [
    "batch_size = 256 # should be as large as fits in memory"
   ]
  },
  {
   "cell_type": "code",
   "execution_count": 11,
   "metadata": {},
   "outputs": [],
   "source": [
    "query = ('''SELECT  t.[index]\n",
    "            FROM    target_training_enc as t \n",
    "                    LEFT JOIN training_user_filter as f\n",
    "                        ON t.userid = f.userid\n",
    "            WHERE   f.userid IS NULL''')\n",
    "indices = pd.read_sql(query, engine)"
   ]
  },
  {
   "cell_type": "code",
   "execution_count": 12,
   "metadata": {},
   "outputs": [],
   "source": [
    "# Training \n",
    "num_epochs = 50 # the more the merrier\n",
    "total_size = len(indices) # to leave out one for validation\n",
    "#val_size = 0.1\n",
    "train_size = round(0.9*total_size) # to leave out 10% one for validation\n",
    "verbose = 1\n",
    "save = 1 # 1 = save model, 0 = dont save model"
   ]
  },
  {
   "cell_type": "code",
   "execution_count": 13,
   "metadata": {},
   "outputs": [],
   "source": [
    "indices_train = indices[:train_size]"
   ]
  },
  {
   "cell_type": "code",
   "execution_count": 14,
   "metadata": {},
   "outputs": [
    {
     "data": {
      "text/plain": [
       "9092673"
      ]
     },
     "execution_count": 14,
     "metadata": {},
     "output_type": "execute_result"
    }
   ],
   "source": [
    "len(indices_train)"
   ]
  },
  {
   "cell_type": "code",
   "execution_count": 15,
   "metadata": {},
   "outputs": [],
   "source": [
    "train_list = indices_train['index'].values.tolist()"
   ]
  },
  {
   "cell_type": "code",
   "execution_count": 16,
   "metadata": {},
   "outputs": [],
   "source": [
    "indices_val = indices[train_size:]"
   ]
  },
  {
   "cell_type": "code",
   "execution_count": 17,
   "metadata": {
    "scrolled": true
   },
   "outputs": [
    {
     "data": {
      "text/plain": [
       "926762"
      ]
     },
     "execution_count": 17,
     "metadata": {},
     "output_type": "execute_result"
    }
   ],
   "source": [
    "len(indices_val)"
   ]
  },
  {
   "cell_type": "code",
   "execution_count": 18,
   "metadata": {},
   "outputs": [],
   "source": [
    "val_list = indices_val['index'].values.tolist()"
   ]
  },
  {
   "cell_type": "markdown",
   "metadata": {},
   "source": [
    "Create Name and History of this run - save model architecture"
   ]
  },
  {
   "cell_type": "code",
   "execution_count": 1,
   "metadata": {},
   "outputs": [],
   "source": [
    "name = 'data/models/training/4_2_leaky_relu_high_reg'"
   ]
  },
  {
   "cell_type": "code",
   "execution_count": 20,
   "metadata": {},
   "outputs": [
    {
     "name": "stdout",
     "output_type": "stream",
     "text": [
      "4_2_leaky_relu_high_reg_weights.h5\n"
     ]
    }
   ],
   "source": [
    "# Parameters\n",
    "# Init performance\n",
    "best_val_roc = 0 #0.8519514799118042 #0\n",
    "history_all = []\n",
    "\n",
    "# Model save to\n",
    "model_out_file = str(name +'_weights.h5')\n",
    "print (model_out_file)\n",
    "\n",
    "# History save to \n",
    "path_history = str(name + '_history.pkl')"
   ]
  },
  {
   "cell_type": "markdown",
   "metadata": {},
   "source": [
    "### Batches - generate batches and feed to model"
   ]
  },
  {
   "cell_type": "code",
   "execution_count": 21,
   "metadata": {},
   "outputs": [],
   "source": [
    "import generators\n",
    "import evaluate"
   ]
  },
  {
   "cell_type": "code",
   "execution_count": 22,
   "metadata": {},
   "outputs": [],
   "source": [
    "from sklearn.metrics import roc_auc_score"
   ]
  },
  {
   "cell_type": "markdown",
   "metadata": {},
   "source": [
    "Define function to calculate the roc score across the validation data"
   ]
  },
  {
   "cell_type": "code",
   "execution_count": 23,
   "metadata": {},
   "outputs": [],
   "source": [
    "Define function to calculate the roc score across the validation datadef roc_all (model, val_indexi):\n",
    "    y_all = []\n",
    "    predict_all = []\n",
    "    for batches in range(0, len(val_indexi), 50000):\n",
    "        indeci = tuple(val_list[batches:batches+50000])\n",
    "        query_v = f\"\"\"\n",
    "            SELECT * FROM target_training_enc where [index] IN {indeci}\n",
    "        \"\"\"\n",
    "        data = pd.read_sql_query(query_v, engine)\n",
    "        data_p = evaluate.transform_log(data, 200)\n",
    "        # select truth and make prediction\n",
    "        y_true = data.pick.values.flatten().tolist()\n",
    "        y_score = model.predict(x = data_p).flatten().tolist()\n",
    "        y_all.append(y_true)\n",
    "        predict_all.append(y_score)\n",
    "    # flatten all results\n",
    "    flat_list_y = [item for sublist in y_all for item in sublist]\n",
    "    flat_list_predict = [item for sublist in predict_all for item in sublist]\n",
    "    # make arrays\n",
    "    y_array = np.array(flat_list_y, ndmin = 2).reshape(-1,1)\n",
    "    pred_array = np.array(flat_list_predict, ndmin =2).reshape(-1,1)\n",
    "    # calc roc\n",
    "    roc = roc_auc_score(y_array, pred_array)\n",
    "    return(roc)"
   ]
  },
  {
   "cell_type": "markdown",
   "metadata": {},
   "source": [
    "Train model and save best iteration"
   ]
  },
  {
   "cell_type": "code",
   "execution_count": 24,
   "metadata": {
    "scrolled": true
   },
   "outputs": [
    {
     "name": "stdout",
     "output_type": "stream",
     "text": [
      "0\n",
      "WARNING:tensorflow:From /opt/conda/lib/python3.7/site-packages/keras/backend/tensorflow_backend.py:422: The name tf.global_variables is deprecated. Please use tf.compat.v1.global_variables instead.\n",
      "\n",
      "Epoch 1/1\n",
      "35519/35519 [==============================] - 5771s 162ms/step - loss: 0.5772 - val_loss: 0.5678\n",
      "Iteration 0 [5786.4 s]: Loss = 0.5772, Validation UROC = 0.6608 [610.5 s]\n",
      "1\n",
      "Epoch 1/1\n",
      "35519/35519 [==============================] - 5741s 162ms/step - loss: 0.5707 - val_loss: 0.5964\n",
      "Iteration 1 [5754.2 s]: Loss = 0.5707, Validation UROC = 0.6651 [614.1 s]\n",
      "2\n",
      "Epoch 1/1\n",
      "35519/35519 [==============================] - 5723s 161ms/step - loss: 0.5698 - val_loss: 0.5731\n",
      "Iteration 2 [5735.7 s]: Loss = 0.5698, Validation UROC = 0.6643 [611.3 s]\n",
      "3\n",
      "Epoch 1/1\n",
      "35519/35519 [==============================] - 5759s 162ms/step - loss: 0.5693 - val_loss: 0.5711\n",
      "Iteration 3 [5772.0 s]: Loss = 0.5693, Validation UROC = 0.6633 [614.7 s]\n",
      "4\n",
      "Epoch 1/1\n",
      "34648/35519 [============================>.] - ETA: 2:21 - loss: 0.5691"
     ]
    },
    {
     "name": "stderr",
     "output_type": "stream",
     "text": [
      "IOPub message rate exceeded.\n",
      "The notebook server will temporarily stop sending output\n",
      "to the client in order to avoid crashing it.\n",
      "To change this limit, set the config variable\n",
      "`--NotebookApp.iopub_msg_rate_limit`.\n",
      "\n",
      "Current values:\n",
      "NotebookApp.iopub_msg_rate_limit=1000.0 (msgs/sec)\n",
      "NotebookApp.rate_limit_window=3.0 (secs)\n",
      "\n"
     ]
    },
    {
     "name": "stdout",
     "output_type": "stream",
     "text": [
      " 5577/35519 [===>..........................] - ETA: 1:21:27 - loss: 0.5697"
     ]
    },
    {
     "name": "stderr",
     "output_type": "stream",
     "text": [
      "IOPub message rate exceeded.\n",
      "The notebook server will temporarily stop sending output\n",
      "to the client in order to avoid crashing it.\n",
      "To change this limit, set the config variable\n",
      "`--NotebookApp.iopub_msg_rate_limit`.\n",
      "\n",
      "Current values:\n",
      "NotebookApp.iopub_msg_rate_limit=1000.0 (msgs/sec)\n",
      "NotebookApp.rate_limit_window=3.0 (secs)\n",
      "\n"
     ]
    },
    {
     "name": "stdout",
     "output_type": "stream",
     "text": [
      "12111/35519 [=========>....................] - ETA: 1:02:58 - loss: 0.5692"
     ]
    },
    {
     "name": "stderr",
     "output_type": "stream",
     "text": [
      "IOPub message rate exceeded.\n",
      "The notebook server will temporarily stop sending output\n",
      "to the client in order to avoid crashing it.\n",
      "To change this limit, set the config variable\n",
      "`--NotebookApp.iopub_msg_rate_limit`.\n",
      "\n",
      "Current values:\n",
      "NotebookApp.iopub_msg_rate_limit=1000.0 (msgs/sec)\n",
      "NotebookApp.rate_limit_window=3.0 (secs)\n",
      "\n"
     ]
    },
    {
     "name": "stdout",
     "output_type": "stream",
     "text": [
      "18824/35519 [==============>...............] - ETA: 44:44 - loss: 0.5688"
     ]
    },
    {
     "name": "stderr",
     "output_type": "stream",
     "text": [
      "IOPub message rate exceeded.\n",
      "The notebook server will temporarily stop sending output\n",
      "to the client in order to avoid crashing it.\n",
      "To change this limit, set the config variable\n",
      "`--NotebookApp.iopub_msg_rate_limit`.\n",
      "\n",
      "Current values:\n",
      "NotebookApp.iopub_msg_rate_limit=1000.0 (msgs/sec)\n",
      "NotebookApp.rate_limit_window=3.0 (secs)\n",
      "\n"
     ]
    },
    {
     "name": "stdout",
     "output_type": "stream",
     "text": [
      "24529/35519 [===================>..........] - ETA: 29:24 - loss: 0.5689"
     ]
    },
    {
     "name": "stderr",
     "output_type": "stream",
     "text": [
      "IOPub message rate exceeded.\n",
      "The notebook server will temporarily stop sending output\n",
      "to the client in order to avoid crashing it.\n",
      "To change this limit, set the config variable\n",
      "`--NotebookApp.iopub_msg_rate_limit`.\n",
      "\n",
      "Current values:\n",
      "NotebookApp.iopub_msg_rate_limit=1000.0 (msgs/sec)\n",
      "NotebookApp.rate_limit_window=3.0 (secs)\n",
      "\n"
     ]
    },
    {
     "name": "stdout",
     "output_type": "stream",
     "text": [
      "31272/35519 [=========================>....] - ETA: 11:22 - loss: 0.5689"
     ]
    },
    {
     "name": "stderr",
     "output_type": "stream",
     "text": [
      "IOPub message rate exceeded.\n",
      "The notebook server will temporarily stop sending output\n",
      "to the client in order to avoid crashing it.\n",
      "To change this limit, set the config variable\n",
      "`--NotebookApp.iopub_msg_rate_limit`.\n",
      "\n",
      "Current values:\n",
      "NotebookApp.iopub_msg_rate_limit=1000.0 (msgs/sec)\n",
      "NotebookApp.rate_limit_window=3.0 (secs)\n",
      "\n"
     ]
    },
    {
     "name": "stdout",
     "output_type": "stream",
     "text": [
      "35519/35519 [==============================] - 5742s 162ms/step - loss: 0.5689 - val_loss: 0.5929\n",
      "Iteration 5 [5754.7 s]: Loss = 0.5689, Validation UROC = 0.6643 [615.6 s]\n",
      "6\n",
      "Epoch 1/1\n",
      " 2226/35519 [>.............................] - ETA: 1:32:07 - loss: 0.5687"
     ]
    },
    {
     "name": "stderr",
     "output_type": "stream",
     "text": [
      "IOPub message rate exceeded.\n",
      "The notebook server will temporarily stop sending output\n",
      "to the client in order to avoid crashing it.\n",
      "To change this limit, set the config variable\n",
      "`--NotebookApp.iopub_msg_rate_limit`.\n",
      "\n",
      "Current values:\n",
      "NotebookApp.iopub_msg_rate_limit=1000.0 (msgs/sec)\n",
      "NotebookApp.rate_limit_window=3.0 (secs)\n",
      "\n"
     ]
    },
    {
     "name": "stdout",
     "output_type": "stream",
     "text": [
      " 8504/35519 [======>.......................] - ETA: 1:13:10 - loss: 0.5686"
     ]
    },
    {
     "name": "stderr",
     "output_type": "stream",
     "text": [
      "IOPub message rate exceeded.\n",
      "The notebook server will temporarily stop sending output\n",
      "to the client in order to avoid crashing it.\n",
      "To change this limit, set the config variable\n",
      "`--NotebookApp.iopub_msg_rate_limit`.\n",
      "\n",
      "Current values:\n",
      "NotebookApp.iopub_msg_rate_limit=1000.0 (msgs/sec)\n",
      "NotebookApp.rate_limit_window=3.0 (secs)\n",
      "\n"
     ]
    },
    {
     "name": "stdout",
     "output_type": "stream",
     "text": [
      "15149/35519 [===========>..................] - ETA: 54:46 - loss: 0.5690"
     ]
    },
    {
     "name": "stderr",
     "output_type": "stream",
     "text": [
      "IOPub message rate exceeded.\n",
      "The notebook server will temporarily stop sending output\n",
      "to the client in order to avoid crashing it.\n",
      "To change this limit, set the config variable\n",
      "`--NotebookApp.iopub_msg_rate_limit`.\n",
      "\n",
      "Current values:\n",
      "NotebookApp.iopub_msg_rate_limit=1000.0 (msgs/sec)\n",
      "NotebookApp.rate_limit_window=3.0 (secs)\n",
      "\n"
     ]
    },
    {
     "name": "stdout",
     "output_type": "stream",
     "text": [
      "21942/35519 [=================>............] - ETA: 36:25 - loss: 0.5690"
     ]
    },
    {
     "name": "stderr",
     "output_type": "stream",
     "text": [
      "IOPub message rate exceeded.\n",
      "The notebook server will temporarily stop sending output\n",
      "to the client in order to avoid crashing it.\n",
      "To change this limit, set the config variable\n",
      "`--NotebookApp.iopub_msg_rate_limit`.\n",
      "\n",
      "Current values:\n",
      "NotebookApp.iopub_msg_rate_limit=1000.0 (msgs/sec)\n",
      "NotebookApp.rate_limit_window=3.0 (secs)\n",
      "\n"
     ]
    },
    {
     "name": "stdout",
     "output_type": "stream",
     "text": [
      "25736/35519 [====================>.........] - ETA: 26:13 - loss: 0.5690"
     ]
    },
    {
     "name": "stderr",
     "output_type": "stream",
     "text": [
      "IOPub message rate exceeded.\n",
      "The notebook server will temporarily stop sending output\n",
      "to the client in order to avoid crashing it.\n",
      "To change this limit, set the config variable\n",
      "`--NotebookApp.iopub_msg_rate_limit`.\n",
      "\n",
      "Current values:\n",
      "NotebookApp.iopub_msg_rate_limit=1000.0 (msgs/sec)\n",
      "NotebookApp.rate_limit_window=3.0 (secs)\n",
      "\n"
     ]
    },
    {
     "name": "stdout",
     "output_type": "stream",
     "text": [
      "28601/35519 [=======================>......] - ETA: 18:31 - loss: 0.5690"
     ]
    },
    {
     "name": "stderr",
     "output_type": "stream",
     "text": [
      "IOPub message rate exceeded.\n",
      "The notebook server will temporarily stop sending output\n",
      "to the client in order to avoid crashing it.\n",
      "To change this limit, set the config variable\n",
      "`--NotebookApp.iopub_msg_rate_limit`.\n",
      "\n",
      "Current values:\n",
      "NotebookApp.iopub_msg_rate_limit=1000.0 (msgs/sec)\n",
      "NotebookApp.rate_limit_window=3.0 (secs)\n",
      "\n"
     ]
    },
    {
     "name": "stdout",
     "output_type": "stream",
     "text": [
      "32424/35519 [==========================>...] - ETA: 8:19 - loss: 0.5688"
     ]
    },
    {
     "name": "stderr",
     "output_type": "stream",
     "text": [
      "IOPub message rate exceeded.\n",
      "The notebook server will temporarily stop sending output\n",
      "to the client in order to avoid crashing it.\n",
      "To change this limit, set the config variable\n",
      "`--NotebookApp.iopub_msg_rate_limit`.\n",
      "\n",
      "Current values:\n",
      "NotebookApp.iopub_msg_rate_limit=1000.0 (msgs/sec)\n",
      "NotebookApp.rate_limit_window=3.0 (secs)\n",
      "\n"
     ]
    },
    {
     "name": "stdout",
     "output_type": "stream",
     "text": [
      "35237/35519 [============================>.] - ETA: 45s - loss: 0.5688"
     ]
    },
    {
     "name": "stderr",
     "output_type": "stream",
     "text": [
      "IOPub message rate exceeded.\n",
      "The notebook server will temporarily stop sending output\n",
      "to the client in order to avoid crashing it.\n",
      "To change this limit, set the config variable\n",
      "`--NotebookApp.iopub_msg_rate_limit`.\n",
      "\n",
      "Current values:\n",
      "NotebookApp.iopub_msg_rate_limit=1000.0 (msgs/sec)\n",
      "NotebookApp.rate_limit_window=3.0 (secs)\n",
      "\n"
     ]
    },
    {
     "name": "stdout",
     "output_type": "stream",
     "text": [
      " 3253/35519 [=>............................] - ETA: 1:28:30 - loss: 0.5692"
     ]
    },
    {
     "name": "stderr",
     "output_type": "stream",
     "text": [
      "IOPub message rate exceeded.\n",
      "The notebook server will temporarily stop sending output\n",
      "to the client in order to avoid crashing it.\n",
      "To change this limit, set the config variable\n",
      "`--NotebookApp.iopub_msg_rate_limit`.\n",
      "\n",
      "Current values:\n",
      "NotebookApp.iopub_msg_rate_limit=1000.0 (msgs/sec)\n",
      "NotebookApp.rate_limit_window=3.0 (secs)\n",
      "\n"
     ]
    },
    {
     "name": "stdout",
     "output_type": "stream",
     "text": [
      " 6171/35519 [====>.........................] - ETA: 1:19:47 - loss: 0.5687"
     ]
    },
    {
     "name": "stderr",
     "output_type": "stream",
     "text": [
      "IOPub message rate exceeded.\n",
      "The notebook server will temporarily stop sending output\n",
      "to the client in order to avoid crashing it.\n",
      "To change this limit, set the config variable\n",
      "`--NotebookApp.iopub_msg_rate_limit`.\n",
      "\n",
      "Current values:\n",
      "NotebookApp.iopub_msg_rate_limit=1000.0 (msgs/sec)\n",
      "NotebookApp.rate_limit_window=3.0 (secs)\n",
      "\n"
     ]
    },
    {
     "name": "stdout",
     "output_type": "stream",
     "text": [
      " 9775/35519 [=======>......................] - ETA: 1:09:30 - loss: 0.5688"
     ]
    },
    {
     "name": "stderr",
     "output_type": "stream",
     "text": [
      "IOPub message rate exceeded.\n",
      "The notebook server will temporarily stop sending output\n",
      "to the client in order to avoid crashing it.\n",
      "To change this limit, set the config variable\n",
      "`--NotebookApp.iopub_msg_rate_limit`.\n",
      "\n",
      "Current values:\n",
      "NotebookApp.iopub_msg_rate_limit=1000.0 (msgs/sec)\n",
      "NotebookApp.rate_limit_window=3.0 (secs)\n",
      "\n"
     ]
    },
    {
     "name": "stdout",
     "output_type": "stream",
     "text": [
      "12295/35519 [=========>....................] - ETA: 1:02:33 - loss: 0.5689"
     ]
    },
    {
     "name": "stderr",
     "output_type": "stream",
     "text": [
      "IOPub message rate exceeded.\n",
      "The notebook server will temporarily stop sending output\n",
      "to the client in order to avoid crashing it.\n",
      "To change this limit, set the config variable\n",
      "`--NotebookApp.iopub_msg_rate_limit`.\n",
      "\n",
      "Current values:\n",
      "NotebookApp.iopub_msg_rate_limit=1000.0 (msgs/sec)\n",
      "NotebookApp.rate_limit_window=3.0 (secs)\n",
      "\n"
     ]
    },
    {
     "name": "stdout",
     "output_type": "stream",
     "text": [
      "16017/35519 [============>.................] - ETA: 52:22 - loss: 0.5688"
     ]
    },
    {
     "name": "stderr",
     "output_type": "stream",
     "text": [
      "IOPub message rate exceeded.\n",
      "The notebook server will temporarily stop sending output\n",
      "to the client in order to avoid crashing it.\n",
      "To change this limit, set the config variable\n",
      "`--NotebookApp.iopub_msg_rate_limit`.\n",
      "\n",
      "Current values:\n",
      "NotebookApp.iopub_msg_rate_limit=1000.0 (msgs/sec)\n",
      "NotebookApp.rate_limit_window=3.0 (secs)\n",
      "\n"
     ]
    },
    {
     "name": "stdout",
     "output_type": "stream",
     "text": [
      "35519/35519 [==============================] - 5764s 162ms/step - loss: 0.5686 - val_loss: 0.5842\n",
      "Iteration 7 [5777.2 s]: Loss = 0.5686, Validation UROC = 0.6601 [620.6 s]\n",
      "8\n",
      "Epoch 1/1\n",
      "35519/35519 [==============================] - 5792s 163ms/step - loss: 0.5686 - val_loss: 0.5348\n",
      "Iteration 8 [5804.9 s]: Loss = 0.5686, Validation UROC = 0.6631 [617.1 s]\n",
      "9\n",
      "Epoch 1/1\n",
      "35519/35519 [==============================] - 5772s 163ms/step - loss: 0.5685 - val_loss: 0.5541\n",
      "Iteration 9 [5785.7 s]: Loss = 0.5685, Validation UROC = 0.6621 [616.4 s]\n",
      "10\n",
      "Epoch 1/1\n",
      "35519/35519 [==============================] - 5766s 162ms/step - loss: 0.5685 - val_loss: 0.5504\n",
      "Iteration 10 [5779.7 s]: Loss = 0.5685, Validation UROC = 0.6627 [618.3 s]\n",
      "11\n",
      "Epoch 1/1\n",
      "35519/35519 [==============================] - 6123s 172ms/step - loss: 0.5684 - val_loss: 0.6092\n",
      "Iteration 11 [6135.9 s]: Loss = 0.5684, Validation UROC = 0.6591 [647.7 s]\n",
      "12\n",
      "Epoch 1/1\n",
      "35519/35519 [==============================] - 6266s 176ms/step - loss: 0.5683 - val_loss: 0.5429\n",
      "Iteration 12 [6280.5 s]: Loss = 0.5683, Validation UROC = 0.6655 [649.1 s]\n",
      "13\n",
      "Epoch 1/1\n",
      "35519/35519 [==============================] - 6278s 177ms/step - loss: 0.5683 - val_loss: 0.5727\n",
      "Iteration 13 [6292.2 s]: Loss = 0.5683, Validation UROC = 0.6648 [647.2 s]\n",
      "14\n",
      "Epoch 1/1\n",
      "15393/35519 [============>.................] - ETA: 59:22 - loss: 0.5684"
     ]
    },
    {
     "name": "stderr",
     "output_type": "stream",
     "text": [
      "IOPub message rate exceeded.\n",
      "The notebook server will temporarily stop sending output\n",
      "to the client in order to avoid crashing it.\n",
      "To change this limit, set the config variable\n",
      "`--NotebookApp.iopub_msg_rate_limit`.\n",
      "\n",
      "Current values:\n",
      "NotebookApp.iopub_msg_rate_limit=1000.0 (msgs/sec)\n",
      "NotebookApp.rate_limit_window=3.0 (secs)\n",
      "\n"
     ]
    },
    {
     "name": "stdout",
     "output_type": "stream",
     "text": [
      "35519/35519 [==============================] - 6259s 176ms/step - loss: 0.5683 - val_loss: 0.5731\n",
      "Iteration 14 [6273.2 s]: Loss = 0.5683, Validation UROC = 0.6632 [647.2 s]\n",
      "15\n",
      "Epoch 1/1\n",
      "35519/35519 [==============================] - 6258s 176ms/step - loss: 0.5682 - val_loss: 0.5601\n",
      "Iteration 15 [6271.7 s]: Loss = 0.5682, Validation UROC = 0.6623 [651.9 s]\n",
      "16\n",
      "Epoch 1/1\n",
      "35519/35519 [==============================] - 6280s 177ms/step - loss: 0.5682 - val_loss: 0.5794\n",
      "Iteration 16 [6294.1 s]: Loss = 0.5682, Validation UROC = 0.6634 [650.1 s]\n",
      "17\n",
      "Epoch 1/1\n",
      "25492/35519 [====================>.........] - ETA: 29:10 - loss: 0.5681"
     ]
    },
    {
     "name": "stderr",
     "output_type": "stream",
     "text": [
      "IOPub message rate exceeded.\n",
      "The notebook server will temporarily stop sending output\n",
      "to the client in order to avoid crashing it.\n",
      "To change this limit, set the config variable\n",
      "`--NotebookApp.iopub_msg_rate_limit`.\n",
      "\n",
      "Current values:\n",
      "NotebookApp.iopub_msg_rate_limit=1000.0 (msgs/sec)\n",
      "NotebookApp.rate_limit_window=3.0 (secs)\n",
      "\n"
     ]
    },
    {
     "name": "stdout",
     "output_type": "stream",
     "text": [
      "31969/35519 [==========================>...] - ETA: 10:23 - loss: 0.5682"
     ]
    },
    {
     "name": "stderr",
     "output_type": "stream",
     "text": [
      "IOPub message rate exceeded.\n",
      "The notebook server will temporarily stop sending output\n",
      "to the client in order to avoid crashing it.\n",
      "To change this limit, set the config variable\n",
      "`--NotebookApp.iopub_msg_rate_limit`.\n",
      "\n",
      "Current values:\n",
      "NotebookApp.iopub_msg_rate_limit=1000.0 (msgs/sec)\n",
      "NotebookApp.rate_limit_window=3.0 (secs)\n",
      "\n"
     ]
    },
    {
     "name": "stdout",
     "output_type": "stream",
     "text": [
      " 3174/35519 [=>............................] - ETA: 1:34:55 - loss: 0.5686"
     ]
    },
    {
     "name": "stderr",
     "output_type": "stream",
     "text": [
      "IOPub message rate exceeded.\n",
      "The notebook server will temporarily stop sending output\n",
      "to the client in order to avoid crashing it.\n",
      "To change this limit, set the config variable\n",
      "`--NotebookApp.iopub_msg_rate_limit`.\n",
      "\n",
      "Current values:\n",
      "NotebookApp.iopub_msg_rate_limit=1000.0 (msgs/sec)\n",
      "NotebookApp.rate_limit_window=3.0 (secs)\n",
      "\n"
     ]
    },
    {
     "name": "stdout",
     "output_type": "stream",
     "text": [
      " 9655/35519 [=======>......................] - ETA: 1:15:54 - loss: 0.5686"
     ]
    },
    {
     "name": "stderr",
     "output_type": "stream",
     "text": [
      "IOPub message rate exceeded.\n",
      "The notebook server will temporarily stop sending output\n",
      "to the client in order to avoid crashing it.\n",
      "To change this limit, set the config variable\n",
      "`--NotebookApp.iopub_msg_rate_limit`.\n",
      "\n",
      "Current values:\n",
      "NotebookApp.iopub_msg_rate_limit=1000.0 (msgs/sec)\n",
      "NotebookApp.rate_limit_window=3.0 (secs)\n",
      "\n"
     ]
    },
    {
     "name": "stdout",
     "output_type": "stream",
     "text": [
      "13849/35519 [==========>...................] - ETA: 1:03:36 - loss: 0.5686"
     ]
    },
    {
     "name": "stderr",
     "output_type": "stream",
     "text": [
      "IOPub message rate exceeded.\n",
      "The notebook server will temporarily stop sending output\n",
      "to the client in order to avoid crashing it.\n",
      "To change this limit, set the config variable\n",
      "`--NotebookApp.iopub_msg_rate_limit`.\n",
      "\n",
      "Current values:\n",
      "NotebookApp.iopub_msg_rate_limit=1000.0 (msgs/sec)\n",
      "NotebookApp.rate_limit_window=3.0 (secs)\n",
      "\n"
     ]
    },
    {
     "name": "stdout",
     "output_type": "stream",
     "text": [
      "16187/35519 [============>.................] - ETA: 56:29 - loss: 0.5685"
     ]
    },
    {
     "name": "stderr",
     "output_type": "stream",
     "text": [
      "IOPub message rate exceeded.\n",
      "The notebook server will temporarily stop sending output\n",
      "to the client in order to avoid crashing it.\n",
      "To change this limit, set the config variable\n",
      "`--NotebookApp.iopub_msg_rate_limit`.\n",
      "\n",
      "Current values:\n",
      "NotebookApp.iopub_msg_rate_limit=1000.0 (msgs/sec)\n",
      "NotebookApp.rate_limit_window=3.0 (secs)\n",
      "\n"
     ]
    },
    {
     "name": "stdout",
     "output_type": "stream",
     "text": [
      "19821/35519 [===============>..............] - ETA: 45:39 - loss: 0.5684"
     ]
    },
    {
     "name": "stderr",
     "output_type": "stream",
     "text": [
      "IOPub message rate exceeded.\n",
      "The notebook server will temporarily stop sending output\n",
      "to the client in order to avoid crashing it.\n",
      "To change this limit, set the config variable\n",
      "`--NotebookApp.iopub_msg_rate_limit`.\n",
      "\n",
      "Current values:\n",
      "NotebookApp.iopub_msg_rate_limit=1000.0 (msgs/sec)\n",
      "NotebookApp.rate_limit_window=3.0 (secs)\n",
      "\n"
     ]
    },
    {
     "name": "stdout",
     "output_type": "stream",
     "text": [
      "22103/35519 [=================>............] - ETA: 38:56 - loss: 0.5683"
     ]
    },
    {
     "name": "stderr",
     "output_type": "stream",
     "text": [
      "IOPub message rate exceeded.\n",
      "The notebook server will temporarily stop sending output\n",
      "to the client in order to avoid crashing it.\n",
      "To change this limit, set the config variable\n",
      "`--NotebookApp.iopub_msg_rate_limit`.\n",
      "\n",
      "Current values:\n",
      "NotebookApp.iopub_msg_rate_limit=1000.0 (msgs/sec)\n",
      "NotebookApp.rate_limit_window=3.0 (secs)\n",
      "\n"
     ]
    },
    {
     "name": "stdout",
     "output_type": "stream",
     "text": [
      "27546/35519 [======================>.......] - ETA: 23:03 - loss: 0.5683"
     ]
    },
    {
     "name": "stderr",
     "output_type": "stream",
     "text": [
      "IOPub message rate exceeded.\n",
      "The notebook server will temporarily stop sending output\n",
      "to the client in order to avoid crashing it.\n",
      "To change this limit, set the config variable\n",
      "`--NotebookApp.iopub_msg_rate_limit`.\n",
      "\n",
      "Current values:\n",
      "NotebookApp.iopub_msg_rate_limit=1000.0 (msgs/sec)\n",
      "NotebookApp.rate_limit_window=3.0 (secs)\n",
      "\n"
     ]
    },
    {
     "name": "stdout",
     "output_type": "stream",
     "text": [
      "33733/35519 [===========================>..] - ETA: 5:12 - loss: 0.5682"
     ]
    },
    {
     "name": "stderr",
     "output_type": "stream",
     "text": [
      "IOPub message rate exceeded.\n",
      "The notebook server will temporarily stop sending output\n",
      "to the client in order to avoid crashing it.\n",
      "To change this limit, set the config variable\n",
      "`--NotebookApp.iopub_msg_rate_limit`.\n",
      "\n",
      "Current values:\n",
      "NotebookApp.iopub_msg_rate_limit=1000.0 (msgs/sec)\n",
      "NotebookApp.rate_limit_window=3.0 (secs)\n",
      "\n"
     ]
    },
    {
     "name": "stdout",
     "output_type": "stream",
     "text": [
      " 4598/35519 [==>...........................] - ETA: 1:30:07 - loss: 0.5686"
     ]
    },
    {
     "name": "stderr",
     "output_type": "stream",
     "text": [
      "IOPub message rate exceeded.\n",
      "The notebook server will temporarily stop sending output\n",
      "to the client in order to avoid crashing it.\n",
      "To change this limit, set the config variable\n",
      "`--NotebookApp.iopub_msg_rate_limit`.\n",
      "\n",
      "Current values:\n",
      "NotebookApp.iopub_msg_rate_limit=1000.0 (msgs/sec)\n",
      "NotebookApp.rate_limit_window=3.0 (secs)\n",
      "\n"
     ]
    },
    {
     "name": "stdout",
     "output_type": "stream",
     "text": [
      "10850/35519 [========>.....................] - ETA: 1:12:27 - loss: 0.5686"
     ]
    },
    {
     "name": "stderr",
     "output_type": "stream",
     "text": [
      "IOPub message rate exceeded.\n",
      "The notebook server will temporarily stop sending output\n",
      "to the client in order to avoid crashing it.\n",
      "To change this limit, set the config variable\n",
      "`--NotebookApp.iopub_msg_rate_limit`.\n",
      "\n",
      "Current values:\n",
      "NotebookApp.iopub_msg_rate_limit=1000.0 (msgs/sec)\n",
      "NotebookApp.rate_limit_window=3.0 (secs)\n",
      "\n"
     ]
    },
    {
     "name": "stdout",
     "output_type": "stream",
     "text": [
      "17368/35519 [=============>................] - ETA: 52:58 - loss: 0.5683"
     ]
    },
    {
     "name": "stderr",
     "output_type": "stream",
     "text": [
      "IOPub message rate exceeded.\n",
      "The notebook server will temporarily stop sending output\n",
      "to the client in order to avoid crashing it.\n",
      "To change this limit, set the config variable\n",
      "`--NotebookApp.iopub_msg_rate_limit`.\n",
      "\n",
      "Current values:\n",
      "NotebookApp.iopub_msg_rate_limit=1000.0 (msgs/sec)\n",
      "NotebookApp.rate_limit_window=3.0 (secs)\n",
      "\n"
     ]
    },
    {
     "name": "stdout",
     "output_type": "stream",
     "text": [
      "23755/35519 [===================>..........] - ETA: 34:05 - loss: 0.5682"
     ]
    },
    {
     "name": "stderr",
     "output_type": "stream",
     "text": [
      "IOPub message rate exceeded.\n",
      "The notebook server will temporarily stop sending output\n",
      "to the client in order to avoid crashing it.\n",
      "To change this limit, set the config variable\n",
      "`--NotebookApp.iopub_msg_rate_limit`.\n",
      "\n",
      "Current values:\n",
      "NotebookApp.iopub_msg_rate_limit=1000.0 (msgs/sec)\n",
      "NotebookApp.rate_limit_window=3.0 (secs)\n",
      "\n"
     ]
    },
    {
     "name": "stdout",
     "output_type": "stream",
     "text": [
      "28525/35519 [=======================>......] - ETA: 20:13 - loss: 0.5682"
     ]
    },
    {
     "name": "stderr",
     "output_type": "stream",
     "text": [
      "IOPub message rate exceeded.\n",
      "The notebook server will temporarily stop sending output\n",
      "to the client in order to avoid crashing it.\n",
      "To change this limit, set the config variable\n",
      "`--NotebookApp.iopub_msg_rate_limit`.\n",
      "\n",
      "Current values:\n",
      "NotebookApp.iopub_msg_rate_limit=1000.0 (msgs/sec)\n",
      "NotebookApp.rate_limit_window=3.0 (secs)\n",
      "\n"
     ]
    },
    {
     "name": "stdout",
     "output_type": "stream",
     "text": [
      "35117/35519 [============================>.] - ETA: 1:10 - loss: 0.5681"
     ]
    },
    {
     "name": "stderr",
     "output_type": "stream",
     "text": [
      "IOPub message rate exceeded.\n",
      "The notebook server will temporarily stop sending output\n",
      "to the client in order to avoid crashing it.\n",
      "To change this limit, set the config variable\n",
      "`--NotebookApp.iopub_msg_rate_limit`.\n",
      "\n",
      "Current values:\n",
      "NotebookApp.iopub_msg_rate_limit=1000.0 (msgs/sec)\n",
      "NotebookApp.rate_limit_window=3.0 (secs)\n",
      "\n"
     ]
    },
    {
     "name": "stdout",
     "output_type": "stream",
     "text": [
      " 5955/35519 [====>.........................] - ETA: 1:25:36 - loss: 0.5677"
     ]
    },
    {
     "name": "stderr",
     "output_type": "stream",
     "text": [
      "IOPub message rate exceeded.\n",
      "The notebook server will temporarily stop sending output\n",
      "to the client in order to avoid crashing it.\n",
      "To change this limit, set the config variable\n",
      "`--NotebookApp.iopub_msg_rate_limit`.\n",
      "\n",
      "Current values:\n",
      "NotebookApp.iopub_msg_rate_limit=1000.0 (msgs/sec)\n",
      "NotebookApp.rate_limit_window=3.0 (secs)\n",
      "\n"
     ]
    },
    {
     "name": "stdout",
     "output_type": "stream",
     "text": [
      "35519/35519 [==============================] - 6219s 175ms/step - loss: 0.5681 - val_loss: 0.5897\n",
      "Iteration 20 [6232.5 s]: Loss = 0.5681, Validation UROC = 0.6641 [653.3 s]\n",
      "21\n",
      "Epoch 1/1\n",
      "35519/35519 [==============================] - 6208s 175ms/step - loss: 0.5681 - val_loss: 0.5571\n",
      "Iteration 21 [6222.2 s]: Loss = 0.5681, Validation UROC = 0.6644 [654.5 s]\n",
      "22\n",
      "Epoch 1/1\n",
      "35519/35519 [==============================] - 6602s 186ms/step - loss: 0.5681 - val_loss: 0.6069\n",
      "Iteration 22 [6616.0 s]: Loss = 0.5681, Validation UROC = 0.6631 [644.7 s]\n",
      "23\n",
      "Epoch 1/1\n",
      "35519/35519 [==============================] - 8787s 247ms/step - loss: 0.5681 - val_loss: 0.5716\n",
      "Iteration 23 [8800.3 s]: Loss = 0.5681, Validation UROC = 0.6623 [784.3 s]\n",
      "24\n",
      "Epoch 1/1\n",
      "35519/35519 [==============================] - 8829s 249ms/step - loss: 0.5680 - val_loss: 0.6271\n",
      "Iteration 24 [8844.9 s]: Loss = 0.5680, Validation UROC = 0.6610 [843.6 s]\n",
      "25\n",
      "Epoch 1/1\n",
      "35519/35519 [==============================] - 8821s 248ms/step - loss: 0.5681 - val_loss: 0.5660\n",
      "Iteration 25 [8838.7 s]: Loss = 0.5681, Validation UROC = 0.6646 [859.1 s]\n",
      "26\n",
      "Epoch 1/1\n",
      "35519/35519 [==============================] - 8760s 247ms/step - loss: 0.5680 - val_loss: 0.6020\n",
      "Iteration 26 [8778.1 s]: Loss = 0.5680, Validation UROC = 0.6619 [859.2 s]\n",
      "27\n",
      "Epoch 1/1\n",
      "35519/35519 [==============================] - 8378s 236ms/step - loss: 0.5680 - val_loss: 0.6056\n",
      "Iteration 27 [8396.3 s]: Loss = 0.5680, Validation UROC = 0.6629 [861.0 s]\n",
      "28\n",
      "Epoch 1/1\n",
      "11775/35519 [========>.....................] - ETA: 1:37:27 - loss: 0.5682"
     ]
    },
    {
     "name": "stderr",
     "output_type": "stream",
     "text": [
      "IOPub message rate exceeded.\n",
      "The notebook server will temporarily stop sending output\n",
      "to the client in order to avoid crashing it.\n",
      "To change this limit, set the config variable\n",
      "`--NotebookApp.iopub_msg_rate_limit`.\n",
      "\n",
      "Current values:\n",
      "NotebookApp.iopub_msg_rate_limit=1000.0 (msgs/sec)\n",
      "NotebookApp.rate_limit_window=3.0 (secs)\n",
      "\n"
     ]
    },
    {
     "name": "stdout",
     "output_type": "stream",
     "text": [
      "17283/35519 [=============>................] - ETA: 1:15:23 - loss: 0.5682"
     ]
    },
    {
     "name": "stderr",
     "output_type": "stream",
     "text": [
      "IOPub message rate exceeded.\n",
      "The notebook server will temporarily stop sending output\n",
      "to the client in order to avoid crashing it.\n",
      "To change this limit, set the config variable\n",
      "`--NotebookApp.iopub_msg_rate_limit`.\n",
      "\n",
      "Current values:\n",
      "NotebookApp.iopub_msg_rate_limit=1000.0 (msgs/sec)\n",
      "NotebookApp.rate_limit_window=3.0 (secs)\n",
      "\n"
     ]
    },
    {
     "name": "stdout",
     "output_type": "stream",
     "text": [
      "22627/35519 [==================>...........] - ETA: 52:57 - loss: 0.5680"
     ]
    },
    {
     "name": "stderr",
     "output_type": "stream",
     "text": [
      "IOPub message rate exceeded.\n",
      "The notebook server will temporarily stop sending output\n",
      "to the client in order to avoid crashing it.\n",
      "To change this limit, set the config variable\n",
      "`--NotebookApp.iopub_msg_rate_limit`.\n",
      "\n",
      "Current values:\n",
      "NotebookApp.iopub_msg_rate_limit=1000.0 (msgs/sec)\n",
      "NotebookApp.rate_limit_window=3.0 (secs)\n",
      "\n"
     ]
    },
    {
     "name": "stdout",
     "output_type": "stream",
     "text": [
      "27596/35519 [======================>.......] - ETA: 32:28 - loss: 0.5680"
     ]
    },
    {
     "name": "stderr",
     "output_type": "stream",
     "text": [
      "IOPub message rate exceeded.\n",
      "The notebook server will temporarily stop sending output\n",
      "to the client in order to avoid crashing it.\n",
      "To change this limit, set the config variable\n",
      "`--NotebookApp.iopub_msg_rate_limit`.\n",
      "\n",
      "Current values:\n",
      "NotebookApp.iopub_msg_rate_limit=1000.0 (msgs/sec)\n",
      "NotebookApp.rate_limit_window=3.0 (secs)\n",
      "\n"
     ]
    },
    {
     "name": "stdout",
     "output_type": "stream",
     "text": [
      "34094/35519 [===========================>..] - ETA: 5:52 - loss: 0.5679"
     ]
    },
    {
     "name": "stderr",
     "output_type": "stream",
     "text": [
      "IOPub message rate exceeded.\n",
      "The notebook server will temporarily stop sending output\n",
      "to the client in order to avoid crashing it.\n",
      "To change this limit, set the config variable\n",
      "`--NotebookApp.iopub_msg_rate_limit`.\n",
      "\n",
      "Current values:\n",
      "NotebookApp.iopub_msg_rate_limit=1000.0 (msgs/sec)\n",
      "NotebookApp.rate_limit_window=3.0 (secs)\n",
      "\n"
     ]
    },
    {
     "name": "stdout",
     "output_type": "stream",
     "text": [
      " 3587/35519 [==>...........................] - ETA: 2:11:23 - loss: 0.5674"
     ]
    },
    {
     "name": "stderr",
     "output_type": "stream",
     "text": [
      "IOPub message rate exceeded.\n",
      "The notebook server will temporarily stop sending output\n",
      "to the client in order to avoid crashing it.\n",
      "To change this limit, set the config variable\n",
      "`--NotebookApp.iopub_msg_rate_limit`.\n",
      "\n",
      "Current values:\n",
      "NotebookApp.iopub_msg_rate_limit=1000.0 (msgs/sec)\n",
      "NotebookApp.rate_limit_window=3.0 (secs)\n",
      "\n"
     ]
    },
    {
     "name": "stdout",
     "output_type": "stream",
     "text": [
      " 8557/35519 [======>.......................] - ETA: 1:49:15 - loss: 0.5679"
     ]
    },
    {
     "name": "stderr",
     "output_type": "stream",
     "text": [
      "IOPub message rate exceeded.\n",
      "The notebook server will temporarily stop sending output\n",
      "to the client in order to avoid crashing it.\n",
      "To change this limit, set the config variable\n",
      "`--NotebookApp.iopub_msg_rate_limit`.\n",
      "\n",
      "Current values:\n",
      "NotebookApp.iopub_msg_rate_limit=1000.0 (msgs/sec)\n",
      "NotebookApp.rate_limit_window=3.0 (secs)\n",
      "\n"
     ]
    },
    {
     "name": "stdout",
     "output_type": "stream",
     "text": [
      "14041/35519 [==========>...................] - ETA: 1:28:34 - loss: 0.5682"
     ]
    },
    {
     "name": "stderr",
     "output_type": "stream",
     "text": [
      "IOPub message rate exceeded.\n",
      "The notebook server will temporarily stop sending output\n",
      "to the client in order to avoid crashing it.\n",
      "To change this limit, set the config variable\n",
      "`--NotebookApp.iopub_msg_rate_limit`.\n",
      "\n",
      "Current values:\n",
      "NotebookApp.iopub_msg_rate_limit=1000.0 (msgs/sec)\n",
      "NotebookApp.rate_limit_window=3.0 (secs)\n",
      "\n"
     ]
    },
    {
     "name": "stdout",
     "output_type": "stream",
     "text": [
      "19306/35519 [===============>..............] - ETA: 1:06:34 - loss: 0.5682"
     ]
    },
    {
     "name": "stderr",
     "output_type": "stream",
     "text": [
      "IOPub message rate exceeded.\n",
      "The notebook server will temporarily stop sending output\n",
      "to the client in order to avoid crashing it.\n",
      "To change this limit, set the config variable\n",
      "`--NotebookApp.iopub_msg_rate_limit`.\n",
      "\n",
      "Current values:\n",
      "NotebookApp.iopub_msg_rate_limit=1000.0 (msgs/sec)\n",
      "NotebookApp.rate_limit_window=3.0 (secs)\n",
      "\n"
     ]
    },
    {
     "name": "stdout",
     "output_type": "stream",
     "text": [
      "24431/35519 [===================>..........] - ETA: 45:17 - loss: 0.5682"
     ]
    },
    {
     "name": "stderr",
     "output_type": "stream",
     "text": [
      "IOPub message rate exceeded.\n",
      "The notebook server will temporarily stop sending output\n",
      "to the client in order to avoid crashing it.\n",
      "To change this limit, set the config variable\n",
      "`--NotebookApp.iopub_msg_rate_limit`.\n",
      "\n",
      "Current values:\n",
      "NotebookApp.iopub_msg_rate_limit=1000.0 (msgs/sec)\n",
      "NotebookApp.rate_limit_window=3.0 (secs)\n",
      "\n"
     ]
    },
    {
     "name": "stdout",
     "output_type": "stream",
     "text": [
      "29494/35519 [=======================>......] - ETA: 24:46 - loss: 0.5681"
     ]
    },
    {
     "name": "stderr",
     "output_type": "stream",
     "text": [
      "IOPub message rate exceeded.\n",
      "The notebook server will temporarily stop sending output\n",
      "to the client in order to avoid crashing it.\n",
      "To change this limit, set the config variable\n",
      "`--NotebookApp.iopub_msg_rate_limit`.\n",
      "\n",
      "Current values:\n",
      "NotebookApp.iopub_msg_rate_limit=1000.0 (msgs/sec)\n",
      "NotebookApp.rate_limit_window=3.0 (secs)\n",
      "\n"
     ]
    },
    {
     "name": "stdout",
     "output_type": "stream",
     "text": [
      "34494/35519 [============================>.] - ETA: 4:13 - loss: 0.5680"
     ]
    },
    {
     "name": "stderr",
     "output_type": "stream",
     "text": [
      "IOPub message rate exceeded.\n",
      "The notebook server will temporarily stop sending output\n",
      "to the client in order to avoid crashing it.\n",
      "To change this limit, set the config variable\n",
      "`--NotebookApp.iopub_msg_rate_limit`.\n",
      "\n",
      "Current values:\n",
      "NotebookApp.iopub_msg_rate_limit=1000.0 (msgs/sec)\n",
      "NotebookApp.rate_limit_window=3.0 (secs)\n",
      "\n"
     ]
    },
    {
     "name": "stdout",
     "output_type": "stream",
     "text": [
      " 4096/35519 [==>...........................] - ETA: 2:08:30 - loss: 0.5677"
     ]
    },
    {
     "name": "stderr",
     "output_type": "stream",
     "text": [
      "IOPub message rate exceeded.\n",
      "The notebook server will temporarily stop sending output\n",
      "to the client in order to avoid crashing it.\n",
      "To change this limit, set the config variable\n",
      "`--NotebookApp.iopub_msg_rate_limit`.\n",
      "\n",
      "Current values:\n",
      "NotebookApp.iopub_msg_rate_limit=1000.0 (msgs/sec)\n",
      "NotebookApp.rate_limit_window=3.0 (secs)\n",
      "\n"
     ]
    },
    {
     "name": "stdout",
     "output_type": "stream",
     "text": [
      " 5881/35519 [===>..........................] - ETA: 2:00:22 - loss: 0.5682"
     ]
    },
    {
     "name": "stderr",
     "output_type": "stream",
     "text": [
      "IOPub message rate exceeded.\n",
      "The notebook server will temporarily stop sending output\n",
      "to the client in order to avoid crashing it.\n",
      "To change this limit, set the config variable\n",
      "`--NotebookApp.iopub_msg_rate_limit`.\n",
      "\n",
      "Current values:\n",
      "NotebookApp.iopub_msg_rate_limit=1000.0 (msgs/sec)\n",
      "NotebookApp.rate_limit_window=3.0 (secs)\n",
      "\n"
     ]
    },
    {
     "name": "stdout",
     "output_type": "stream",
     "text": [
      " 9293/35519 [======>.......................] - ETA: 1:45:30 - loss: 0.5680"
     ]
    },
    {
     "name": "stderr",
     "output_type": "stream",
     "text": [
      "IOPub message rate exceeded.\n",
      "The notebook server will temporarily stop sending output\n",
      "to the client in order to avoid crashing it.\n",
      "To change this limit, set the config variable\n",
      "`--NotebookApp.iopub_msg_rate_limit`.\n",
      "\n",
      "Current values:\n",
      "NotebookApp.iopub_msg_rate_limit=1000.0 (msgs/sec)\n",
      "NotebookApp.rate_limit_window=3.0 (secs)\n",
      "\n"
     ]
    },
    {
     "name": "stdout",
     "output_type": "stream",
     "text": [
      "11487/35519 [========>.....................] - ETA: 1:37:13 - loss: 0.5680"
     ]
    },
    {
     "name": "stderr",
     "output_type": "stream",
     "text": [
      "IOPub message rate exceeded.\n",
      "The notebook server will temporarily stop sending output\n",
      "to the client in order to avoid crashing it.\n",
      "To change this limit, set the config variable\n",
      "`--NotebookApp.iopub_msg_rate_limit`.\n",
      "\n",
      "Current values:\n",
      "NotebookApp.iopub_msg_rate_limit=1000.0 (msgs/sec)\n",
      "NotebookApp.rate_limit_window=3.0 (secs)\n",
      "\n"
     ]
    },
    {
     "name": "stdout",
     "output_type": "stream",
     "text": [
      "14549/35519 [===========>..................] - ETA: 1:26:09 - loss: 0.5682"
     ]
    },
    {
     "name": "stderr",
     "output_type": "stream",
     "text": [
      "IOPub message rate exceeded.\n",
      "The notebook server will temporarily stop sending output\n",
      "to the client in order to avoid crashing it.\n",
      "To change this limit, set the config variable\n",
      "`--NotebookApp.iopub_msg_rate_limit`.\n",
      "\n",
      "Current values:\n",
      "NotebookApp.iopub_msg_rate_limit=1000.0 (msgs/sec)\n",
      "NotebookApp.rate_limit_window=3.0 (secs)\n",
      "\n"
     ]
    },
    {
     "name": "stdout",
     "output_type": "stream",
     "text": [
      "16468/35519 [============>.................] - ETA: 1:18:19 - loss: 0.5682"
     ]
    },
    {
     "name": "stderr",
     "output_type": "stream",
     "text": [
      "IOPub message rate exceeded.\n",
      "The notebook server will temporarily stop sending output\n",
      "to the client in order to avoid crashing it.\n",
      "To change this limit, set the config variable\n",
      "`--NotebookApp.iopub_msg_rate_limit`.\n",
      "\n",
      "Current values:\n",
      "NotebookApp.iopub_msg_rate_limit=1000.0 (msgs/sec)\n",
      "NotebookApp.rate_limit_window=3.0 (secs)\n",
      "\n"
     ]
    },
    {
     "name": "stdout",
     "output_type": "stream",
     "text": [
      "19475/35519 [===============>..............] - ETA: 1:05:25 - loss: 0.5682"
     ]
    },
    {
     "name": "stderr",
     "output_type": "stream",
     "text": [
      "IOPub message rate exceeded.\n",
      "The notebook server will temporarily stop sending output\n",
      "to the client in order to avoid crashing it.\n",
      "To change this limit, set the config variable\n",
      "`--NotebookApp.iopub_msg_rate_limit`.\n",
      "\n",
      "Current values:\n",
      "NotebookApp.iopub_msg_rate_limit=1000.0 (msgs/sec)\n",
      "NotebookApp.rate_limit_window=3.0 (secs)\n",
      "\n"
     ]
    },
    {
     "name": "stdout",
     "output_type": "stream",
     "text": [
      "21254/35519 [================>.............] - ETA: 58:05 - loss: 0.5681"
     ]
    },
    {
     "name": "stderr",
     "output_type": "stream",
     "text": [
      "IOPub message rate exceeded.\n",
      "The notebook server will temporarily stop sending output\n",
      "to the client in order to avoid crashing it.\n",
      "To change this limit, set the config variable\n",
      "`--NotebookApp.iopub_msg_rate_limit`.\n",
      "\n",
      "Current values:\n",
      "NotebookApp.iopub_msg_rate_limit=1000.0 (msgs/sec)\n",
      "NotebookApp.rate_limit_window=3.0 (secs)\n",
      "\n"
     ]
    },
    {
     "name": "stdout",
     "output_type": "stream",
     "text": [
      "24284/35519 [===================>..........] - ETA: 45:40 - loss: 0.5681"
     ]
    },
    {
     "name": "stderr",
     "output_type": "stream",
     "text": [
      "IOPub message rate exceeded.\n",
      "The notebook server will temporarily stop sending output\n",
      "to the client in order to avoid crashing it.\n",
      "To change this limit, set the config variable\n",
      "`--NotebookApp.iopub_msg_rate_limit`.\n",
      "\n",
      "Current values:\n",
      "NotebookApp.iopub_msg_rate_limit=1000.0 (msgs/sec)\n",
      "NotebookApp.rate_limit_window=3.0 (secs)\n",
      "\n"
     ]
    },
    {
     "name": "stdout",
     "output_type": "stream",
     "text": [
      "26422/35519 [=====================>........] - ETA: 36:56 - loss: 0.5682"
     ]
    },
    {
     "name": "stderr",
     "output_type": "stream",
     "text": [
      "IOPub message rate exceeded.\n",
      "The notebook server will temporarily stop sending output\n",
      "to the client in order to avoid crashing it.\n",
      "To change this limit, set the config variable\n",
      "`--NotebookApp.iopub_msg_rate_limit`.\n",
      "\n",
      "Current values:\n",
      "NotebookApp.iopub_msg_rate_limit=1000.0 (msgs/sec)\n",
      "NotebookApp.rate_limit_window=3.0 (secs)\n",
      "\n"
     ]
    },
    {
     "name": "stdout",
     "output_type": "stream",
     "text": [
      "35519/35519 [==============================] - 8729s 246ms/step - loss: 0.5680 - val_loss: 0.5884\n",
      "Iteration 30 [8746.6 s]: Loss = 0.5680, Validation UROC = 0.6635 [812.0 s]\n",
      "31\n",
      "Epoch 1/1\n",
      "35519/35519 [==============================] - 8011s 226ms/step - loss: 0.5680 - val_loss: 0.5728\n",
      "Iteration 31 [8028.8 s]: Loss = 0.5680, Validation UROC = 0.6624 [810.7 s]\n",
      "32\n",
      "Epoch 1/1\n",
      "35519/35519 [==============================] - 7921s 223ms/step - loss: 0.5680 - val_loss: 0.5164\n",
      "Iteration 32 [7939.1 s]: Loss = 0.5680, Validation UROC = 0.6638 [793.6 s]\n",
      "33\n",
      "Epoch 1/1\n",
      "35519/35519 [==============================] - 7958s 224ms/step - loss: 0.5679 - val_loss: 0.5676\n",
      "Iteration 33 [7975.1 s]: Loss = 0.5679, Validation UROC = 0.6640 [821.9 s]\n",
      "34\n",
      "Epoch 1/1\n",
      "35519/35519 [==============================] - 7792s 219ms/step - loss: 0.5679 - val_loss: 0.6164\n",
      "Iteration 34 [7807.8 s]: Loss = 0.5679, Validation UROC = 0.6613 [811.7 s]\n",
      "35\n",
      "Epoch 1/1\n",
      "35519/35519 [==============================] - 7905s 223ms/step - loss: 0.5679 - val_loss: 0.5336\n",
      "Iteration 35 [7921.2 s]: Loss = 0.5679, Validation UROC = 0.6650 [814.7 s]\n",
      "36\n",
      "Epoch 1/1\n",
      "35519/35519 [==============================] - 7382s 208ms/step - loss: 0.5679 - val_loss: 0.6295\n",
      "Iteration 36 [7399.5 s]: Loss = 0.5679, Validation UROC = 0.6639 [820.1 s]\n",
      "37\n",
      "Epoch 1/1\n",
      "35519/35519 [==============================] - 7605s 214ms/step - loss: 0.5679 - val_loss: 0.5730\n",
      "Iteration 37 [7621.7 s]: Loss = 0.5679, Validation UROC = 0.6655 [791.9 s]\n",
      "38\n",
      "Epoch 1/1\n",
      " 2994/35519 [=>............................] - ETA: 2:02:45 - loss: 0.5687"
     ]
    },
    {
     "name": "stderr",
     "output_type": "stream",
     "text": [
      "IOPub message rate exceeded.\n",
      "The notebook server will temporarily stop sending output\n",
      "to the client in order to avoid crashing it.\n",
      "To change this limit, set the config variable\n",
      "`--NotebookApp.iopub_msg_rate_limit`.\n",
      "\n",
      "Current values:\n",
      "NotebookApp.iopub_msg_rate_limit=1000.0 (msgs/sec)\n",
      "NotebookApp.rate_limit_window=3.0 (secs)\n",
      "\n"
     ]
    },
    {
     "name": "stdout",
     "output_type": "stream",
     "text": [
      " 8839/35519 [======>.......................] - ETA: 1:37:36 - loss: 0.5680"
     ]
    },
    {
     "name": "stderr",
     "output_type": "stream",
     "text": [
      "IOPub message rate exceeded.\n",
      "The notebook server will temporarily stop sending output\n",
      "to the client in order to avoid crashing it.\n",
      "To change this limit, set the config variable\n",
      "`--NotebookApp.iopub_msg_rate_limit`.\n",
      "\n",
      "Current values:\n",
      "NotebookApp.iopub_msg_rate_limit=1000.0 (msgs/sec)\n",
      "NotebookApp.rate_limit_window=3.0 (secs)\n",
      "\n"
     ]
    },
    {
     "name": "stdout",
     "output_type": "stream",
     "text": [
      "14893/35519 [===========>..................] - ETA: 1:15:44 - loss: 0.5679"
     ]
    },
    {
     "name": "stderr",
     "output_type": "stream",
     "text": [
      "IOPub message rate exceeded.\n",
      "The notebook server will temporarily stop sending output\n",
      "to the client in order to avoid crashing it.\n",
      "To change this limit, set the config variable\n",
      "`--NotebookApp.iopub_msg_rate_limit`.\n",
      "\n",
      "Current values:\n",
      "NotebookApp.iopub_msg_rate_limit=1000.0 (msgs/sec)\n",
      "NotebookApp.rate_limit_window=3.0 (secs)\n",
      "\n"
     ]
    },
    {
     "name": "stdout",
     "output_type": "stream",
     "text": [
      "20982/35519 [================>.............] - ETA: 53:51 - loss: 0.5679"
     ]
    },
    {
     "name": "stderr",
     "output_type": "stream",
     "text": [
      "IOPub message rate exceeded.\n",
      "The notebook server will temporarily stop sending output\n",
      "to the client in order to avoid crashing it.\n",
      "To change this limit, set the config variable\n",
      "`--NotebookApp.iopub_msg_rate_limit`.\n",
      "\n",
      "Current values:\n",
      "NotebookApp.iopub_msg_rate_limit=1000.0 (msgs/sec)\n",
      "NotebookApp.rate_limit_window=3.0 (secs)\n",
      "\n"
     ]
    },
    {
     "name": "stdout",
     "output_type": "stream",
     "text": [
      "27151/35519 [=====================>........] - ETA: 30:49 - loss: 0.5679"
     ]
    },
    {
     "name": "stderr",
     "output_type": "stream",
     "text": [
      "IOPub message rate exceeded.\n",
      "The notebook server will temporarily stop sending output\n",
      "to the client in order to avoid crashing it.\n",
      "To change this limit, set the config variable\n",
      "`--NotebookApp.iopub_msg_rate_limit`.\n",
      "\n",
      "Current values:\n",
      "NotebookApp.iopub_msg_rate_limit=1000.0 (msgs/sec)\n",
      "NotebookApp.rate_limit_window=3.0 (secs)\n",
      "\n"
     ]
    },
    {
     "name": "stdout",
     "output_type": "stream",
     "text": [
      "33639/35519 [===========================>..] - ETA: 6:58 - loss: 0.5679"
     ]
    },
    {
     "name": "stderr",
     "output_type": "stream",
     "text": [
      "IOPub message rate exceeded.\n",
      "The notebook server will temporarily stop sending output\n",
      "to the client in order to avoid crashing it.\n",
      "To change this limit, set the config variable\n",
      "`--NotebookApp.iopub_msg_rate_limit`.\n",
      "\n",
      "Current values:\n",
      "NotebookApp.iopub_msg_rate_limit=1000.0 (msgs/sec)\n",
      "NotebookApp.rate_limit_window=3.0 (secs)\n",
      "\n"
     ]
    },
    {
     "name": "stdout",
     "output_type": "stream",
     "text": [
      " 4139/35519 [==>...........................] - ETA: 1:57:49 - loss: 0.5677"
     ]
    },
    {
     "name": "stderr",
     "output_type": "stream",
     "text": [
      "IOPub message rate exceeded.\n",
      "The notebook server will temporarily stop sending output\n",
      "to the client in order to avoid crashing it.\n",
      "To change this limit, set the config variable\n",
      "`--NotebookApp.iopub_msg_rate_limit`.\n",
      "\n",
      "Current values:\n",
      "NotebookApp.iopub_msg_rate_limit=1000.0 (msgs/sec)\n",
      "NotebookApp.rate_limit_window=3.0 (secs)\n",
      "\n"
     ]
    },
    {
     "name": "stdout",
     "output_type": "stream",
     "text": [
      "10519/35519 [=======>......................] - ETA: 1:31:33 - loss: 0.5678"
     ]
    },
    {
     "name": "stderr",
     "output_type": "stream",
     "text": [
      "IOPub message rate exceeded.\n",
      "The notebook server will temporarily stop sending output\n",
      "to the client in order to avoid crashing it.\n",
      "To change this limit, set the config variable\n",
      "`--NotebookApp.iopub_msg_rate_limit`.\n",
      "\n",
      "Current values:\n",
      "NotebookApp.iopub_msg_rate_limit=1000.0 (msgs/sec)\n",
      "NotebookApp.rate_limit_window=3.0 (secs)\n",
      "\n"
     ]
    },
    {
     "name": "stdout",
     "output_type": "stream",
     "text": [
      "16323/35519 [============>.................] - ETA: 1:10:20 - loss: 0.5680"
     ]
    },
    {
     "name": "stderr",
     "output_type": "stream",
     "text": [
      "IOPub message rate exceeded.\n",
      "The notebook server will temporarily stop sending output\n",
      "to the client in order to avoid crashing it.\n",
      "To change this limit, set the config variable\n",
      "`--NotebookApp.iopub_msg_rate_limit`.\n",
      "\n",
      "Current values:\n",
      "NotebookApp.iopub_msg_rate_limit=1000.0 (msgs/sec)\n",
      "NotebookApp.rate_limit_window=3.0 (secs)\n",
      "\n"
     ]
    },
    {
     "name": "stdout",
     "output_type": "stream",
     "text": [
      "22328/35519 [=================>............] - ETA: 46:15 - loss: 0.5679"
     ]
    },
    {
     "name": "stderr",
     "output_type": "stream",
     "text": [
      "IOPub message rate exceeded.\n",
      "The notebook server will temporarily stop sending output\n",
      "to the client in order to avoid crashing it.\n",
      "To change this limit, set the config variable\n",
      "`--NotebookApp.iopub_msg_rate_limit`.\n",
      "\n",
      "Current values:\n",
      "NotebookApp.iopub_msg_rate_limit=1000.0 (msgs/sec)\n",
      "NotebookApp.rate_limit_window=3.0 (secs)\n",
      "\n"
     ]
    },
    {
     "name": "stdout",
     "output_type": "stream",
     "text": [
      "28551/35519 [=======================>......] - ETA: 23:32 - loss: 0.5680"
     ]
    },
    {
     "name": "stderr",
     "output_type": "stream",
     "text": [
      "IOPub message rate exceeded.\n",
      "The notebook server will temporarily stop sending output\n",
      "to the client in order to avoid crashing it.\n",
      "To change this limit, set the config variable\n",
      "`--NotebookApp.iopub_msg_rate_limit`.\n",
      "\n",
      "Current values:\n",
      "NotebookApp.iopub_msg_rate_limit=1000.0 (msgs/sec)\n",
      "NotebookApp.rate_limit_window=3.0 (secs)\n",
      "\n"
     ]
    },
    {
     "name": "stdout",
     "output_type": "stream",
     "text": [
      "35281/35519 [============================>.] - ETA: 48s - loss: 0.5679"
     ]
    },
    {
     "name": "stderr",
     "output_type": "stream",
     "text": [
      "IOPub message rate exceeded.\n",
      "The notebook server will temporarily stop sending output\n",
      "to the client in order to avoid crashing it.\n",
      "To change this limit, set the config variable\n",
      "`--NotebookApp.iopub_msg_rate_limit`.\n",
      "\n",
      "Current values:\n",
      "NotebookApp.iopub_msg_rate_limit=1000.0 (msgs/sec)\n",
      "NotebookApp.rate_limit_window=3.0 (secs)\n",
      "\n"
     ]
    },
    {
     "name": "stdout",
     "output_type": "stream",
     "text": [
      " 5919/35519 [===>..........................] - ETA: 1:27:55 - loss: 0.5676"
     ]
    },
    {
     "name": "stderr",
     "output_type": "stream",
     "text": [
      "IOPub message rate exceeded.\n",
      "The notebook server will temporarily stop sending output\n",
      "to the client in order to avoid crashing it.\n",
      "To change this limit, set the config variable\n",
      "`--NotebookApp.iopub_msg_rate_limit`.\n",
      "\n",
      "Current values:\n",
      "NotebookApp.iopub_msg_rate_limit=1000.0 (msgs/sec)\n",
      "NotebookApp.rate_limit_window=3.0 (secs)\n",
      "\n"
     ]
    },
    {
     "name": "stdout",
     "output_type": "stream",
     "text": [
      "10246/35519 [=======>......................] - ETA: 1:16:43 - loss: 0.5676"
     ]
    },
    {
     "name": "stderr",
     "output_type": "stream",
     "text": [
      "IOPub message rate exceeded.\n",
      "The notebook server will temporarily stop sending output\n",
      "to the client in order to avoid crashing it.\n",
      "To change this limit, set the config variable\n",
      "`--NotebookApp.iopub_msg_rate_limit`.\n",
      "\n",
      "Current values:\n",
      "NotebookApp.iopub_msg_rate_limit=1000.0 (msgs/sec)\n",
      "NotebookApp.rate_limit_window=3.0 (secs)\n",
      "\n"
     ]
    },
    {
     "name": "stdout",
     "output_type": "stream",
     "text": [
      "16251/35519 [============>.................] - ETA: 1:00:19 - loss: 0.5677"
     ]
    },
    {
     "name": "stderr",
     "output_type": "stream",
     "text": [
      "IOPub message rate exceeded.\n",
      "The notebook server will temporarily stop sending output\n",
      "to the client in order to avoid crashing it.\n",
      "To change this limit, set the config variable\n",
      "`--NotebookApp.iopub_msg_rate_limit`.\n",
      "\n",
      "Current values:\n",
      "NotebookApp.iopub_msg_rate_limit=1000.0 (msgs/sec)\n",
      "NotebookApp.rate_limit_window=3.0 (secs)\n",
      "\n"
     ]
    },
    {
     "name": "stdout",
     "output_type": "stream",
     "text": [
      "22331/35519 [=================>............] - ETA: 42:11 - loss: 0.5677"
     ]
    },
    {
     "name": "stderr",
     "output_type": "stream",
     "text": [
      "IOPub message rate exceeded.\n",
      "The notebook server will temporarily stop sending output\n",
      "to the client in order to avoid crashing it.\n",
      "To change this limit, set the config variable\n",
      "`--NotebookApp.iopub_msg_rate_limit`.\n",
      "\n",
      "Current values:\n",
      "NotebookApp.iopub_msg_rate_limit=1000.0 (msgs/sec)\n",
      "NotebookApp.rate_limit_window=3.0 (secs)\n",
      "\n"
     ]
    },
    {
     "name": "stdout",
     "output_type": "stream",
     "text": [
      "28713/35519 [=======================>......] - ETA: 22:14 - loss: 0.5678"
     ]
    },
    {
     "name": "stderr",
     "output_type": "stream",
     "text": [
      "IOPub message rate exceeded.\n",
      "The notebook server will temporarily stop sending output\n",
      "to the client in order to avoid crashing it.\n",
      "To change this limit, set the config variable\n",
      "`--NotebookApp.iopub_msg_rate_limit`.\n",
      "\n",
      "Current values:\n",
      "NotebookApp.iopub_msg_rate_limit=1000.0 (msgs/sec)\n",
      "NotebookApp.rate_limit_window=3.0 (secs)\n",
      "\n"
     ]
    },
    {
     "name": "stdout",
     "output_type": "stream",
     "text": [
      "34175/35519 [===========================>..] - ETA: 4:25 - loss: 0.5679"
     ]
    },
    {
     "name": "stderr",
     "output_type": "stream",
     "text": [
      "IOPub message rate exceeded.\n",
      "The notebook server will temporarily stop sending output\n",
      "to the client in order to avoid crashing it.\n",
      "To change this limit, set the config variable\n",
      "`--NotebookApp.iopub_msg_rate_limit`.\n",
      "\n",
      "Current values:\n",
      "NotebookApp.iopub_msg_rate_limit=1000.0 (msgs/sec)\n",
      "NotebookApp.rate_limit_window=3.0 (secs)\n",
      "\n"
     ]
    },
    {
     "name": "stdout",
     "output_type": "stream",
     "text": [
      " 4810/35519 [===>..........................] - ETA: 1:34:46 - loss: 0.5676"
     ]
    },
    {
     "name": "stderr",
     "output_type": "stream",
     "text": [
      "IOPub message rate exceeded.\n",
      "The notebook server will temporarily stop sending output\n",
      "to the client in order to avoid crashing it.\n",
      "To change this limit, set the config variable\n",
      "`--NotebookApp.iopub_msg_rate_limit`.\n",
      "\n",
      "Current values:\n",
      "NotebookApp.iopub_msg_rate_limit=1000.0 (msgs/sec)\n",
      "NotebookApp.rate_limit_window=3.0 (secs)\n",
      "\n"
     ]
    },
    {
     "name": "stdout",
     "output_type": "stream",
     "text": [
      "10989/35519 [========>.....................] - ETA: 1:14:51 - loss: 0.5678"
     ]
    },
    {
     "name": "stderr",
     "output_type": "stream",
     "text": [
      "IOPub message rate exceeded.\n",
      "The notebook server will temporarily stop sending output\n",
      "to the client in order to avoid crashing it.\n",
      "To change this limit, set the config variable\n",
      "`--NotebookApp.iopub_msg_rate_limit`.\n",
      "\n",
      "Current values:\n",
      "NotebookApp.iopub_msg_rate_limit=1000.0 (msgs/sec)\n",
      "NotebookApp.rate_limit_window=3.0 (secs)\n",
      "\n"
     ]
    },
    {
     "name": "stdout",
     "output_type": "stream",
     "text": [
      "17343/35519 [=============>................] - ETA: 55:27 - loss: 0.5679"
     ]
    },
    {
     "name": "stderr",
     "output_type": "stream",
     "text": [
      "IOPub message rate exceeded.\n",
      "The notebook server will temporarily stop sending output\n",
      "to the client in order to avoid crashing it.\n",
      "To change this limit, set the config variable\n",
      "`--NotebookApp.iopub_msg_rate_limit`.\n",
      "\n",
      "Current values:\n",
      "NotebookApp.iopub_msg_rate_limit=1000.0 (msgs/sec)\n",
      "NotebookApp.rate_limit_window=3.0 (secs)\n",
      "\n"
     ]
    },
    {
     "name": "stdout",
     "output_type": "stream",
     "text": [
      "23671/35519 [==================>...........] - ETA: 35:45 - loss: 0.5679"
     ]
    },
    {
     "name": "stderr",
     "output_type": "stream",
     "text": [
      "IOPub message rate exceeded.\n",
      "The notebook server will temporarily stop sending output\n",
      "to the client in order to avoid crashing it.\n",
      "To change this limit, set the config variable\n",
      "`--NotebookApp.iopub_msg_rate_limit`.\n",
      "\n",
      "Current values:\n",
      "NotebookApp.iopub_msg_rate_limit=1000.0 (msgs/sec)\n",
      "NotebookApp.rate_limit_window=3.0 (secs)\n",
      "\n"
     ]
    },
    {
     "name": "stdout",
     "output_type": "stream",
     "text": [
      "35519/35519 [==============================] - 6487s 183ms/step - loss: 0.5679 - val_loss: 0.5896\n",
      "Iteration 41 [6502.3 s]: Loss = 0.5679, Validation UROC = 0.6649 [658.6 s]\n",
      "42\n",
      "Epoch 1/1\n",
      "35519/35519 [==============================] - 6735s 190ms/step - loss: 0.5678 - val_loss: 0.5922\n",
      "Iteration 42 [6750.0 s]: Loss = 0.5678, Validation UROC = 0.6637 [671.3 s]\n",
      "43\n",
      "Epoch 1/1\n",
      "35519/35519 [==============================] - 5992s 169ms/step - loss: 0.5679 - val_loss: 0.6088\n",
      "Iteration 43 [6006.0 s]: Loss = 0.5679, Validation UROC = 0.6601 [633.5 s]\n",
      "44\n",
      "Epoch 1/1\n",
      "35519/35519 [==============================] - 5928s 167ms/step - loss: 0.5679 - val_loss: 0.5839\n",
      "Iteration 44 [5941.1 s]: Loss = 0.5679, Validation UROC = 0.6637 [631.0 s]\n",
      "45\n",
      "Epoch 1/1\n",
      "35519/35519 [==============================] - 5789s 163ms/step - loss: 0.5678 - val_loss: 0.6215\n",
      "Iteration 45 [5801.8 s]: Loss = 0.5678, Validation UROC = 0.6621 [620.7 s]\n",
      "46\n",
      "Epoch 1/1\n",
      "35519/35519 [==============================] - 5799s 163ms/step - loss: 0.5678 - val_loss: 0.5974\n",
      "Iteration 46 [5812.1 s]: Loss = 0.5678, Validation UROC = 0.6637 [644.0 s]\n",
      "47\n",
      "Epoch 1/1\n",
      "35519/35519 [==============================] - 6035s 170ms/step - loss: 0.5678 - val_loss: 0.5694\n",
      "Iteration 47 [6048.6 s]: Loss = 0.5678, Validation UROC = 0.6623 [607.8 s]\n",
      "48\n",
      "Epoch 1/1\n",
      "35519/35519 [==============================] - 5961s 168ms/step - loss: 0.5678 - val_loss: 0.5946\n",
      "Iteration 48 [5974.1 s]: Loss = 0.5678, Validation UROC = 0.6634 [629.1 s]\n",
      "49\n",
      "Epoch 1/1\n",
      "35519/35519 [==============================] - 6024s 170ms/step - loss: 0.5678 - val_loss: 0.5368\n",
      "Iteration 49 [6037.6 s]: Loss = 0.5678, Validation UROC = 0.6639 [625.0 s]\n",
      "End. Best Iteration 37: Loss = 0.5679 & Area under the Curve = 0.6655. \n",
      "The best NeuMF model is saved to 4_2_leaky_relu_high_reg_weights.h5\n"
     ]
    }
   ],
   "source": [
    "for epoch in range(num_epochs):\n",
    "    t1 = time()\n",
    "    print (epoch)\n",
    "    random.shuffle(train_list)\n",
    "    random.shuffle(val_list)\n",
    "    gen = generators.generate_batches_shuffle_new(engine = engine, batch_size=batch_size, train_list = train_list)\n",
    "    val = generators.generate_batches_shuffle_new(engine = engine, batch_size=batch_size, train_list = val_list)\n",
    "\n",
    "### train model - validation data to also get validation loss at the end of epoch\n",
    "    hist = model.fit_generator(gen, steps_per_epoch = np.ceil(len(train_list)/ batch_size), epochs=1 ,verbose=1, validation_data = val, validation_steps = 1)\n",
    "    t2 = time()\n",
    "\n",
    "\n",
    "    # Evaluation\n",
    "    if epoch % verbose == 0:\n",
    "        loss = hist.history['loss'][0]\n",
    "        # evaluate auroc per user\n",
    "        val_roc = roc_all(model, val_list)\n",
    "        # append result to history \n",
    "        hist.history.update({'val_uroc' : val_roc})\n",
    "        # print results of evaluation\n",
    "        print('Iteration %d [%.1f s]: Loss = %.4f, Validation AUC = %.4f [%.1f s]'\n",
    "              % (epoch,  t2-t1, loss, val_roc, time()-t2))\n",
    "        # save model if val_auc better than max\n",
    "        if val_roc > best_val_roc:\n",
    "            best_loss, best_val_roc, best_iter = loss, val_roc, epoch\n",
    "            if save > 0:\n",
    "                model.save_weights(model_out_file, overwrite=True)\n",
    "                \n",
    "    # save history after each epoch\n",
    "    history_all.append(hist.history)\n",
    "    with open(path_history, 'wb') as fp:\n",
    "        pickle.dump(history_all, fp)\n",
    "\n",
    "print(\"End. Best Iteration %d: Loss = %.4f & Area under the Curve = %.4f. \" %(best_iter, best_loss, best_val_roc))\n",
    "if save > 0:\n",
    "    print(\"The best NeuMF model is saved to %s\" % model_out_file)"
   ]
  },
  {
   "cell_type": "code",
   "execution_count": null,
   "metadata": {},
   "outputs": [],
   "source": [
    "model_out_file"
   ]
  },
  {
   "cell_type": "markdown",
   "metadata": {},
   "source": [
    "# Plots"
   ]
  },
  {
   "cell_type": "code",
   "execution_count": 2,
   "metadata": {},
   "outputs": [],
   "source": [
    "path_history = str(name + '_history.pkl')"
   ]
  },
  {
   "cell_type": "code",
   "execution_count": 5,
   "metadata": {},
   "outputs": [],
   "source": [
    "history_all = pickle.load( open(path_history, \"rb\" ) )"
   ]
  },
  {
   "cell_type": "code",
   "execution_count": 6,
   "metadata": {
    "scrolled": true
   },
   "outputs": [
    {
     "data": {
      "text/plain": [
       "[{'val_loss': [0.567840039730072],\n",
       "  'loss': [0.5771597894463032],\n",
       "  'val_uroc': 0.6607529874781847},\n",
       " {'val_loss': [0.5963725447654724],\n",
       "  'loss': [0.5706568029389596],\n",
       "  'val_uroc': 0.665099142595381},\n",
       " {'val_loss': [0.5731121301651001],\n",
       "  'loss': [0.5697837672420266],\n",
       "  'val_uroc': 0.6642776294006465},\n",
       " {'val_loss': [0.5711070895195007],\n",
       "  'loss': [0.5692914277438099],\n",
       "  'val_uroc': 0.663254531963638},\n",
       " {'val_loss': [0.5968745946884155],\n",
       "  'loss': [0.5690551007287072],\n",
       "  'val_uroc': 0.6622312872545498},\n",
       " {'val_loss': [0.5928779244422913],\n",
       "  'loss': [0.568878874494955],\n",
       "  'val_uroc': 0.6643063509721384},\n",
       " {'val_loss': [0.6439414620399475],\n",
       "  'loss': [0.5687669460246159],\n",
       "  'val_uroc': 0.661439183110394},\n",
       " {'val_loss': [0.5841836333274841],\n",
       "  'loss': [0.5686196680355917],\n",
       "  'val_uroc': 0.6601200979239882},\n",
       " {'val_loss': [0.5348444581031799],\n",
       "  'loss': [0.5686117206986613],\n",
       "  'val_uroc': 0.6631061028529299},\n",
       " {'val_loss': [0.5541207790374756],\n",
       "  'loss': [0.5684984697614638],\n",
       "  'val_uroc': 0.6621334146306965},\n",
       " {'val_loss': [0.5504444241523743],\n",
       "  'loss': [0.5684514468714417],\n",
       "  'val_uroc': 0.6627249822858612},\n",
       " {'val_loss': [0.6091998219490051],\n",
       "  'loss': [0.5683787700169604],\n",
       "  'val_uroc': 0.6590694537651837},\n",
       " {'val_loss': [0.5429179072380066],\n",
       "  'loss': [0.5683021283981784],\n",
       "  'val_uroc': 0.6654594404462824},\n",
       " {'val_loss': [0.5727459788322449],\n",
       "  'loss': [0.5682581185391565],\n",
       "  'val_uroc': 0.6648184792692438},\n",
       " {'val_loss': [0.5730623006820679],\n",
       "  'loss': [0.5682944085015781],\n",
       "  'val_uroc': 0.6631659010901215},\n",
       " {'val_loss': [0.5600755214691162],\n",
       "  'loss': [0.5682357568076633],\n",
       "  'val_uroc': 0.6623284801510635},\n",
       " {'val_loss': [0.5794480443000793],\n",
       "  'loss': [0.5681647923933789],\n",
       "  'val_uroc': 0.6634450744242687},\n",
       " {'val_loss': [0.5444758534431458],\n",
       "  'loss': [0.5681604026706717],\n",
       "  'val_uroc': 0.663948282622687},\n",
       " {'val_loss': [0.6474001407623291],\n",
       "  'loss': [0.5681622425814769],\n",
       "  'val_uroc': 0.663775220460454},\n",
       " {'val_loss': [0.6115520596504211],\n",
       "  'loss': [0.5681372845371924],\n",
       "  'val_uroc': 0.6626295078980657},\n",
       " {'val_loss': [0.589654803276062],\n",
       "  'loss': [0.5681137507204059],\n",
       "  'val_uroc': 0.6641384299776784},\n",
       " {'val_loss': [0.5570602416992188],\n",
       "  'loss': [0.5681125330400527],\n",
       "  'val_uroc': 0.6643946296400584},\n",
       " {'val_loss': [0.6069163084030151],\n",
       "  'loss': [0.5680793880116627],\n",
       "  'val_uroc': 0.6630521381209902},\n",
       " {'val_loss': [0.571635901927948],\n",
       "  'loss': [0.5680826964127947],\n",
       "  'val_uroc': 0.662300400262481},\n",
       " {'val_loss': [0.627149760723114],\n",
       "  'loss': [0.5680122334465267],\n",
       "  'val_uroc': 0.6609649415348473},\n",
       " {'val_loss': [0.5660295486450195],\n",
       "  'loss': [0.5680655338084158],\n",
       "  'val_uroc': 0.6645851856947352},\n",
       " {'val_loss': [0.6020130515098572],\n",
       "  'loss': [0.5679929717696374],\n",
       "  'val_uroc': 0.6618797982846357},\n",
       " {'val_loss': [0.6055837869644165],\n",
       "  'loss': [0.5679961465510717],\n",
       "  'val_uroc': 0.6629098499144195},\n",
       " {'val_loss': [0.5362433195114136],\n",
       "  'loss': [0.5679507699806483],\n",
       "  'val_uroc': 0.6639765395451669},\n",
       " {'val_loss': [0.570435643196106],\n",
       "  'loss': [0.5679832234960032],\n",
       "  'val_uroc': 0.664710093072084},\n",
       " {'val_loss': [0.5884099006652832],\n",
       "  'loss': [0.5679772991457336],\n",
       "  'val_uroc': 0.6634928754331956},\n",
       " {'val_loss': [0.5728278160095215],\n",
       "  'loss': [0.5679588206376114],\n",
       "  'val_uroc': 0.662449004169669},\n",
       " {'val_loss': [0.5164017677307129],\n",
       "  'loss': [0.5679721632051974],\n",
       "  'val_uroc': 0.6638497938669506},\n",
       " {'val_loss': [0.5676113963127136],\n",
       "  'loss': [0.5679407675678182],\n",
       "  'val_uroc': 0.6640183447235306},\n",
       " {'val_loss': [0.6163501739501953],\n",
       "  'loss': [0.5679344118587311],\n",
       "  'val_uroc': 0.6613267409066911},\n",
       " {'val_loss': [0.5335593223571777],\n",
       "  'loss': [0.5679101321845423],\n",
       "  'val_uroc': 0.6650169053485263},\n",
       " {'val_loss': [0.6295080184936523],\n",
       "  'loss': [0.5679373627230665],\n",
       "  'val_uroc': 0.6639306246149976},\n",
       " {'val_loss': [0.5729696750640869],\n",
       "  'loss': [0.5679145409952338],\n",
       "  'val_uroc': 0.665472790528151},\n",
       " {'val_loss': [0.5567971467971802],\n",
       "  'loss': [0.5678819285728617],\n",
       "  'val_uroc': 0.6652068606525211},\n",
       " {'val_loss': [0.5105224847793579],\n",
       "  'loss': [0.5678376852259444],\n",
       "  'val_uroc': 0.6631539484990248},\n",
       " {'val_loss': [0.5450863838195801],\n",
       "  'loss': [0.5678710555817899],\n",
       "  'val_uroc': 0.6646400745994855},\n",
       " {'val_loss': [0.5896474123001099],\n",
       "  'loss': [0.5678568301382354],\n",
       "  'val_uroc': 0.6648875586770056},\n",
       " {'val_loss': [0.5921594500541687],\n",
       "  'loss': [0.5678387798870639],\n",
       "  'val_uroc': 0.6637425582858958},\n",
       " {'val_loss': [0.6088168621063232],\n",
       "  'loss': [0.5678601280405885],\n",
       "  'val_uroc': 0.6600869009011063},\n",
       " {'val_loss': [0.5839223265647888],\n",
       "  'loss': [0.567887426979564],\n",
       "  'val_uroc': 0.6637378737040949},\n",
       " {'val_loss': [0.6214874386787415],\n",
       "  'loss': [0.5678285571321849],\n",
       "  'val_uroc': 0.6620892485491785},\n",
       " {'val_loss': [0.5974133610725403],\n",
       "  'loss': [0.5677778452034801],\n",
       "  'val_uroc': 0.6636842324359737},\n",
       " {'val_loss': [0.5693619251251221],\n",
       "  'loss': [0.5677954316254868],\n",
       "  'val_uroc': 0.6622652992865183},\n",
       " {'val_loss': [0.5946453213691711],\n",
       "  'loss': [0.5677879259784174],\n",
       "  'val_uroc': 0.6634375416548659},\n",
       " {'val_loss': [0.536777138710022],\n",
       "  'loss': [0.5677668291892954],\n",
       "  'val_uroc': 0.6639225525168784}]"
      ]
     },
     "execution_count": 6,
     "metadata": {},
     "output_type": "execute_result"
    }
   ],
   "source": [
    "history_all"
   ]
  },
  {
   "cell_type": "code",
   "execution_count": 7,
   "metadata": {},
   "outputs": [
    {
     "data": {
      "text/plain": [
       "50"
      ]
     },
     "execution_count": 7,
     "metadata": {},
     "output_type": "execute_result"
    }
   ],
   "source": [
    "len(history_all)"
   ]
  },
  {
   "cell_type": "code",
   "execution_count": 8,
   "metadata": {},
   "outputs": [],
   "source": [
    "from matplotlib import pyplot as plt"
   ]
  },
  {
   "cell_type": "markdown",
   "metadata": {},
   "source": [
    "## Loss"
   ]
  },
  {
   "cell_type": "code",
   "execution_count": 9,
   "metadata": {},
   "outputs": [],
   "source": [
    "loss = []\n",
    "for i in range(0, len(history_all)):\n",
    "    loss.append(history_all[i]['loss'][0])\n",
    "\n",
    "val_loss = []\n",
    "for i in range(0, len(history_all)):\n",
    "    val_loss.append(history_all[i]['val_loss'][0])"
   ]
  },
  {
   "cell_type": "code",
   "execution_count": 10,
   "metadata": {},
   "outputs": [
    {
     "data": {
      "image/png": "[encoded data removed]",
      "text/plain": [
       "<Figure size 432x288 with 1 Axes>"
      ]
     },
     "metadata": {
      "needs_background": "light"
     },
     "output_type": "display_data"
    }
   ],
   "source": [
    "plt.plot(loss)\n",
    "plt.plot(val_loss)\n",
    "plt.title('model loss')\n",
    "plt.ylabel('loss')\n",
    "plt.xlabel('epoch')\n",
    "plt.legend(['train', 'validation'], loc='upper left')\n",
    "plt.show()"
   ]
  },
  {
   "cell_type": "markdown",
   "metadata": {},
   "source": [
    "## AUROC"
   ]
  },
  {
   "cell_type": "markdown",
   "metadata": {},
   "source": [
    "AUROC does not use the fixed continuous data... "
   ]
  },
  {
   "cell_type": "code",
   "execution_count": 11,
   "metadata": {},
   "outputs": [],
   "source": [
    "val_auroc = []\n",
    "for i in range(0, len(history_all)):\n",
    "    try:\n",
    "        val_auroc.append(history_all[i]['val_uroc'])\n",
    "    except:\n",
    "        pass"
   ]
  },
  {
   "cell_type": "code",
   "execution_count": 12,
   "metadata": {},
   "outputs": [
    {
     "data": {
      "image/png": "[encoded data removed]",
      "text/plain": [
       "<Figure size 432x288 with 1 Axes>"
      ]
     },
     "metadata": {
      "needs_background": "light"
     },
     "output_type": "display_data"
    }
   ],
   "source": [
    "plt.plot(val_auroc)\n",
    "plt.title('model UROC')\n",
    "plt.ylabel('roc')\n",
    "plt.xlabel('epoch')\n",
    "plt.legend(['validation'], loc='upper left')\n",
    "plt.show()"
   ]
  },
  {
   "cell_type": "code",
   "execution_count": 13,
   "metadata": {},
   "outputs": [
    {
     "data": {
      "text/plain": [
       "0.665472790528151"
      ]
     },
     "execution_count": 13,
     "metadata": {},
     "output_type": "execute_result"
    }
   ],
   "source": [
    "max(val_auroc)"
   ]
  },
  {
   "cell_type": "code",
   "execution_count": null,
   "metadata": {},
   "outputs": [],
   "source": []
  }
 ],
 "metadata": {
  "kernelspec": {
   "display_name": "Python 3",
   "language": "python",
   "name": "python3"
  },
  "language_info": {
   "codemirror_mode": {
    "name": "ipython",
    "version": 3
   },
   "file_extension": ".py",
   "mimetype": "text/x-python",
   "name": "python",
   "nbconvert_exporter": "python",
   "pygments_lexer": "ipython3",
   "version": "3.7.3"
  }
 },
 "nbformat": 4,
 "nbformat_minor": 2
}