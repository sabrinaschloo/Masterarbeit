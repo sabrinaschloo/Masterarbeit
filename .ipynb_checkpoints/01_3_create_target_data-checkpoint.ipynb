{
 "cells": [
  {
   "cell_type": "markdown",
   "metadata": {},
   "source": [
    "# Create Target Table"
   ]
  },
  {
   "cell_type": "markdown",
   "metadata": {},
   "source": [
    "- join clicks and pick table in order to receive customer \"rating\" feedback concerning a product\n",
    "- all items that are picked by the user = added to the shopping cart, are rated positive, the others negative\n",
    "- divide data in training and testing data"
   ]
  },
  {
   "cell_type": "code",
   "execution_count": 1,
   "metadata": {},
   "outputs": [],
   "source": [
    "import pandas as pd \n",
    "import numpy as np \n",
    "import pickle\n",
    "import feather"
   ]
  },
  {
   "cell_type": "markdown",
   "metadata": {},
   "source": [
    "# Clicks"
   ]
  },
  {
   "cell_type": "markdown",
   "metadata": {},
   "source": [
    "A click is measured when a user clicks on a product on a listing page - it leads the user to the product detail page"
   ]
  },
  {
   "cell_type": "code",
   "execution_count": 4,
   "metadata": {},
   "outputs": [],
   "source": [
    "clicks = feather.read_dataframe(\"data/raw_data/artikelklicks_current.feather\")"
   ]
  },
  {
   "cell_type": "code",
   "execution_count": 5,
   "metadata": {},
   "outputs": [
    {
     "data": {
      "text/html": [
       "<div>\n",
       "<style scoped>\n",
       "    .dataframe tbody tr th:only-of-type {\n",
       "        vertical-align: middle;\n",
       "    }\n",
       "\n",
       "    .dataframe tbody tr th {\n",
       "        vertical-align: top;\n",
       "    }\n",
       "\n",
       "    .dataframe thead th {\n",
       "        text-align: right;\n",
       "    }\n",
       "</style>\n",
       "<table border=\"1\" class=\"dataframe\">\n",
       "  <thead>\n",
       "    <tr style=\"text-align: right;\">\n",
       "      <th></th>\n",
       "      <th>userID</th>\n",
       "      <th>datum</th>\n",
       "      <th>artikelID</th>\n",
       "      <th>anbieterID</th>\n",
       "      <th>marktplatz</th>\n",
       "      <th>artikelnummer</th>\n",
       "      <th>anbieter_artikelnummer</th>\n",
       "    </tr>\n",
       "  </thead>\n",
       "  <tbody>\n",
       "    <tr>\n",
       "      <td>0</td>\n",
       "      <td>1575009</td>\n",
       "      <td>2017-09-15 00:00:03+00:00</td>\n",
       "      <td>15649375</td>\n",
       "      <td>144119</td>\n",
       "      <td>IT</td>\n",
       "      <td>AHQ1067</td>\n",
       "      <td>00144119AHQ1067</td>\n",
       "    </tr>\n",
       "    <tr>\n",
       "      <td>1</td>\n",
       "      <td>804304</td>\n",
       "      <td>2017-09-15 00:00:04+00:00</td>\n",
       "      <td>15132316</td>\n",
       "      <td>714655</td>\n",
       "      <td>FR</td>\n",
       "      <td>006146</td>\n",
       "      <td>00714655006146</td>\n",
       "    </tr>\n",
       "    <tr>\n",
       "      <td>2</td>\n",
       "      <td>1563645</td>\n",
       "      <td>2017-09-15 00:00:07+00:00</td>\n",
       "      <td>14577286</td>\n",
       "      <td>682864</td>\n",
       "      <td>PL</td>\n",
       "      <td></td>\n",
       "      <td></td>\n",
       "    </tr>\n",
       "    <tr>\n",
       "      <td>3</td>\n",
       "      <td>1575009</td>\n",
       "      <td>2017-09-15 00:00:17+00:00</td>\n",
       "      <td>12947166</td>\n",
       "      <td>144119</td>\n",
       "      <td>IT</td>\n",
       "      <td>EP0157</td>\n",
       "      <td>00144119EP0157</td>\n",
       "    </tr>\n",
       "    <tr>\n",
       "      <td>4</td>\n",
       "      <td>498808</td>\n",
       "      <td>2017-09-15 00:00:19+00:00</td>\n",
       "      <td>10633528</td>\n",
       "      <td>513388</td>\n",
       "      <td>DE</td>\n",
       "      <td>D712 N</td>\n",
       "      <td>00513388D712 N</td>\n",
       "    </tr>\n",
       "  </tbody>\n",
       "</table>\n",
       "</div>"
      ],
      "text/plain": [
       "    userID                     datum  artikelID  anbieterID marktplatz  \\\n",
       "0  1575009 2017-09-15 00:00:03+00:00   15649375      144119         IT   \n",
       "1   804304 2017-09-15 00:00:04+00:00   15132316      714655         FR   \n",
       "2  1563645 2017-09-15 00:00:07+00:00   14577286      682864         PL   \n",
       "3  1575009 2017-09-15 00:00:17+00:00   12947166      144119         IT   \n",
       "4   498808 2017-09-15 00:00:19+00:00   10633528      513388         DE   \n",
       "\n",
       "  artikelnummer anbieter_artikelnummer  \n",
       "0       AHQ1067        00144119AHQ1067  \n",
       "1        006146         00714655006146  \n",
       "2                                       \n",
       "3        EP0157         00144119EP0157  \n",
       "4        D712 N         00513388D712 N  "
      ]
     },
     "execution_count": 5,
     "metadata": {},
     "output_type": "execute_result"
    }
   ],
   "source": [
    "clicks.head()"
   ]
  },
  {
   "cell_type": "code",
   "execution_count": 28,
   "metadata": {},
   "outputs": [
    {
     "data": {
      "text/plain": [
       "22182169"
      ]
     },
     "execution_count": 28,
     "metadata": {},
     "output_type": "execute_result"
    }
   ],
   "source": [
    "len(clicks) "
   ]
  },
  {
   "cell_type": "code",
   "execution_count": 42,
   "metadata": {},
   "outputs": [
    {
     "data": {
      "text/plain": [
       "Timestamp('2019-09-16 04:01:01+0000', tz='UTC')"
      ]
     },
     "execution_count": 42,
     "metadata": {},
     "output_type": "execute_result"
    }
   ],
   "source": [
    "max(clicks.datum)"
   ]
  },
  {
   "cell_type": "code",
   "execution_count": 30,
   "metadata": {},
   "outputs": [
    {
     "data": {
      "text/plain": [
       "150851"
      ]
     },
     "execution_count": 30,
     "metadata": {},
     "output_type": "execute_result"
    }
   ],
   "source": [
    "len(clicks.userID.unique())"
   ]
  },
  {
   "cell_type": "markdown",
   "metadata": {},
   "source": [
    "get unique combinations of userID and artikelID"
   ]
  },
  {
   "cell_type": "code",
   "execution_count": 31,
   "metadata": {},
   "outputs": [
    {
     "data": {
      "text/plain": [
       "14244393"
      ]
     },
     "execution_count": 31,
     "metadata": {},
     "output_type": "execute_result"
    }
   ],
   "source": [
    "len(clicks.groupby(['userID','artikelID']).size().reset_index())\n"
   ]
  },
  {
   "cell_type": "markdown",
   "metadata": {},
   "source": [
    "get unique combinations of userID and anbieter_artikelnummer - a little more general than artikelID"
   ]
  },
  {
   "cell_type": "code",
   "execution_count": 32,
   "metadata": {},
   "outputs": [
    {
     "data": {
      "text/plain": [
       "13269364"
      ]
     },
     "execution_count": 32,
     "metadata": {},
     "output_type": "execute_result"
    }
   ],
   "source": [
    "len(clicks.groupby(['userID','anbieter_artikelnummer']).size().reset_index())\n"
   ]
  },
  {
   "cell_type": "code",
   "execution_count": 6,
   "metadata": {},
   "outputs": [],
   "source": [
    "clicks.datum = pd.to_datetime(clicks.datum)"
   ]
  },
  {
   "cell_type": "markdown",
   "metadata": {},
   "source": [
    "Only include each item and user combination once during training"
   ]
  },
  {
   "cell_type": "code",
   "execution_count": 7,
   "metadata": {},
   "outputs": [],
   "source": [
    "clicks_unique = clicks.groupby(['userID','anbieter_artikelnummer'])['datum', 'anbieterID'].min().reset_index()"
   ]
  },
  {
   "cell_type": "code",
   "execution_count": 8,
   "metadata": {},
   "outputs": [
    {
     "data": {
      "text/html": [
       "<div>\n",
       "<style scoped>\n",
       "    .dataframe tbody tr th:only-of-type {\n",
       "        vertical-align: middle;\n",
       "    }\n",
       "\n",
       "    .dataframe tbody tr th {\n",
       "        vertical-align: top;\n",
       "    }\n",
       "\n",
       "    .dataframe thead th {\n",
       "        text-align: right;\n",
       "    }\n",
       "</style>\n",
       "<table border=\"1\" class=\"dataframe\">\n",
       "  <thead>\n",
       "    <tr style=\"text-align: right;\">\n",
       "      <th></th>\n",
       "      <th>userID</th>\n",
       "      <th>anbieter_artikelnummer</th>\n",
       "      <th>datum</th>\n",
       "      <th>anbieterID</th>\n",
       "    </tr>\n",
       "  </thead>\n",
       "  <tbody>\n",
       "    <tr>\n",
       "      <td>0</td>\n",
       "      <td>0</td>\n",
       "      <td></td>\n",
       "      <td>2018-07-03 15:25:52+00:00</td>\n",
       "      <td>10176</td>\n",
       "    </tr>\n",
       "    <tr>\n",
       "      <td>1</td>\n",
       "      <td>0</td>\n",
       "      <td>0000400435550</td>\n",
       "      <td>2018-10-28 15:52:32+00:00</td>\n",
       "      <td>4004</td>\n",
       "    </tr>\n",
       "    <tr>\n",
       "      <td>2</td>\n",
       "      <td>0</td>\n",
       "      <td>000040053900017-002</td>\n",
       "      <td>2019-04-21 17:59:46+00:00</td>\n",
       "      <td>4005</td>\n",
       "    </tr>\n",
       "    <tr>\n",
       "      <td>3</td>\n",
       "      <td>0</td>\n",
       "      <td>0000403433309</td>\n",
       "      <td>2018-11-08 13:10:58+00:00</td>\n",
       "      <td>4034</td>\n",
       "    </tr>\n",
       "    <tr>\n",
       "      <td>4</td>\n",
       "      <td>0</td>\n",
       "      <td>0000403434036</td>\n",
       "      <td>2018-10-22 20:39:31+00:00</td>\n",
       "      <td>4034</td>\n",
       "    </tr>\n",
       "  </tbody>\n",
       "</table>\n",
       "</div>"
      ],
      "text/plain": [
       "   userID anbieter_artikelnummer                     datum  anbieterID\n",
       "0       0                        2018-07-03 15:25:52+00:00       10176\n",
       "1       0          0000400435550 2018-10-28 15:52:32+00:00        4004\n",
       "2       0    000040053900017-002 2019-04-21 17:59:46+00:00        4005\n",
       "3       0          0000403433309 2018-11-08 13:10:58+00:00        4034\n",
       "4       0          0000403434036 2018-10-22 20:39:31+00:00        4034"
      ]
     },
     "execution_count": 8,
     "metadata": {},
     "output_type": "execute_result"
    }
   ],
   "source": [
    "clicks_unique.head()"
   ]
  },
  {
   "cell_type": "markdown",
   "metadata": {},
   "source": [
    "# Picks"
   ]
  },
  {
   "cell_type": "markdown",
   "metadata": {},
   "source": [
    "a pick is the target variable of this model - it signals when the user adds a product to the shopping cart"
   ]
  },
  {
   "cell_type": "code",
   "execution_count": 9,
   "metadata": {},
   "outputs": [
    {
     "data": {
      "text/html": [
       "<div>\n",
       "<style scoped>\n",
       "    .dataframe tbody tr th:only-of-type {\n",
       "        vertical-align: middle;\n",
       "    }\n",
       "\n",
       "    .dataframe tbody tr th {\n",
       "        vertical-align: top;\n",
       "    }\n",
       "\n",
       "    .dataframe thead th {\n",
       "        text-align: right;\n",
       "    }\n",
       "</style>\n",
       "<table border=\"1\" class=\"dataframe\">\n",
       "  <thead>\n",
       "    <tr style=\"text-align: right;\">\n",
       "      <th></th>\n",
       "      <th>Unnamed: 0</th>\n",
       "      <th>userID</th>\n",
       "      <th>datum</th>\n",
       "      <th>artikelID</th>\n",
       "      <th>anbieterID</th>\n",
       "      <th>marktplatz</th>\n",
       "      <th>artikelnummer</th>\n",
       "      <th>anbieter_artikelnummer</th>\n",
       "    </tr>\n",
       "  </thead>\n",
       "  <tbody>\n",
       "    <tr>\n",
       "      <td>0</td>\n",
       "      <td>1</td>\n",
       "      <td>1575009</td>\n",
       "      <td>2017-09-15 02:00:00</td>\n",
       "      <td>15649375</td>\n",
       "      <td>144119</td>\n",
       "      <td>IT</td>\n",
       "      <td>AHQ1067</td>\n",
       "      <td>00144119AHQ1067</td>\n",
       "    </tr>\n",
       "    <tr>\n",
       "      <td>1</td>\n",
       "      <td>2</td>\n",
       "      <td>804304</td>\n",
       "      <td>2017-09-15 02:00:00</td>\n",
       "      <td>15132316</td>\n",
       "      <td>714655</td>\n",
       "      <td>FR</td>\n",
       "      <td>006146</td>\n",
       "      <td>00714655006146</td>\n",
       "    </tr>\n",
       "    <tr>\n",
       "      <td>2</td>\n",
       "      <td>3</td>\n",
       "      <td>1575009</td>\n",
       "      <td>2017-09-15 02:00:00</td>\n",
       "      <td>12947166</td>\n",
       "      <td>144119</td>\n",
       "      <td>IT</td>\n",
       "      <td>EP0157</td>\n",
       "      <td>00144119EP0157</td>\n",
       "    </tr>\n",
       "    <tr>\n",
       "      <td>3</td>\n",
       "      <td>4</td>\n",
       "      <td>1583984</td>\n",
       "      <td>2017-09-15 02:00:00</td>\n",
       "      <td>11202369</td>\n",
       "      <td>639793</td>\n",
       "      <td>FR</td>\n",
       "      <td>RT048</td>\n",
       "      <td>00639793RT048</td>\n",
       "    </tr>\n",
       "    <tr>\n",
       "      <td>4</td>\n",
       "      <td>5</td>\n",
       "      <td>1575009</td>\n",
       "      <td>2017-09-15 02:00:00</td>\n",
       "      <td>13213179</td>\n",
       "      <td>144119</td>\n",
       "      <td>IT</td>\n",
       "      <td>NH0373</td>\n",
       "      <td>00144119NH0373</td>\n",
       "    </tr>\n",
       "  </tbody>\n",
       "</table>\n",
       "</div>"
      ],
      "text/plain": [
       "   Unnamed: 0   userID                datum  artikelID  anbieterID marktplatz  \\\n",
       "0           1  1575009  2017-09-15 02:00:00   15649375      144119         IT   \n",
       "1           2   804304  2017-09-15 02:00:00   15132316      714655         FR   \n",
       "2           3  1575009  2017-09-15 02:00:00   12947166      144119         IT   \n",
       "3           4  1583984  2017-09-15 02:00:00   11202369      639793         FR   \n",
       "4           5  1575009  2017-09-15 02:00:00   13213179      144119         IT   \n",
       "\n",
       "  artikelnummer anbieter_artikelnummer  \n",
       "0       AHQ1067        00144119AHQ1067  \n",
       "1        006146         00714655006146  \n",
       "2        EP0157         00144119EP0157  \n",
       "3         RT048          00639793RT048  \n",
       "4        NH0373         00144119NH0373  "
      ]
     },
     "execution_count": 9,
     "metadata": {},
     "output_type": "execute_result"
    }
   ],
   "source": [
    "picks = pd.read_csv(\"raw_data/artikelpicks.csv\", sep = \";\", encoding = \"unicode_escape\")\n",
    "picks.head()"
   ]
  },
  {
   "cell_type": "code",
   "execution_count": 10,
   "metadata": {},
   "outputs": [
    {
     "data": {
      "text/plain": [
       "4159338"
      ]
     },
     "execution_count": 10,
     "metadata": {},
     "output_type": "execute_result"
    }
   ],
   "source": [
    "len(picks)"
   ]
  },
  {
   "cell_type": "code",
   "execution_count": 44,
   "metadata": {},
   "outputs": [
    {
     "data": {
      "text/plain": [
       "Timestamp('2019-09-16 02:00:00')"
      ]
     },
     "execution_count": 44,
     "metadata": {},
     "output_type": "execute_result"
    }
   ],
   "source": [
    "max(picks.datum)"
   ]
  },
  {
   "cell_type": "code",
   "execution_count": 13,
   "metadata": {},
   "outputs": [
    {
     "data": {
      "text/plain": [
       "3369708"
      ]
     },
     "execution_count": 13,
     "metadata": {},
     "output_type": "execute_result"
    }
   ],
   "source": [
    "# number of unique user and item combinations!\n",
    "len(picks.groupby(['userID','anbieter_artikelnummer']).size().reset_index())\n"
   ]
  },
  {
   "cell_type": "code",
   "execution_count": 10,
   "metadata": {},
   "outputs": [],
   "source": [
    "picks.datum = pd.to_datetime(picks.datum, utc = True)\n"
   ]
  },
  {
   "cell_type": "code",
   "execution_count": 12,
   "metadata": {},
   "outputs": [
    {
     "data": {
      "text/html": [
       "<div>\n",
       "<style scoped>\n",
       "    .dataframe tbody tr th:only-of-type {\n",
       "        vertical-align: middle;\n",
       "    }\n",
       "\n",
       "    .dataframe tbody tr th {\n",
       "        vertical-align: top;\n",
       "    }\n",
       "\n",
       "    .dataframe thead th {\n",
       "        text-align: right;\n",
       "    }\n",
       "</style>\n",
       "<table border=\"1\" class=\"dataframe\">\n",
       "  <thead>\n",
       "    <tr style=\"text-align: right;\">\n",
       "      <th></th>\n",
       "      <th>Unnamed: 0</th>\n",
       "      <th>userID</th>\n",
       "      <th>datum</th>\n",
       "      <th>artikelID</th>\n",
       "      <th>anbieterID</th>\n",
       "      <th>marktplatz</th>\n",
       "      <th>artikelnummer</th>\n",
       "      <th>anbieter_artikelnummer</th>\n",
       "    </tr>\n",
       "  </thead>\n",
       "  <tbody>\n",
       "    <tr>\n",
       "      <td>0</td>\n",
       "      <td>1</td>\n",
       "      <td>1575009</td>\n",
       "      <td>2017-09-15 02:00:00+00:00</td>\n",
       "      <td>15649375</td>\n",
       "      <td>144119</td>\n",
       "      <td>IT</td>\n",
       "      <td>AHQ1067</td>\n",
       "      <td>00144119AHQ1067</td>\n",
       "    </tr>\n",
       "    <tr>\n",
       "      <td>1</td>\n",
       "      <td>2</td>\n",
       "      <td>804304</td>\n",
       "      <td>2017-09-15 02:00:00+00:00</td>\n",
       "      <td>15132316</td>\n",
       "      <td>714655</td>\n",
       "      <td>FR</td>\n",
       "      <td>006146</td>\n",
       "      <td>00714655006146</td>\n",
       "    </tr>\n",
       "    <tr>\n",
       "      <td>2</td>\n",
       "      <td>3</td>\n",
       "      <td>1575009</td>\n",
       "      <td>2017-09-15 02:00:00+00:00</td>\n",
       "      <td>12947166</td>\n",
       "      <td>144119</td>\n",
       "      <td>IT</td>\n",
       "      <td>EP0157</td>\n",
       "      <td>00144119EP0157</td>\n",
       "    </tr>\n",
       "    <tr>\n",
       "      <td>3</td>\n",
       "      <td>4</td>\n",
       "      <td>1583984</td>\n",
       "      <td>2017-09-15 02:00:00+00:00</td>\n",
       "      <td>11202369</td>\n",
       "      <td>639793</td>\n",
       "      <td>FR</td>\n",
       "      <td>RT048</td>\n",
       "      <td>00639793RT048</td>\n",
       "    </tr>\n",
       "    <tr>\n",
       "      <td>4</td>\n",
       "      <td>5</td>\n",
       "      <td>1575009</td>\n",
       "      <td>2017-09-15 02:00:00+00:00</td>\n",
       "      <td>13213179</td>\n",
       "      <td>144119</td>\n",
       "      <td>IT</td>\n",
       "      <td>NH0373</td>\n",
       "      <td>00144119NH0373</td>\n",
       "    </tr>\n",
       "  </tbody>\n",
       "</table>\n",
       "</div>"
      ],
      "text/plain": [
       "   Unnamed: 0   userID                     datum  artikelID  anbieterID  \\\n",
       "0           1  1575009 2017-09-15 02:00:00+00:00   15649375      144119   \n",
       "1           2   804304 2017-09-15 02:00:00+00:00   15132316      714655   \n",
       "2           3  1575009 2017-09-15 02:00:00+00:00   12947166      144119   \n",
       "3           4  1583984 2017-09-15 02:00:00+00:00   11202369      639793   \n",
       "4           5  1575009 2017-09-15 02:00:00+00:00   13213179      144119   \n",
       "\n",
       "  marktplatz artikelnummer anbieter_artikelnummer  \n",
       "0         IT       AHQ1067        00144119AHQ1067  \n",
       "1         FR        006146         00714655006146  \n",
       "2         IT        EP0157         00144119EP0157  \n",
       "3         FR         RT048          00639793RT048  \n",
       "4         IT        NH0373         00144119NH0373  "
      ]
     },
     "execution_count": 12,
     "metadata": {},
     "output_type": "execute_result"
    }
   ],
   "source": [
    "picks.head()"
   ]
  },
  {
   "cell_type": "code",
   "execution_count": 53,
   "metadata": {},
   "outputs": [
    {
     "data": {
      "text/plain": [
       "3898586"
      ]
     },
     "execution_count": 53,
     "metadata": {},
     "output_type": "execute_result"
    }
   ],
   "source": [
    "len(picks.groupby(['userID','anbieter_artikelnummer', 'date'])['datum'].min().reset_index())"
   ]
  },
  {
   "cell_type": "markdown",
   "metadata": {},
   "source": [
    "picks summarized on user and anbieter_artikelnummer - ready for outer-join with clicks"
   ]
  },
  {
   "cell_type": "code",
   "execution_count": 11,
   "metadata": {},
   "outputs": [],
   "source": [
    "picks_unique = picks.groupby(['userID','anbieter_artikelnummer'])['datum', 'anbieterID'].min().reset_index()\n",
    "picks_unique['pick'] = 1"
   ]
  },
  {
   "cell_type": "code",
   "execution_count": 12,
   "metadata": {},
   "outputs": [
    {
     "name": "stdout",
     "output_type": "stream",
     "text": [
      "3369708\n"
     ]
    },
    {
     "data": {
      "text/html": [
       "<div>\n",
       "<style scoped>\n",
       "    .dataframe tbody tr th:only-of-type {\n",
       "        vertical-align: middle;\n",
       "    }\n",
       "\n",
       "    .dataframe tbody tr th {\n",
       "        vertical-align: top;\n",
       "    }\n",
       "\n",
       "    .dataframe thead th {\n",
       "        text-align: right;\n",
       "    }\n",
       "</style>\n",
       "<table border=\"1\" class=\"dataframe\">\n",
       "  <thead>\n",
       "    <tr style=\"text-align: right;\">\n",
       "      <th></th>\n",
       "      <th>userID</th>\n",
       "      <th>anbieter_artikelnummer</th>\n",
       "      <th>datum</th>\n",
       "      <th>anbieterID</th>\n",
       "      <th>pick</th>\n",
       "    </tr>\n",
       "  </thead>\n",
       "  <tbody>\n",
       "    <tr>\n",
       "      <td>0</td>\n",
       "      <td>0</td>\n",
       "      <td>000040051900052-007</td>\n",
       "      <td>2018-09-10 02:00:00+00:00</td>\n",
       "      <td>4005</td>\n",
       "      <td>1</td>\n",
       "    </tr>\n",
       "    <tr>\n",
       "      <td>1</td>\n",
       "      <td>0</td>\n",
       "      <td>000040053600123-001</td>\n",
       "      <td>2019-07-24 02:00:00+00:00</td>\n",
       "      <td>4005</td>\n",
       "      <td>1</td>\n",
       "    </tr>\n",
       "    <tr>\n",
       "      <td>2</td>\n",
       "      <td>0</td>\n",
       "      <td>000040053600123-003</td>\n",
       "      <td>2019-07-24 02:00:00+00:00</td>\n",
       "      <td>4005</td>\n",
       "      <td>1</td>\n",
       "    </tr>\n",
       "    <tr>\n",
       "      <td>3</td>\n",
       "      <td>0</td>\n",
       "      <td>000040053600123-004</td>\n",
       "      <td>2019-07-24 02:00:00+00:00</td>\n",
       "      <td>4005</td>\n",
       "      <td>1</td>\n",
       "    </tr>\n",
       "    <tr>\n",
       "      <td>4</td>\n",
       "      <td>0</td>\n",
       "      <td>000040053600124-002</td>\n",
       "      <td>2019-07-24 02:00:00+00:00</td>\n",
       "      <td>4005</td>\n",
       "      <td>1</td>\n",
       "    </tr>\n",
       "  </tbody>\n",
       "</table>\n",
       "</div>"
      ],
      "text/plain": [
       "   userID anbieter_artikelnummer                     datum  anbieterID  pick\n",
       "0       0    000040051900052-007 2018-09-10 02:00:00+00:00        4005     1\n",
       "1       0    000040053600123-001 2019-07-24 02:00:00+00:00        4005     1\n",
       "2       0    000040053600123-003 2019-07-24 02:00:00+00:00        4005     1\n",
       "3       0    000040053600123-004 2019-07-24 02:00:00+00:00        4005     1\n",
       "4       0    000040053600124-002 2019-07-24 02:00:00+00:00        4005     1"
      ]
     },
     "execution_count": 12,
     "metadata": {},
     "output_type": "execute_result"
    }
   ],
   "source": [
    "print(len(picks_unique))\n",
    "picks_unique.head()"
   ]
  },
  {
   "cell_type": "markdown",
   "metadata": {},
   "source": [
    "# Merge clicks and picks as outer join on userID, anbieter_artikelnummer"
   ]
  },
  {
   "cell_type": "code",
   "execution_count": 27,
   "metadata": {},
   "outputs": [
    {
     "data": {
      "text/plain": [
       "13269364"
      ]
     },
     "execution_count": 27,
     "metadata": {},
     "output_type": "execute_result"
    }
   ],
   "source": [
    "len(clicks_unique)"
   ]
  },
  {
   "cell_type": "code",
   "execution_count": 28,
   "metadata": {},
   "outputs": [
    {
     "data": {
      "text/plain": [
       "3369708"
      ]
     },
     "execution_count": 28,
     "metadata": {},
     "output_type": "execute_result"
    }
   ],
   "source": [
    "len(picks_unique)"
   ]
  },
  {
   "cell_type": "code",
   "execution_count": 29,
   "metadata": {},
   "outputs": [],
   "source": [
    "target = pd.merge(clicks_unique, picks_unique, how = \"outer\", on = [\"userID\", \"anbieter_artikelnummer\", \"anbieterID\"], suffixes = (\"_click\", \"_pick\")) "
   ]
  },
  {
   "cell_type": "code",
   "execution_count": 6,
   "metadata": {},
   "outputs": [
    {
     "data": {
      "text/html": [
       "<div>\n",
       "<style scoped>\n",
       "    .dataframe tbody tr th:only-of-type {\n",
       "        vertical-align: middle;\n",
       "    }\n",
       "\n",
       "    .dataframe tbody tr th {\n",
       "        vertical-align: top;\n",
       "    }\n",
       "\n",
       "    .dataframe thead th {\n",
       "        text-align: right;\n",
       "    }\n",
       "</style>\n",
       "<table border=\"1\" class=\"dataframe\">\n",
       "  <thead>\n",
       "    <tr style=\"text-align: right;\">\n",
       "      <th></th>\n",
       "      <th>userID</th>\n",
       "      <th>anbieter_artikelnummer</th>\n",
       "      <th>datum_click</th>\n",
       "      <th>anbieterID</th>\n",
       "      <th>datum_pick</th>\n",
       "      <th>pick</th>\n",
       "    </tr>\n",
       "  </thead>\n",
       "  <tbody>\n",
       "    <tr>\n",
       "      <td>9387551</td>\n",
       "      <td>1621499</td>\n",
       "      <td>00757137WPEH3000</td>\n",
       "      <td>2018-07-27 23:20:42+00:00</td>\n",
       "      <td>757137</td>\n",
       "      <td>NaT</td>\n",
       "      <td>0.0</td>\n",
       "    </tr>\n",
       "    <tr>\n",
       "      <td>11613690</td>\n",
       "      <td>1651303</td>\n",
       "      <td>0022024520306</td>\n",
       "      <td>2019-01-24 01:46:32+00:00</td>\n",
       "      <td>220245</td>\n",
       "      <td>NaT</td>\n",
       "      <td>0.0</td>\n",
       "    </tr>\n",
       "    <tr>\n",
       "      <td>7233788</td>\n",
       "      <td>1593139</td>\n",
       "      <td>00043137YPM_404C_N</td>\n",
       "      <td>2019-07-22 23:05:52+00:00</td>\n",
       "      <td>43137</td>\n",
       "      <td>NaT</td>\n",
       "      <td>0.0</td>\n",
       "    </tr>\n",
       "    <tr>\n",
       "      <td>4840248</td>\n",
       "      <td>1543713</td>\n",
       "      <td>00382446SHQ1516</td>\n",
       "      <td>2018-08-15 19:54:40+00:00</td>\n",
       "      <td>382446</td>\n",
       "      <td>2018-08-15 02:00:00+00:00</td>\n",
       "      <td>1.0</td>\n",
       "    </tr>\n",
       "    <tr>\n",
       "      <td>6767215</td>\n",
       "      <td>1586861</td>\n",
       "      <td>00694944DK1731</td>\n",
       "      <td>2017-10-10 15:51:32+00:00</td>\n",
       "      <td>694944</td>\n",
       "      <td>NaT</td>\n",
       "      <td>0.0</td>\n",
       "    </tr>\n",
       "    <tr>\n",
       "      <td>...</td>\n",
       "      <td>...</td>\n",
       "      <td>...</td>\n",
       "      <td>...</td>\n",
       "      <td>...</td>\n",
       "      <td>...</td>\n",
       "      <td>...</td>\n",
       "    </tr>\n",
       "    <tr>\n",
       "      <td>8806909</td>\n",
       "      <td>1612603</td>\n",
       "      <td>00741889BDC-03</td>\n",
       "      <td>2018-07-15 22:05:13+00:00</td>\n",
       "      <td>741889</td>\n",
       "      <td>2018-07-15 02:00:00+00:00</td>\n",
       "      <td>1.0</td>\n",
       "    </tr>\n",
       "    <tr>\n",
       "      <td>5391766</td>\n",
       "      <td>1559225</td>\n",
       "      <td>00282370112788</td>\n",
       "      <td>2018-02-07 03:45:24+00:00</td>\n",
       "      <td>282370</td>\n",
       "      <td>NaT</td>\n",
       "      <td>0.0</td>\n",
       "    </tr>\n",
       "    <tr>\n",
       "      <td>492873</td>\n",
       "      <td>466985</td>\n",
       "      <td>00382446QEL673375</td>\n",
       "      <td>2019-08-16 23:09:53+00:00</td>\n",
       "      <td>382446</td>\n",
       "      <td>2019-08-16 02:00:00+00:00</td>\n",
       "      <td>1.0</td>\n",
       "    </tr>\n",
       "    <tr>\n",
       "      <td>174664</td>\n",
       "      <td>243292</td>\n",
       "      <td>0044709935976/OSB-17131</td>\n",
       "      <td>2019-06-13 20:41:10+00:00</td>\n",
       "      <td>447099</td>\n",
       "      <td>NaT</td>\n",
       "      <td>0.0</td>\n",
       "    </tr>\n",
       "    <tr>\n",
       "      <td>6547328</td>\n",
       "      <td>1583861</td>\n",
       "      <td>00101045JH26956</td>\n",
       "      <td>2017-10-20 00:22:11+00:00</td>\n",
       "      <td>101045</td>\n",
       "      <td>2017-11-05 01:00:00+00:00</td>\n",
       "      <td>1.0</td>\n",
       "    </tr>\n",
       "  </tbody>\n",
       "</table>\n",
       "<p>100 rows × 6 columns</p>\n",
       "</div>"
      ],
      "text/plain": [
       "           userID   anbieter_artikelnummer               datum_click  \\\n",
       "9387551   1621499         00757137WPEH3000 2018-07-27 23:20:42+00:00   \n",
       "11613690  1651303            0022024520306 2019-01-24 01:46:32+00:00   \n",
       "7233788   1593139       00043137YPM_404C_N 2019-07-22 23:05:52+00:00   \n",
       "4840248   1543713          00382446SHQ1516 2018-08-15 19:54:40+00:00   \n",
       "6767215   1586861           00694944DK1731 2017-10-10 15:51:32+00:00   \n",
       "...           ...                      ...                       ...   \n",
       "8806909   1612603           00741889BDC-03 2018-07-15 22:05:13+00:00   \n",
       "5391766   1559225           00282370112788 2018-02-07 03:45:24+00:00   \n",
       "492873     466985        00382446QEL673375 2019-08-16 23:09:53+00:00   \n",
       "174664     243292  0044709935976/OSB-17131 2019-06-13 20:41:10+00:00   \n",
       "6547328   1583861          00101045JH26956 2017-10-20 00:22:11+00:00   \n",
       "\n",
       "          anbieterID                datum_pick  pick  \n",
       "9387551       757137                       NaT   0.0  \n",
       "11613690      220245                       NaT   0.0  \n",
       "7233788        43137                       NaT   0.0  \n",
       "4840248       382446 2018-08-15 02:00:00+00:00   1.0  \n",
       "6767215       694944                       NaT   0.0  \n",
       "...              ...                       ...   ...  \n",
       "8806909       741889 2018-07-15 02:00:00+00:00   1.0  \n",
       "5391766       282370                       NaT   0.0  \n",
       "492873        382446 2019-08-16 02:00:00+00:00   1.0  \n",
       "174664        447099                       NaT   0.0  \n",
       "6547328       101045 2017-11-05 01:00:00+00:00   1.0  \n",
       "\n",
       "[100 rows x 6 columns]"
      ]
     },
     "execution_count": 6,
     "metadata": {},
     "output_type": "execute_result"
    }
   ],
   "source": [
    "(target.sample(100))"
   ]
  },
  {
   "cell_type": "code",
   "execution_count": 31,
   "metadata": {},
   "outputs": [
    {
     "data": {
      "text/plain": [
       "3369708.0"
      ]
     },
     "execution_count": 31,
     "metadata": {},
     "output_type": "execute_result"
    }
   ],
   "source": [
    "target.pick.sum() # works !"
   ]
  },
  {
   "cell_type": "markdown",
   "metadata": {},
   "source": [
    "Fill NAs: \n",
    "- all picks that are not 1 need to be 0\n",
    "- all rows that do not have a click date need to fill the click that with pick date (some items were picked without looking on the item detail page)\n"
   ]
  },
  {
   "cell_type": "code",
   "execution_count": 32,
   "metadata": {},
   "outputs": [
    {
     "data": {
      "text/html": [
       "<div>\n",
       "<style scoped>\n",
       "    .dataframe tbody tr th:only-of-type {\n",
       "        vertical-align: middle;\n",
       "    }\n",
       "\n",
       "    .dataframe tbody tr th {\n",
       "        vertical-align: top;\n",
       "    }\n",
       "\n",
       "    .dataframe thead th {\n",
       "        text-align: right;\n",
       "    }\n",
       "</style>\n",
       "<table border=\"1\" class=\"dataframe\">\n",
       "  <thead>\n",
       "    <tr style=\"text-align: right;\">\n",
       "      <th></th>\n",
       "      <th>userID</th>\n",
       "      <th>anbieter_artikelnummer</th>\n",
       "      <th>datum_click</th>\n",
       "      <th>anbieterID</th>\n",
       "      <th>datum_pick</th>\n",
       "      <th>pick</th>\n",
       "    </tr>\n",
       "  </thead>\n",
       "  <tbody>\n",
       "    <tr>\n",
       "      <td>11146958</td>\n",
       "      <td>1642242</td>\n",
       "      <td>00694944KC2319</td>\n",
       "      <td>2019-02-25 17:23:32+00:00</td>\n",
       "      <td>694944</td>\n",
       "      <td>NaT</td>\n",
       "      <td>0.0</td>\n",
       "    </tr>\n",
       "    <tr>\n",
       "      <td>12517124</td>\n",
       "      <td>1663737</td>\n",
       "      <td>0044709944252/SN47198</td>\n",
       "      <td>2019-05-12 21:04:20+00:00</td>\n",
       "      <td>447099</td>\n",
       "      <td>NaT</td>\n",
       "      <td>0.0</td>\n",
       "    </tr>\n",
       "    <tr>\n",
       "      <td>9895208</td>\n",
       "      <td>1625470</td>\n",
       "      <td>007297418939</td>\n",
       "      <td>2018-08-17 21:33:37+00:00</td>\n",
       "      <td>729741</td>\n",
       "      <td>NaT</td>\n",
       "      <td>0.0</td>\n",
       "    </tr>\n",
       "    <tr>\n",
       "      <td>294946</td>\n",
       "      <td>355831</td>\n",
       "      <td>00745923554724-104</td>\n",
       "      <td>2018-08-02 15:15:57+00:00</td>\n",
       "      <td>745923</td>\n",
       "      <td>NaT</td>\n",
       "      <td>0.0</td>\n",
       "    </tr>\n",
       "    <tr>\n",
       "      <td>9430293</td>\n",
       "      <td>1622410</td>\n",
       "      <td>00665748600316</td>\n",
       "      <td>2018-11-03 17:48:55+00:00</td>\n",
       "      <td>665748</td>\n",
       "      <td>2018-11-03 01:00:00+00:00</td>\n",
       "      <td>1.0</td>\n",
       "    </tr>\n",
       "    <tr>\n",
       "      <td>...</td>\n",
       "      <td>...</td>\n",
       "      <td>...</td>\n",
       "      <td>...</td>\n",
       "      <td>...</td>\n",
       "      <td>...</td>\n",
       "      <td>...</td>\n",
       "    </tr>\n",
       "    <tr>\n",
       "      <td>54101</td>\n",
       "      <td>75493</td>\n",
       "      <td>00756467262683</td>\n",
       "      <td>2019-07-04 12:18:28+00:00</td>\n",
       "      <td>756467</td>\n",
       "      <td>2019-07-04 02:00:00+00:00</td>\n",
       "      <td>1.0</td>\n",
       "    </tr>\n",
       "    <tr>\n",
       "      <td>10155664</td>\n",
       "      <td>1627948</td>\n",
       "      <td>0043590002_uomo-0825</td>\n",
       "      <td>2018-09-02 02:28:18+00:00</td>\n",
       "      <td>435900</td>\n",
       "      <td>NaT</td>\n",
       "      <td>0.0</td>\n",
       "    </tr>\n",
       "    <tr>\n",
       "      <td>74742</td>\n",
       "      <td>125549</td>\n",
       "      <td>007651155590</td>\n",
       "      <td>2018-11-20 21:47:08+00:00</td>\n",
       "      <td>765115</td>\n",
       "      <td>NaT</td>\n",
       "      <td>0.0</td>\n",
       "    </tr>\n",
       "    <tr>\n",
       "      <td>5663609</td>\n",
       "      <td>1562280</td>\n",
       "      <td>00624991APS-380-0587</td>\n",
       "      <td>2018-08-14 20:33:19+00:00</td>\n",
       "      <td>624991</td>\n",
       "      <td>2018-08-14 02:00:00+00:00</td>\n",
       "      <td>1.0</td>\n",
       "    </tr>\n",
       "    <tr>\n",
       "      <td>7534565</td>\n",
       "      <td>1598788</td>\n",
       "      <td>00481348MJ2027</td>\n",
       "      <td>2018-07-26 12:07:59+00:00</td>\n",
       "      <td>481348</td>\n",
       "      <td>NaT</td>\n",
       "      <td>0.0</td>\n",
       "    </tr>\n",
       "  </tbody>\n",
       "</table>\n",
       "<p>100 rows × 6 columns</p>\n",
       "</div>"
      ],
      "text/plain": [
       "           userID anbieter_artikelnummer               datum_click  \\\n",
       "11146958  1642242         00694944KC2319 2019-02-25 17:23:32+00:00   \n",
       "12517124  1663737  0044709944252/SN47198 2019-05-12 21:04:20+00:00   \n",
       "9895208   1625470           007297418939 2018-08-17 21:33:37+00:00   \n",
       "294946     355831     00745923554724-104 2018-08-02 15:15:57+00:00   \n",
       "9430293   1622410         00665748600316 2018-11-03 17:48:55+00:00   \n",
       "...           ...                    ...                       ...   \n",
       "54101       75493         00756467262683 2019-07-04 12:18:28+00:00   \n",
       "10155664  1627948   0043590002_uomo-0825 2018-09-02 02:28:18+00:00   \n",
       "74742      125549           007651155590 2018-11-20 21:47:08+00:00   \n",
       "5663609   1562280   00624991APS-380-0587 2018-08-14 20:33:19+00:00   \n",
       "7534565   1598788         00481348MJ2027 2018-07-26 12:07:59+00:00   \n",
       "\n",
       "          anbieterID                datum_pick  pick  \n",
       "11146958      694944                       NaT   0.0  \n",
       "12517124      447099                       NaT   0.0  \n",
       "9895208       729741                       NaT   0.0  \n",
       "294946        745923                       NaT   0.0  \n",
       "9430293       665748 2018-11-03 01:00:00+00:00   1.0  \n",
       "...              ...                       ...   ...  \n",
       "54101         756467 2019-07-04 02:00:00+00:00   1.0  \n",
       "10155664      435900                       NaT   0.0  \n",
       "74742         765115                       NaT   0.0  \n",
       "5663609       624991 2018-08-14 02:00:00+00:00   1.0  \n",
       "7534565       481348                       NaT   0.0  \n",
       "\n",
       "[100 rows x 6 columns]"
      ]
     },
     "execution_count": 32,
     "metadata": {},
     "output_type": "execute_result"
    }
   ],
   "source": [
    "target.fillna(value = {'pick': 0}, inplace = True)\n",
    "target.loc[pd.isnull(target.datum_click) == True, 'datum_click'] = target.datum_pick\n",
    "#target.loc[target.datum_click == 0, 'datum_click'] = target.datum_pick\n",
    "target.sample(100)"
   ]
  },
  {
   "cell_type": "code",
   "execution_count": 7,
   "metadata": {},
   "outputs": [],
   "source": [
    "target.to_pickle(\"data/processed_data/target_data_all.pkl\")"
   ]
  },
  {
   "cell_type": "markdown",
   "metadata": {},
   "source": [
    "# Analyse Target Data"
   ]
  },
  {
   "cell_type": "markdown",
   "metadata": {},
   "source": [
    "How many differnt articles, users, how often do they appear"
   ]
  },
  {
   "cell_type": "code",
   "execution_count": 3,
   "metadata": {},
   "outputs": [],
   "source": [
    "target = pd.read_pickle(\"data/processed_data/target_data_all.pkl\")"
   ]
  },
  {
   "cell_type": "code",
   "execution_count": 30,
   "metadata": {},
   "outputs": [
    {
     "data": {
      "text/plain": [
       "13289785"
      ]
     },
     "execution_count": 30,
     "metadata": {},
     "output_type": "execute_result"
    }
   ],
   "source": [
    "len(target)"
   ]
  },
  {
   "cell_type": "code",
   "execution_count": 8,
   "metadata": {},
   "outputs": [],
   "source": [
    "target_top = target.head(1000)"
   ]
  },
  {
   "cell_type": "code",
   "execution_count": 5,
   "metadata": {},
   "outputs": [
    {
     "data": {
      "text/plain": [
       "151021"
      ]
     },
     "execution_count": 5,
     "metadata": {},
     "output_type": "execute_result"
    }
   ],
   "source": [
    "# Users for training\n",
    "target['userID'].nunique()\n"
   ]
  },
  {
   "cell_type": "code",
   "execution_count": 40,
   "metadata": {},
   "outputs": [
    {
     "data": {
      "text/plain": [
       "756614"
      ]
     },
     "execution_count": 40,
     "metadata": {},
     "output_type": "execute_result"
    }
   ],
   "source": [
    "# Articles for training\n",
    "target['anbieter_artikelnummer'].nunique()\n"
   ]
  },
  {
   "cell_type": "code",
   "execution_count": 41,
   "metadata": {},
   "outputs": [
    {
     "data": {
      "text/plain": [
       "3369708.0"
      ]
     },
     "execution_count": 41,
     "metadata": {},
     "output_type": "execute_result"
    }
   ],
   "source": [
    "# number of positive feedback\n",
    "target.pick.sum()"
   ]
  },
  {
   "cell_type": "code",
   "execution_count": 42,
   "metadata": {},
   "outputs": [
    {
     "data": {
      "text/plain": [
       "0.2535562463952577"
      ]
     },
     "execution_count": 42,
     "metadata": {},
     "output_type": "execute_result"
    }
   ],
   "source": [
    "# pick-ratio\n",
    "target.pick.sum()/len(target)"
   ]
  },
  {
   "cell_type": "markdown",
   "metadata": {},
   "source": [
    "## Users"
   ]
  },
  {
   "cell_type": "markdown",
   "metadata": {},
   "source": [
    "find ouliers and filter training data"
   ]
  },
  {
   "cell_type": "code",
   "execution_count": 10,
   "metadata": {},
   "outputs": [],
   "source": [
    "target_summary_user = target.groupby(['userID'])['datum_pick', 'pick'].count().reset_index()"
   ]
  },
  {
   "cell_type": "code",
   "execution_count": 11,
   "metadata": {},
   "outputs": [
    {
     "data": {
      "text/html": [
       "<div>\n",
       "<style scoped>\n",
       "    .dataframe tbody tr th:only-of-type {\n",
       "        vertical-align: middle;\n",
       "    }\n",
       "\n",
       "    .dataframe tbody tr th {\n",
       "        vertical-align: top;\n",
       "    }\n",
       "\n",
       "    .dataframe thead th {\n",
       "        text-align: right;\n",
       "    }\n",
       "</style>\n",
       "<table border=\"1\" class=\"dataframe\">\n",
       "  <thead>\n",
       "    <tr style=\"text-align: right;\">\n",
       "      <th></th>\n",
       "      <th>userID</th>\n",
       "      <th>picks</th>\n",
       "      <th>clicks</th>\n",
       "    </tr>\n",
       "  </thead>\n",
       "  <tbody>\n",
       "    <tr>\n",
       "      <td>count</td>\n",
       "      <td>1.510210e+05</td>\n",
       "      <td>151021.000000</td>\n",
       "      <td>151021.000000</td>\n",
       "    </tr>\n",
       "    <tr>\n",
       "      <td>mean</td>\n",
       "      <td>1.328137e+06</td>\n",
       "      <td>22.312844</td>\n",
       "      <td>87.999583</td>\n",
       "    </tr>\n",
       "    <tr>\n",
       "      <td>std</td>\n",
       "      <td>4.582426e+05</td>\n",
       "      <td>159.549461</td>\n",
       "      <td>1450.062766</td>\n",
       "    </tr>\n",
       "    <tr>\n",
       "      <td>min</td>\n",
       "      <td>0.000000e+00</td>\n",
       "      <td>0.000000</td>\n",
       "      <td>1.000000</td>\n",
       "    </tr>\n",
       "    <tr>\n",
       "      <td>25%</td>\n",
       "      <td>8.549140e+05</td>\n",
       "      <td>0.000000</td>\n",
       "      <td>3.000000</td>\n",
       "    </tr>\n",
       "    <tr>\n",
       "      <td>50%</td>\n",
       "      <td>1.595791e+06</td>\n",
       "      <td>0.000000</td>\n",
       "      <td>9.000000</td>\n",
       "    </tr>\n",
       "    <tr>\n",
       "      <td>75%</td>\n",
       "      <td>1.642487e+06</td>\n",
       "      <td>4.000000</td>\n",
       "      <td>36.000000</td>\n",
       "    </tr>\n",
       "    <tr>\n",
       "      <td>max</td>\n",
       "      <td>1.689091e+06</td>\n",
       "      <td>13028.000000</td>\n",
       "      <td>271289.000000</td>\n",
       "    </tr>\n",
       "  </tbody>\n",
       "</table>\n",
       "</div>"
      ],
      "text/plain": [
       "             userID          picks         clicks\n",
       "count  1.510210e+05  151021.000000  151021.000000\n",
       "mean   1.328137e+06      22.312844      87.999583\n",
       "std    4.582426e+05     159.549461    1450.062766\n",
       "min    0.000000e+00       0.000000       1.000000\n",
       "25%    8.549140e+05       0.000000       3.000000\n",
       "50%    1.595791e+06       0.000000       9.000000\n",
       "75%    1.642487e+06       4.000000      36.000000\n",
       "max    1.689091e+06   13028.000000  271289.000000"
      ]
     },
     "execution_count": 11,
     "metadata": {},
     "output_type": "execute_result"
    }
   ],
   "source": [
    "target_summary_user.columns = ['userID', 'picks', 'clicks']\n",
    "target_summary_user.describe()"
   ]
  },
  {
   "cell_type": "code",
   "execution_count": 50,
   "metadata": {},
   "outputs": [
    {
     "data": {
      "text/plain": [
       "21105"
      ]
     },
     "execution_count": 50,
     "metadata": {},
     "output_type": "execute_result"
    }
   ],
   "source": [
    "# users with only one click\n",
    "(sum(target_summary_user.clicks ==1))"
   ]
  },
  {
   "cell_type": "markdown",
   "metadata": {},
   "source": [
    "14% of users only made one click"
   ]
  },
  {
   "cell_type": "code",
   "execution_count": 51,
   "metadata": {},
   "outputs": [
    {
     "data": {
      "text/plain": [
       "0.13974877666019958"
      ]
     },
     "execution_count": 51,
     "metadata": {},
     "output_type": "execute_result"
    }
   ],
   "source": [
    "(sum(target_summary_user.clicks ==1))/len(target_summary_user)"
   ]
  },
  {
   "cell_type": "code",
   "execution_count": 29,
   "metadata": {},
   "outputs": [
    {
     "data": {
      "text/html": [
       "<div>\n",
       "<style scoped>\n",
       "    .dataframe tbody tr th:only-of-type {\n",
       "        vertical-align: middle;\n",
       "    }\n",
       "\n",
       "    .dataframe tbody tr th {\n",
       "        vertical-align: top;\n",
       "    }\n",
       "\n",
       "    .dataframe thead th {\n",
       "        text-align: right;\n",
       "    }\n",
       "</style>\n",
       "<table border=\"1\" class=\"dataframe\">\n",
       "  <thead>\n",
       "    <tr style=\"text-align: right;\">\n",
       "      <th></th>\n",
       "      <th>userID</th>\n",
       "      <th>picks</th>\n",
       "      <th>clicks</th>\n",
       "    </tr>\n",
       "  </thead>\n",
       "  <tbody>\n",
       "    <tr>\n",
       "      <td>63714</td>\n",
       "      <td>1576169</td>\n",
       "      <td>13028</td>\n",
       "      <td>19094</td>\n",
       "    </tr>\n",
       "    <tr>\n",
       "      <td>59266</td>\n",
       "      <td>1562316</td>\n",
       "      <td>10795</td>\n",
       "      <td>13726</td>\n",
       "    </tr>\n",
       "    <tr>\n",
       "      <td>45291</td>\n",
       "      <td>902588</td>\n",
       "      <td>10709</td>\n",
       "      <td>17566</td>\n",
       "    </tr>\n",
       "    <tr>\n",
       "      <td>74260</td>\n",
       "      <td>1593360</td>\n",
       "      <td>10487</td>\n",
       "      <td>19381</td>\n",
       "    </tr>\n",
       "    <tr>\n",
       "      <td>75308</td>\n",
       "      <td>1595551</td>\n",
       "      <td>9912</td>\n",
       "      <td>14003</td>\n",
       "    </tr>\n",
       "    <tr>\n",
       "      <td>82220</td>\n",
       "      <td>1604194</td>\n",
       "      <td>8479</td>\n",
       "      <td>18767</td>\n",
       "    </tr>\n",
       "    <tr>\n",
       "      <td>16225</td>\n",
       "      <td>621510</td>\n",
       "      <td>8107</td>\n",
       "      <td>9257</td>\n",
       "    </tr>\n",
       "    <tr>\n",
       "      <td>86569</td>\n",
       "      <td>1609410</td>\n",
       "      <td>7849</td>\n",
       "      <td>9125</td>\n",
       "    </tr>\n",
       "    <tr>\n",
       "      <td>43923</td>\n",
       "      <td>894451</td>\n",
       "      <td>7843</td>\n",
       "      <td>11008</td>\n",
       "    </tr>\n",
       "    <tr>\n",
       "      <td>98920</td>\n",
       "      <td>1624850</td>\n",
       "      <td>7545</td>\n",
       "      <td>8609</td>\n",
       "    </tr>\n",
       "  </tbody>\n",
       "</table>\n",
       "</div>"
      ],
      "text/plain": [
       "        userID  picks  clicks\n",
       "63714  1576169  13028   19094\n",
       "59266  1562316  10795   13726\n",
       "45291   902588  10709   17566\n",
       "74260  1593360  10487   19381\n",
       "75308  1595551   9912   14003\n",
       "82220  1604194   8479   18767\n",
       "16225   621510   8107    9257\n",
       "86569  1609410   7849    9125\n",
       "43923   894451   7843   11008\n",
       "98920  1624850   7545    8609"
      ]
     },
     "execution_count": 29,
     "metadata": {},
     "output_type": "execute_result"
    }
   ],
   "source": [
    "target_summary_user.sort_values(by=['picks'], ascending = False).head(10)"
   ]
  },
  {
   "cell_type": "markdown",
   "metadata": {},
   "source": [
    "Many of these must be hackers that are scraping our website... no one clicks this much an never picks"
   ]
  },
  {
   "cell_type": "code",
   "execution_count": null,
   "metadata": {},
   "outputs": [],
   "source": [
    "hackers = target_summary_user.sort_values(by=['clicks'], ascending = False).head(50)\n",
    "hackers"
   ]
  },
  {
   "cell_type": "markdown",
   "metadata": {},
   "source": [
    "should filter out - only top 9 is suspicious"
   ]
  },
  {
   "cell_type": "markdown",
   "metadata": {},
   "source": [
    "### Clean and Filter Users"
   ]
  },
  {
   "cell_type": "code",
   "execution_count": 22,
   "metadata": {},
   "outputs": [],
   "source": [
    "# look at obvious hackers = thousands of clicks - no picks... not usuall behavior \n",
    "hackers_only = hackers[hackers['picks']==0]"
   ]
  },
  {
   "cell_type": "code",
   "execution_count": 26,
   "metadata": {},
   "outputs": [],
   "source": [
    "userIDs_filter = hackers_only.userID.tolist()"
   ]
  },
  {
   "cell_type": "code",
   "execution_count": 28,
   "metadata": {},
   "outputs": [],
   "source": [
    "target_filtered = target[~target.userID.isin(userIDs_filter)]"
   ]
  },
  {
   "cell_type": "code",
   "execution_count": 29,
   "metadata": {},
   "outputs": [
    {
     "data": {
      "text/plain": [
       "12573323"
      ]
     },
     "execution_count": 29,
     "metadata": {},
     "output_type": "execute_result"
    }
   ],
   "source": [
    "len(target_filtered) #13289785 before"
   ]
  },
  {
   "cell_type": "markdown",
   "metadata": {},
   "source": [
    "## Articles"
   ]
  },
  {
   "cell_type": "code",
   "execution_count": 32,
   "metadata": {},
   "outputs": [],
   "source": [
    "target_summary_article = target.groupby(['anbieter_artikelnummer'])['datum_pick', 'pick'].count().reset_index()"
   ]
  },
  {
   "cell_type": "code",
   "execution_count": 33,
   "metadata": {},
   "outputs": [
    {
     "data": {
      "text/html": [
       "<div>\n",
       "<style scoped>\n",
       "    .dataframe tbody tr th:only-of-type {\n",
       "        vertical-align: middle;\n",
       "    }\n",
       "\n",
       "    .dataframe tbody tr th {\n",
       "        vertical-align: top;\n",
       "    }\n",
       "\n",
       "    .dataframe thead th {\n",
       "        text-align: right;\n",
       "    }\n",
       "</style>\n",
       "<table border=\"1\" class=\"dataframe\">\n",
       "  <thead>\n",
       "    <tr style=\"text-align: right;\">\n",
       "      <th></th>\n",
       "      <th>picks</th>\n",
       "      <th>clicks</th>\n",
       "    </tr>\n",
       "  </thead>\n",
       "  <tbody>\n",
       "    <tr>\n",
       "      <td>count</td>\n",
       "      <td>756614.000000</td>\n",
       "      <td>756614.000000</td>\n",
       "    </tr>\n",
       "    <tr>\n",
       "      <td>mean</td>\n",
       "      <td>4.453669</td>\n",
       "      <td>17.564815</td>\n",
       "    </tr>\n",
       "    <tr>\n",
       "      <td>std</td>\n",
       "      <td>12.158631</td>\n",
       "      <td>75.573758</td>\n",
       "    </tr>\n",
       "    <tr>\n",
       "      <td>min</td>\n",
       "      <td>0.000000</td>\n",
       "      <td>1.000000</td>\n",
       "    </tr>\n",
       "    <tr>\n",
       "      <td>25%</td>\n",
       "      <td>0.000000</td>\n",
       "      <td>3.000000</td>\n",
       "    </tr>\n",
       "    <tr>\n",
       "      <td>50%</td>\n",
       "      <td>1.000000</td>\n",
       "      <td>7.000000</td>\n",
       "    </tr>\n",
       "    <tr>\n",
       "      <td>75%</td>\n",
       "      <td>4.000000</td>\n",
       "      <td>18.000000</td>\n",
       "    </tr>\n",
       "    <tr>\n",
       "      <td>max</td>\n",
       "      <td>1147.000000</td>\n",
       "      <td>57328.000000</td>\n",
       "    </tr>\n",
       "  </tbody>\n",
       "</table>\n",
       "</div>"
      ],
      "text/plain": [
       "               picks         clicks\n",
       "count  756614.000000  756614.000000\n",
       "mean        4.453669      17.564815\n",
       "std        12.158631      75.573758\n",
       "min         0.000000       1.000000\n",
       "25%         0.000000       3.000000\n",
       "50%         1.000000       7.000000\n",
       "75%         4.000000      18.000000\n",
       "max      1147.000000   57328.000000"
      ]
     },
     "execution_count": 33,
     "metadata": {},
     "output_type": "execute_result"
    }
   ],
   "source": [
    "target_summary_article.columns = ['anbieter_artikelnummer', 'picks', 'clicks']\n",
    "target_summary_article.describe()"
   ]
  },
  {
   "cell_type": "code",
   "execution_count": 34,
   "metadata": {},
   "outputs": [
    {
     "data": {
      "text/plain": [
       "91878"
      ]
     },
     "execution_count": 34,
     "metadata": {},
     "output_type": "execute_result"
    }
   ],
   "source": [
    "(sum(target_summary_article.clicks ==1))"
   ]
  },
  {
   "cell_type": "code",
   "execution_count": 35,
   "metadata": {},
   "outputs": [
    {
     "data": {
      "text/plain": [
       "0.12143312177675802"
      ]
     },
     "execution_count": 35,
     "metadata": {},
     "output_type": "execute_result"
    }
   ],
   "source": [
    "(sum(target_summary_article.clicks ==1))/len(target_summary_article)"
   ]
  },
  {
   "cell_type": "code",
   "execution_count": 46,
   "metadata": {},
   "outputs": [
    {
     "data": {
      "text/html": [
       "<div>\n",
       "<style scoped>\n",
       "    .dataframe tbody tr th:only-of-type {\n",
       "        vertical-align: middle;\n",
       "    }\n",
       "\n",
       "    .dataframe tbody tr th {\n",
       "        vertical-align: top;\n",
       "    }\n",
       "\n",
       "    .dataframe thead th {\n",
       "        text-align: right;\n",
       "    }\n",
       "</style>\n",
       "<table border=\"1\" class=\"dataframe\">\n",
       "  <thead>\n",
       "    <tr style=\"text-align: right;\">\n",
       "      <th></th>\n",
       "      <th>anbieter_artikelnummer</th>\n",
       "      <th>picks</th>\n",
       "      <th>clicks</th>\n",
       "    </tr>\n",
       "  </thead>\n",
       "  <tbody>\n",
       "    <tr>\n",
       "      <td>0</td>\n",
       "      <td></td>\n",
       "      <td>0</td>\n",
       "      <td>57328</td>\n",
       "    </tr>\n",
       "    <tr>\n",
       "      <td>263299</td>\n",
       "      <td>0034309263929</td>\n",
       "      <td>1070</td>\n",
       "      <td>3697</td>\n",
       "    </tr>\n",
       "    <tr>\n",
       "      <td>259787</td>\n",
       "      <td>0034309244515</td>\n",
       "      <td>1147</td>\n",
       "      <td>2935</td>\n",
       "    </tr>\n",
       "    <tr>\n",
       "      <td>257897</td>\n",
       "      <td>0034309216301</td>\n",
       "      <td>809</td>\n",
       "      <td>2796</td>\n",
       "    </tr>\n",
       "    <tr>\n",
       "      <td>257421</td>\n",
       "      <td>003430921300</td>\n",
       "      <td>1047</td>\n",
       "      <td>2529</td>\n",
       "    </tr>\n",
       "    <tr>\n",
       "      <td>380655</td>\n",
       "      <td>00477078FL433 MIX</td>\n",
       "      <td>628</td>\n",
       "      <td>2504</td>\n",
       "    </tr>\n",
       "    <tr>\n",
       "      <td>258119</td>\n",
       "      <td>0034309218303</td>\n",
       "      <td>725</td>\n",
       "      <td>2487</td>\n",
       "    </tr>\n",
       "    <tr>\n",
       "      <td>628700</td>\n",
       "      <td>00714655011467</td>\n",
       "      <td>440</td>\n",
       "      <td>2468</td>\n",
       "    </tr>\n",
       "    <tr>\n",
       "      <td>375451</td>\n",
       "      <td>004770784014 MIX</td>\n",
       "      <td>606</td>\n",
       "      <td>2141</td>\n",
       "    </tr>\n",
       "    <tr>\n",
       "      <td>260433</td>\n",
       "      <td>0034309248681</td>\n",
       "      <td>811</td>\n",
       "      <td>2116</td>\n",
       "    </tr>\n",
       "  </tbody>\n",
       "</table>\n",
       "</div>"
      ],
      "text/plain": [
       "       anbieter_artikelnummer  picks  clicks\n",
       "0                                  0   57328\n",
       "263299          0034309263929   1070    3697\n",
       "259787          0034309244515   1147    2935\n",
       "257897          0034309216301    809    2796\n",
       "257421           003430921300   1047    2529\n",
       "380655      00477078FL433 MIX    628    2504\n",
       "258119          0034309218303    725    2487\n",
       "628700         00714655011467    440    2468\n",
       "375451       004770784014 MIX    606    2141\n",
       "260433          0034309248681    811    2116"
      ]
     },
     "execution_count": 46,
     "metadata": {},
     "output_type": "execute_result"
    }
   ],
   "source": [
    "target_summary_article.sort_values(by=['clicks'], ascending = False).head(10)"
   ]
  },
  {
   "cell_type": "code",
   "execution_count": 42,
   "metadata": {},
   "outputs": [],
   "source": [
    "useless_articles = ['']"
   ]
  },
  {
   "cell_type": "markdown",
   "metadata": {},
   "source": [
    "### Clean and filter articles"
   ]
  },
  {
   "cell_type": "code",
   "execution_count": 48,
   "metadata": {},
   "outputs": [],
   "source": [
    "target_filtered = target_filtered[~target_filtered.anbieter_artikelnummer.isin(useless_articles)]"
   ]
  },
  {
   "cell_type": "code",
   "execution_count": 49,
   "metadata": {},
   "outputs": [
    {
     "data": {
      "text/plain": [
       "12516004"
      ]
     },
     "execution_count": 49,
     "metadata": {},
     "output_type": "execute_result"
    }
   ],
   "source": [
    "len(target_filtered) # 12573323"
   ]
  },
  {
   "cell_type": "markdown",
   "metadata": {},
   "source": [
    "# Filtered Dataset - final for now 27.9.19"
   ]
  },
  {
   "cell_type": "code",
   "execution_count": 50,
   "metadata": {},
   "outputs": [],
   "source": [
    "target_filtered.to_pickle(\"data/processed_data/target_data_filtered.pkl\")"
   ]
  },
  {
   "cell_type": "markdown",
   "metadata": {},
   "source": [
    "# Users & Items"
   ]
  },
  {
   "cell_type": "markdown",
   "metadata": {},
   "source": [
    "extract userIDs that need embeddings"
   ]
  },
  {
   "cell_type": "code",
   "execution_count": 52,
   "metadata": {},
   "outputs": [
    {
     "data": {
      "text/plain": [
       "148956"
      ]
     },
     "execution_count": 52,
     "metadata": {},
     "output_type": "execute_result"
    }
   ],
   "source": [
    "target_filtered['userID'].nunique()"
   ]
  },
  {
   "cell_type": "code",
   "execution_count": 56,
   "metadata": {},
   "outputs": [],
   "source": [
    "users = target_filtered['userID'].unique()"
   ]
  },
  {
   "cell_type": "code",
   "execution_count": 54,
   "metadata": {},
   "outputs": [
    {
     "data": {
      "text/plain": [
       "750206"
      ]
     },
     "execution_count": 54,
     "metadata": {},
     "output_type": "execute_result"
    }
   ],
   "source": [
    "target_filtered['anbieter_artikelnummer'].nunique()"
   ]
  },
  {
   "cell_type": "code",
   "execution_count": 57,
   "metadata": {},
   "outputs": [],
   "source": [
    "articles = target_filtered['anbieter_artikelnummer'].unique()"
   ]
  },
  {
   "cell_type": "code",
   "execution_count": 58,
   "metadata": {},
   "outputs": [],
   "source": [
    "with open('data/processed_data/users_list.pkl', 'wb') as f:\n",
    "    pickle.dump(users, f)\n",
    "    f.close()"
   ]
  },
  {
   "cell_type": "code",
   "execution_count": 59,
   "metadata": {},
   "outputs": [],
   "source": [
    "with open('data/processed_data/articles_list.pkl', 'wb') as f:\n",
    "    pickle.dump(articles, f)\n",
    "    f.close()"
   ]
  },
  {
   "cell_type": "markdown",
   "metadata": {},
   "source": [
    "# Train and Test Split"
   ]
  },
  {
   "cell_type": "markdown",
   "metadata": {},
   "source": [
    "Create train and test split based on time - first 90% of data is training, the last 10% is testing data"
   ]
  },
  {
   "cell_type": "code",
   "execution_count": 74,
   "metadata": {},
   "outputs": [],
   "source": [
    "target_filtered = target_filtered.sort_values(by='datum_click')"
   ]
  },
  {
   "cell_type": "code",
   "execution_count": 75,
   "metadata": {},
   "outputs": [],
   "source": [
    "test_size = len(target_filtered)*0.1"
   ]
  },
  {
   "cell_type": "code",
   "execution_count": 76,
   "metadata": {},
   "outputs": [
    {
     "data": {
      "text/plain": [
       "1251600.4000000001"
      ]
     },
     "execution_count": 76,
     "metadata": {},
     "output_type": "execute_result"
    }
   ],
   "source": [
    "test_size"
   ]
  },
  {
   "cell_type": "code",
   "execution_count": 77,
   "metadata": {},
   "outputs": [],
   "source": [
    "target_test = target_filtered[-1251600:]"
   ]
  },
  {
   "cell_type": "code",
   "execution_count": 78,
   "metadata": {},
   "outputs": [
    {
     "data": {
      "text/plain": [
       "1251600"
      ]
     },
     "execution_count": 78,
     "metadata": {},
     "output_type": "execute_result"
    }
   ],
   "source": [
    "len(target_test)"
   ]
  },
  {
   "cell_type": "code",
   "execution_count": 79,
   "metadata": {},
   "outputs": [],
   "source": [
    "target_train = target_filtered[:-1251600]"
   ]
  },
  {
   "cell_type": "code",
   "execution_count": 80,
   "metadata": {},
   "outputs": [
    {
     "data": {
      "text/plain": [
       "11264404"
      ]
     },
     "execution_count": 80,
     "metadata": {},
     "output_type": "execute_result"
    }
   ],
   "source": [
    "len(target_train)"
   ]
  },
  {
   "cell_type": "code",
   "execution_count": 81,
   "metadata": {},
   "outputs": [
    {
     "data": {
      "text/plain": [
       "True"
      ]
     },
     "execution_count": 81,
     "metadata": {},
     "output_type": "execute_result"
    }
   ],
   "source": [
    "len(target_train)+len(target_test) == len(target_filtered)"
   ]
  },
  {
   "cell_type": "code",
   "execution_count": 82,
   "metadata": {},
   "outputs": [
    {
     "data": {
      "text/html": [
       "<div>\n",
       "<style scoped>\n",
       "    .dataframe tbody tr th:only-of-type {\n",
       "        vertical-align: middle;\n",
       "    }\n",
       "\n",
       "    .dataframe tbody tr th {\n",
       "        vertical-align: top;\n",
       "    }\n",
       "\n",
       "    .dataframe thead th {\n",
       "        text-align: right;\n",
       "    }\n",
       "</style>\n",
       "<table border=\"1\" class=\"dataframe\">\n",
       "  <thead>\n",
       "    <tr style=\"text-align: right;\">\n",
       "      <th></th>\n",
       "      <th>userID</th>\n",
       "      <th>anbieter_artikelnummer</th>\n",
       "      <th>datum_click</th>\n",
       "      <th>anbieterID</th>\n",
       "      <th>datum_pick</th>\n",
       "      <th>pick</th>\n",
       "    </tr>\n",
       "  </thead>\n",
       "  <tbody>\n",
       "    <tr>\n",
       "      <td>12992867</td>\n",
       "      <td>1677343</td>\n",
       "      <td>0070854200002534</td>\n",
       "      <td>2019-06-28 21:18:42+00:00</td>\n",
       "      <td>708542</td>\n",
       "      <td>2019-07-01 02:00:00+00:00</td>\n",
       "      <td>1.0</td>\n",
       "    </tr>\n",
       "    <tr>\n",
       "      <td>12995886</td>\n",
       "      <td>1677430</td>\n",
       "      <td>00100620101051000097</td>\n",
       "      <td>2019-06-28 21:18:45+00:00</td>\n",
       "      <td>100620</td>\n",
       "      <td>NaT</td>\n",
       "      <td>0.0</td>\n",
       "    </tr>\n",
       "    <tr>\n",
       "      <td>12003002</td>\n",
       "      <td>1657316</td>\n",
       "      <td>00147265eG6260A</td>\n",
       "      <td>2019-06-28 21:18:48+00:00</td>\n",
       "      <td>147265</td>\n",
       "      <td>NaT</td>\n",
       "      <td>0.0</td>\n",
       "    </tr>\n",
       "    <tr>\n",
       "      <td>12109054</td>\n",
       "      <td>1657316</td>\n",
       "      <td>006589155907619815092</td>\n",
       "      <td>2019-06-28 21:18:56+00:00</td>\n",
       "      <td>658915</td>\n",
       "      <td>NaT</td>\n",
       "      <td>0.0</td>\n",
       "    </tr>\n",
       "    <tr>\n",
       "      <td>5760844</td>\n",
       "      <td>1564925</td>\n",
       "      <td>00631847DD47563</td>\n",
       "      <td>2019-06-28 21:19:03+00:00</td>\n",
       "      <td>631847</td>\n",
       "      <td>2019-06-28 02:00:00+00:00</td>\n",
       "      <td>1.0</td>\n",
       "    </tr>\n",
       "    <tr>\n",
       "      <td>...</td>\n",
       "      <td>...</td>\n",
       "      <td>...</td>\n",
       "      <td>...</td>\n",
       "      <td>...</td>\n",
       "      <td>...</td>\n",
       "      <td>...</td>\n",
       "    </tr>\n",
       "    <tr>\n",
       "      <td>2519419</td>\n",
       "      <td>826409</td>\n",
       "      <td>00382446PNN91101</td>\n",
       "      <td>2019-09-16 03:57:46+00:00</td>\n",
       "      <td>382446</td>\n",
       "      <td>2019-09-16 02:00:00+00:00</td>\n",
       "      <td>1.0</td>\n",
       "    </tr>\n",
       "    <tr>\n",
       "      <td>2519420</td>\n",
       "      <td>826409</td>\n",
       "      <td>00382446PNN91102</td>\n",
       "      <td>2019-09-16 03:59:17+00:00</td>\n",
       "      <td>382446</td>\n",
       "      <td>2019-09-16 02:00:00+00:00</td>\n",
       "      <td>1.0</td>\n",
       "    </tr>\n",
       "    <tr>\n",
       "      <td>2519417</td>\n",
       "      <td>826409</td>\n",
       "      <td>00382446PNN91033</td>\n",
       "      <td>2019-09-16 03:59:31+00:00</td>\n",
       "      <td>382446</td>\n",
       "      <td>2019-09-16 02:00:00+00:00</td>\n",
       "      <td>1.0</td>\n",
       "    </tr>\n",
       "    <tr>\n",
       "      <td>2519568</td>\n",
       "      <td>826409</td>\n",
       "      <td>00382446SHS3007</td>\n",
       "      <td>2019-09-16 04:00:36+00:00</td>\n",
       "      <td>382446</td>\n",
       "      <td>2019-09-16 02:00:00+00:00</td>\n",
       "      <td>1.0</td>\n",
       "    </tr>\n",
       "    <tr>\n",
       "      <td>2519570</td>\n",
       "      <td>826409</td>\n",
       "      <td>00382446SHS3064</td>\n",
       "      <td>2019-09-16 04:00:59+00:00</td>\n",
       "      <td>382446</td>\n",
       "      <td>2019-09-16 02:00:00+00:00</td>\n",
       "      <td>1.0</td>\n",
       "    </tr>\n",
       "  </tbody>\n",
       "</table>\n",
       "<p>1251600 rows × 6 columns</p>\n",
       "</div>"
      ],
      "text/plain": [
       "           userID anbieter_artikelnummer               datum_click  \\\n",
       "12992867  1677343       0070854200002534 2019-06-28 21:18:42+00:00   \n",
       "12995886  1677430   00100620101051000097 2019-06-28 21:18:45+00:00   \n",
       "12003002  1657316        00147265eG6260A 2019-06-28 21:18:48+00:00   \n",
       "12109054  1657316  006589155907619815092 2019-06-28 21:18:56+00:00   \n",
       "5760844   1564925        00631847DD47563 2019-06-28 21:19:03+00:00   \n",
       "...           ...                    ...                       ...   \n",
       "2519419    826409       00382446PNN91101 2019-09-16 03:57:46+00:00   \n",
       "2519420    826409       00382446PNN91102 2019-09-16 03:59:17+00:00   \n",
       "2519417    826409       00382446PNN91033 2019-09-16 03:59:31+00:00   \n",
       "2519568    826409        00382446SHS3007 2019-09-16 04:00:36+00:00   \n",
       "2519570    826409        00382446SHS3064 2019-09-16 04:00:59+00:00   \n",
       "\n",
       "          anbieterID                datum_pick  pick  \n",
       "12992867      708542 2019-07-01 02:00:00+00:00   1.0  \n",
       "12995886      100620                       NaT   0.0  \n",
       "12003002      147265                       NaT   0.0  \n",
       "12109054      658915                       NaT   0.0  \n",
       "5760844       631847 2019-06-28 02:00:00+00:00   1.0  \n",
       "...              ...                       ...   ...  \n",
       "2519419       382446 2019-09-16 02:00:00+00:00   1.0  \n",
       "2519420       382446 2019-09-16 02:00:00+00:00   1.0  \n",
       "2519417       382446 2019-09-16 02:00:00+00:00   1.0  \n",
       "2519568       382446 2019-09-16 02:00:00+00:00   1.0  \n",
       "2519570       382446 2019-09-16 02:00:00+00:00   1.0  \n",
       "\n",
       "[1251600 rows x 6 columns]"
      ]
     },
     "execution_count": 82,
     "metadata": {},
     "output_type": "execute_result"
    }
   ],
   "source": [
    "target_test.sort_values(by='datum_click')"
   ]
  },
  {
   "cell_type": "code",
   "execution_count": 83,
   "metadata": {},
   "outputs": [
    {
     "data": {
      "text/html": [
       "<div>\n",
       "<style scoped>\n",
       "    .dataframe tbody tr th:only-of-type {\n",
       "        vertical-align: middle;\n",
       "    }\n",
       "\n",
       "    .dataframe tbody tr th {\n",
       "        vertical-align: top;\n",
       "    }\n",
       "\n",
       "    .dataframe thead th {\n",
       "        text-align: right;\n",
       "    }\n",
       "</style>\n",
       "<table border=\"1\" class=\"dataframe\">\n",
       "  <thead>\n",
       "    <tr style=\"text-align: right;\">\n",
       "      <th></th>\n",
       "      <th>userID</th>\n",
       "      <th>anbieter_artikelnummer</th>\n",
       "      <th>datum_click</th>\n",
       "      <th>anbieterID</th>\n",
       "      <th>datum_pick</th>\n",
       "      <th>pick</th>\n",
       "    </tr>\n",
       "  </thead>\n",
       "  <tbody>\n",
       "    <tr>\n",
       "      <td>12095390</td>\n",
       "      <td>1657316</td>\n",
       "      <td>00565596LRE-FW-0014-0002</td>\n",
       "      <td>2019-06-28 21:18:37+00:00</td>\n",
       "      <td>565596</td>\n",
       "      <td>NaT</td>\n",
       "      <td>0.0</td>\n",
       "    </tr>\n",
       "    <tr>\n",
       "      <td>12995885</td>\n",
       "      <td>1677430</td>\n",
       "      <td>00100620101051000083</td>\n",
       "      <td>2019-06-28 21:18:21+00:00</td>\n",
       "      <td>100620</td>\n",
       "      <td>NaT</td>\n",
       "      <td>0.0</td>\n",
       "    </tr>\n",
       "    <tr>\n",
       "      <td>12012672</td>\n",
       "      <td>1657316</td>\n",
       "      <td>001895759020121-12</td>\n",
       "      <td>2019-06-28 21:18:20+00:00</td>\n",
       "      <td>189575</td>\n",
       "      <td>NaT</td>\n",
       "      <td>0.0</td>\n",
       "    </tr>\n",
       "    <tr>\n",
       "      <td>12091484</td>\n",
       "      <td>1657316</td>\n",
       "      <td>00561756XF1901-03WJ Rot</td>\n",
       "      <td>2019-06-28 21:18:11+00:00</td>\n",
       "      <td>561756</td>\n",
       "      <td>NaT</td>\n",
       "      <td>0.0</td>\n",
       "    </tr>\n",
       "    <tr>\n",
       "      <td>12072648</td>\n",
       "      <td>1657316</td>\n",
       "      <td>00497049ABYTEX314-L</td>\n",
       "      <td>2019-06-28 21:18:09+00:00</td>\n",
       "      <td>497049</td>\n",
       "      <td>NaT</td>\n",
       "      <td>0.0</td>\n",
       "    </tr>\n",
       "    <tr>\n",
       "      <td>...</td>\n",
       "      <td>...</td>\n",
       "      <td>...</td>\n",
       "      <td>...</td>\n",
       "      <td>...</td>\n",
       "      <td>...</td>\n",
       "      <td>...</td>\n",
       "    </tr>\n",
       "    <tr>\n",
       "      <td>6064717</td>\n",
       "      <td>1573710</td>\n",
       "      <td>00714655010032</td>\n",
       "      <td>2017-09-15 00:00:24+00:00</td>\n",
       "      <td>714655</td>\n",
       "      <td>NaT</td>\n",
       "      <td>0.0</td>\n",
       "    </tr>\n",
       "    <tr>\n",
       "      <td>596157</td>\n",
       "      <td>498808</td>\n",
       "      <td>00513388D712 N</td>\n",
       "      <td>2017-09-15 00:00:19+00:00</td>\n",
       "      <td>513388</td>\n",
       "      <td>2018-02-13 01:00:00+00:00</td>\n",
       "      <td>1.0</td>\n",
       "    </tr>\n",
       "    <tr>\n",
       "      <td>6108414</td>\n",
       "      <td>1575009</td>\n",
       "      <td>00144119EP0157</td>\n",
       "      <td>2017-09-15 00:00:17+00:00</td>\n",
       "      <td>144119</td>\n",
       "      <td>2017-09-15 02:00:00+00:00</td>\n",
       "      <td>1.0</td>\n",
       "    </tr>\n",
       "    <tr>\n",
       "      <td>2263968</td>\n",
       "      <td>804304</td>\n",
       "      <td>00714655006146</td>\n",
       "      <td>2017-09-15 00:00:04+00:00</td>\n",
       "      <td>714655</td>\n",
       "      <td>2017-09-15 02:00:00+00:00</td>\n",
       "      <td>1.0</td>\n",
       "    </tr>\n",
       "    <tr>\n",
       "      <td>6108224</td>\n",
       "      <td>1575009</td>\n",
       "      <td>00144119AHQ1067</td>\n",
       "      <td>2017-09-15 00:00:03+00:00</td>\n",
       "      <td>144119</td>\n",
       "      <td>2017-09-15 02:00:00+00:00</td>\n",
       "      <td>1.0</td>\n",
       "    </tr>\n",
       "  </tbody>\n",
       "</table>\n",
       "<p>11264404 rows × 6 columns</p>\n",
       "</div>"
      ],
      "text/plain": [
       "           userID    anbieter_artikelnummer               datum_click  \\\n",
       "12095390  1657316  00565596LRE-FW-0014-0002 2019-06-28 21:18:37+00:00   \n",
       "12995885  1677430      00100620101051000083 2019-06-28 21:18:21+00:00   \n",
       "12012672  1657316        001895759020121-12 2019-06-28 21:18:20+00:00   \n",
       "12091484  1657316   00561756XF1901-03WJ Rot 2019-06-28 21:18:11+00:00   \n",
       "12072648  1657316       00497049ABYTEX314-L 2019-06-28 21:18:09+00:00   \n",
       "...           ...                       ...                       ...   \n",
       "6064717   1573710            00714655010032 2017-09-15 00:00:24+00:00   \n",
       "596157     498808            00513388D712 N 2017-09-15 00:00:19+00:00   \n",
       "6108414   1575009            00144119EP0157 2017-09-15 00:00:17+00:00   \n",
       "2263968    804304            00714655006146 2017-09-15 00:00:04+00:00   \n",
       "6108224   1575009           00144119AHQ1067 2017-09-15 00:00:03+00:00   \n",
       "\n",
       "          anbieterID                datum_pick  pick  \n",
       "12095390      565596                       NaT   0.0  \n",
       "12995885      100620                       NaT   0.0  \n",
       "12012672      189575                       NaT   0.0  \n",
       "12091484      561756                       NaT   0.0  \n",
       "12072648      497049                       NaT   0.0  \n",
       "...              ...                       ...   ...  \n",
       "6064717       714655                       NaT   0.0  \n",
       "596157        513388 2018-02-13 01:00:00+00:00   1.0  \n",
       "6108414       144119 2017-09-15 02:00:00+00:00   1.0  \n",
       "2263968       714655 2017-09-15 02:00:00+00:00   1.0  \n",
       "6108224       144119 2017-09-15 02:00:00+00:00   1.0  \n",
       "\n",
       "[11264404 rows x 6 columns]"
      ]
     },
     "execution_count": 83,
     "metadata": {},
     "output_type": "execute_result"
    }
   ],
   "source": [
    "target_train.sort_values(by='datum_click', ascending = False)"
   ]
  },
  {
   "cell_type": "code",
   "execution_count": 84,
   "metadata": {},
   "outputs": [],
   "source": [
    "target_train.to_pickle(\"data/training_data/target_train.pkl\")"
   ]
  },
  {
   "cell_type": "code",
   "execution_count": 85,
   "metadata": {},
   "outputs": [],
   "source": [
    "target_test.to_pickle(\"data/testing_data/target_test.pkl\")"
   ]
  },
  {
   "cell_type": "code",
   "execution_count": null,
   "metadata": {},
   "outputs": [],
   "source": []
  }
 ],
 "metadata": {
  "kernelspec": {
   "display_name": "Python 3",
   "language": "python",
   "name": "python3"
  },
  "language_info": {
   "codemirror_mode": {
    "name": "ipython",
    "version": 3
   },
   "file_extension": ".py",
   "mimetype": "text/x-python",
   "name": "python",
   "nbconvert_exporter": "python",
   "pygments_lexer": "ipython3",
   "version": "3.7.3"
  }
 },
 "nbformat": 4,
 "nbformat_minor": 2
}
