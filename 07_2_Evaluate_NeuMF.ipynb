{
 "cells": [
  {
   "cell_type": "markdown",
   "metadata": {},
   "source": [
    "## Baseline Model 1: Evaluation"
   ]
  },
  {
   "cell_type": "code",
   "execution_count": 1,
   "metadata": {},
   "outputs": [
    {
     "name": "stderr",
     "output_type": "stream",
     "text": [
      "/opt/conda/lib/python3.7/site-packages/tensorflow/python/framework/dtypes.py:526: FutureWarning: Passing (type, 1) or '1type' as a synonym of type is deprecated; in a future version of numpy, it will be understood as (type, (1,)) / '(1,)type'.\n",
      "  _np_qint8 = np.dtype([(\"qint8\", np.int8, 1)])\n",
      "/opt/conda/lib/python3.7/site-packages/tensorflow/python/framework/dtypes.py:527: FutureWarning: Passing (type, 1) or '1type' as a synonym of type is deprecated; in a future version of numpy, it will be understood as (type, (1,)) / '(1,)type'.\n",
      "  _np_quint8 = np.dtype([(\"quint8\", np.uint8, 1)])\n",
      "/opt/conda/lib/python3.7/site-packages/tensorflow/python/framework/dtypes.py:528: FutureWarning: Passing (type, 1) or '1type' as a synonym of type is deprecated; in a future version of numpy, it will be understood as (type, (1,)) / '(1,)type'.\n",
      "  _np_qint16 = np.dtype([(\"qint16\", np.int16, 1)])\n",
      "/opt/conda/lib/python3.7/site-packages/tensorflow/python/framework/dtypes.py:529: FutureWarning: Passing (type, 1) or '1type' as a synonym of type is deprecated; in a future version of numpy, it will be understood as (type, (1,)) / '(1,)type'.\n",
      "  _np_quint16 = np.dtype([(\"quint16\", np.uint16, 1)])\n",
      "/opt/conda/lib/python3.7/site-packages/tensorflow/python/framework/dtypes.py:530: FutureWarning: Passing (type, 1) or '1type' as a synonym of type is deprecated; in a future version of numpy, it will be understood as (type, (1,)) / '(1,)type'.\n",
      "  _np_qint32 = np.dtype([(\"qint32\", np.int32, 1)])\n",
      "/opt/conda/lib/python3.7/site-packages/tensorflow/python/framework/dtypes.py:535: FutureWarning: Passing (type, 1) or '1type' as a synonym of type is deprecated; in a future version of numpy, it will be understood as (type, (1,)) / '(1,)type'.\n",
      "  np_resource = np.dtype([(\"resource\", np.ubyte, 1)])\n",
      "Using TensorFlow backend.\n"
     ]
    }
   ],
   "source": [
    "import numpy as np\n",
    "import tensorflow as tf\n",
    "from numpy.random import seed\n",
    "from tensorflow import set_random_seed\n",
    "seed(1)\n",
    "set_random_seed(1)\n",
    "\n",
    "from keras import initializers\n",
    "from keras.regularizers import l2\n",
    "from keras.models import Model\n",
    "from keras.layers import Embedding, Input, Dense, merge, Flatten, concatenate, multiply, dot, Reshape, GlobalMaxPooling1D, GlobalAveragePooling1D\n",
    "from keras.optimizers import Adagrad, Adam, SGD, RMSprop\n",
    "import keras.callbacks\n",
    "from time import time\n",
    "import pdb\n",
    "from scipy import sparse\n",
    "import sqlalchemy as db\n",
    "from sqlalchemy import create_engine\n",
    "import psycopg2\n",
    "import sqlite3"
   ]
  },
  {
   "cell_type": "code",
   "execution_count": 2,
   "metadata": {},
   "outputs": [],
   "source": [
    "from keras.preprocessing.sequence import pad_sequences\n",
    "from keras import backend as K"
   ]
  },
  {
   "cell_type": "code",
   "execution_count": 3,
   "metadata": {},
   "outputs": [],
   "source": [
    "import pandas as pd\n",
    "import pickle"
   ]
  },
  {
   "cell_type": "code",
   "execution_count": 4,
   "metadata": {},
   "outputs": [],
   "source": [
    "# DATABASE_URI = ###\n",
    "# engine = create_engine(DATABASE_URI)\n",
    "engine = sqlite3.connect('data/db.db', check_same_thread=False)"
   ]
  },
  {
   "cell_type": "code",
   "execution_count": 5,
   "metadata": {},
   "outputs": [],
   "source": [
    "from sklearn.metrics import roc_auc_score, precision_score, recall_score\n",
    "import matplotlib.pyplot as plt"
   ]
  },
  {
   "cell_type": "code",
   "execution_count": 6,
   "metadata": {},
   "outputs": [],
   "source": [
    "pre = \"data/models/\""
   ]
  },
  {
   "cell_type": "markdown",
   "metadata": {},
   "source": [
    "## User and item ids"
   ]
  },
  {
   "cell_type": "markdown",
   "metadata": {},
   "source": [
    "create new encoder for sample data"
   ]
  },
  {
   "cell_type": "code",
   "execution_count": 8,
   "metadata": {},
   "outputs": [],
   "source": [
    "from sklearn.preprocessing import LabelEncoder"
   ]
  },
  {
   "cell_type": "code",
   "execution_count": 7,
   "metadata": {},
   "outputs": [],
   "source": [
    "#users = pd.read_sql('SELECT DISTINCT userid from target_training_enc', engine).values\n",
    "#items = pd.read_sql('SELECT DISTINCT anbieter_artikelnummer from target_training_enc', engine).values"
   ]
  },
  {
   "cell_type": "code",
   "execution_count": 10,
   "metadata": {},
   "outputs": [],
   "source": [
    "#user_encoder = LabelEncoder()\n",
    "#user_encoder = user_encoder.fit(users)\n",
    "#item_encoder = LabelEncoder()\n",
    "#item_encoder = item_encoder.fit(items)"
   ]
  },
  {
   "cell_type": "code",
   "execution_count": 75,
   "metadata": {},
   "outputs": [],
   "source": [
    "#users_emb = round(len(users) ** 0.25)\n",
    "#items_emb = round(len(items) ** 0.25)"
   ]
  },
  {
   "cell_type": "markdown",
   "metadata": {},
   "source": [
    "load encoder trained for full data set"
   ]
  },
  {
   "cell_type": "code",
   "execution_count": null,
   "metadata": {},
   "outputs": [],
   "source": [
    "user_encoder = pickle.load(open(pre+'preprocessing/user_enc.pkl', \"rb\")) \n",
    "item_encoder = pickle.load(open(pre+'preprocessing/item_enc.pkl', \"rb\"))"
   ]
  },
  {
   "cell_type": "code",
   "execution_count": null,
   "metadata": {},
   "outputs": [],
   "source": [
    "users_emb = round(len(user_encoder.classes_) ** 0.25)\n",
    "items_emb = round(len(item_encoder.classes_) ** 0.25)"
   ]
  },
  {
   "cell_type": "markdown",
   "metadata": {},
   "source": [
    "### Model"
   ]
  },
  {
   "cell_type": "code",
   "execution_count": 11,
   "metadata": {},
   "outputs": [],
   "source": [
    "def get_model(layers=[50], reg_layers=[0], reg_mf=0):\n",
    "    assert len(layers) == len(reg_layers)\n",
    "    num_layer = len(layers) #Number of layers in the MLP\n",
    "    ### Input variables\n",
    "    # Context\n",
    "    user = Input(shape = (1,), dtype = \"float32\", name = \"user\")\n",
    "    item = Input(shape = (1,), dtype = \"float32\", name = \"item\")\n",
    "    # Item\n",
    "\n",
    "\n",
    "\n",
    "    ### Embedding layer\n",
    "    # MF\n",
    "    # Item\n",
    "    \n",
    "    MF_Embedding_Item = Embedding(input_dim=len(item_encoder.classes_)+1, output_dim=25, name='mf_embedding_item',\n",
    "                                  embeddings_initializer=initializers.random_normal(),\n",
    "                                  embeddings_regularizer=l2(reg_mf),input_length=1)\n",
    "\n",
    "\n",
    "    \n",
    "    # User\n",
    "    \n",
    "    MF_Embedding_User = Embedding(input_dim=len(user_encoder.classes_)+1, output_dim=25, name='mf_embedding_user',\n",
    "                                      embeddings_initializer=initializers.random_normal(),\n",
    "                                      embeddings_regularizer=l2(reg_mf),\n",
    "                                      #mask_zero = True,\n",
    "                                      input_length=1)\n",
    "\n",
    "\n",
    "    \n",
    "    # MLP\n",
    "    # item\n",
    "    MLP_Embedding_Item = Embedding(input_dim=len(item_encoder.classes_)+1, output_dim=items_emb, name='mlp_embedding_item',\n",
    "                                  embeddings_initializer=initializers.random_normal(),\n",
    "                                  embeddings_regularizer=l2(reg_mf),input_length=1)\n",
    "\n",
    "\n",
    "    \n",
    "    # User\n",
    "    \n",
    "    MLP_Embedding_User = Embedding(input_dim=len(user_encoder.classes_)+1, output_dim=users_emb, name='mlp_embedding_user',\n",
    "                                      embeddings_initializer=initializers.random_normal(),\n",
    "                                      embeddings_regularizer=l2(reg_mf),\n",
    "                                      #mask_zero = True,\n",
    "                                      input_length=1)\n",
    "    \n",
    "    ## all user ones zb. and then concenate / multiply in MF \n",
    "    # MF part\n",
    "    ## context \n",
    "    emb_item = Flatten(name = \"mf_flat_item\")(MF_Embedding_Item(item))\n",
    "    \n",
    "    ## user\n",
    "    emb_user = Flatten(name =\"mf_flat_user\")(MF_Embedding_User(user))\n",
    "\n",
    "    # MF connect\n",
    "    mf_vector = multiply([emb_item, emb_user], name = \"mf_multiply\")\n",
    "    \n",
    "    \n",
    "    # MLP part\n",
    "    ## user\n",
    "    emb_user2 = Flatten(name =\"mlp_flat_user\")(MLP_Embedding_User(user))\n",
    "\n",
    "    ## item\n",
    "    emb_item2 = Flatten(name = \"mlp_flat_item\")(MLP_Embedding_Item(item))\n",
    "\n",
    "    mlp_vector = concatenate([emb_item2, emb_user2], name = \"mlp_conc\")\n",
    "\n",
    "    for idx in range(1, num_layer):\n",
    "        layer = Dense(layers[idx], kernel_regularizer=l2(reg_layers[idx]), activation='relu', name=\"layer%d\" % idx)\n",
    "        mlp_vector = layer(mlp_vector)\n",
    "\n",
    "    # Concatenate MF and MLP parts\n",
    "    predict_vector = concatenate([mf_vector, mlp_vector])\n",
    "\n",
    "    # Final prediction layer\n",
    "    prediction = Dense(1, activation='sigmoid', kernel_initializer=initializers.lecun_normal(),\n",
    "                       name=\"prediction\")(predict_vector)\n",
    "\n",
    "    model_ = Model(inputs=[user, item],\n",
    "                   outputs=prediction)\n",
    "\n",
    "    return model_"
   ]
  },
  {
   "cell_type": "code",
   "execution_count": 71,
   "metadata": {},
   "outputs": [],
   "source": [
    "def transform(data_bundle):\n",
    "    try:\n",
    "        user = user_encoder.transform(data_bundle['userid'])+1\n",
    "    except:\n",
    "        data_bundle.reset_index(drop = True, inplace = True)\n",
    "        l_u = []\n",
    "        for i in range(len(data_bundle)):\n",
    "            try:\n",
    "                us = user_encoder.transform(data_bundle['userid'][i:i+1])+1\n",
    "                l_u.append(us[0])\n",
    "            except:\n",
    "                l_u.append(0)\n",
    "        user = np.array(l_u)\n",
    "    try:\n",
    "        item = item_encoder.transform(data_bundle['anbieter_artikelnummer'])+1\n",
    "    except:\n",
    "        data_bundle.reset_index(drop = True, inplace = True)\n",
    "        i_l =[]\n",
    "        for i in range(len(data_bundle)):\n",
    "            try:\n",
    "                it = item_encoder.transform(data_bundle['anbieter_artikelnummer'][i:i+1])+1\n",
    "                i_l.append(it[0])\n",
    "            except: \n",
    "                i_l.append(0)\n",
    "        item = np.array(i_l)\n",
    "    return([user, item])"
   ]
  },
  {
   "cell_type": "code",
   "execution_count": 73,
   "metadata": {},
   "outputs": [],
   "source": [
    "# Parameters\n",
    "# Model\n",
    "# MLP\n",
    "layers = [128,64,32,16] #[378,162,42,14]\n",
    "reg_layers = [0.001, 0.001, 0.001, 0.001] #[0.04,0.0001,0.01,0.01] #\n",
    "# MF\n",
    "reg_mf = 0.001 #0.0003 \n",
    "#num_negatives = args.num_neg\n",
    "learning_rate = 0.001"
   ]
  },
  {
   "cell_type": "code",
   "execution_count": 76,
   "metadata": {},
   "outputs": [
    {
     "name": "stdout",
     "output_type": "stream",
     "text": [
      "WARNING:tensorflow:From /opt/conda/lib/python3.7/site-packages/tensorflow/python/framework/op_def_library.py:263: colocate_with (from tensorflow.python.framework.ops) is deprecated and will be removed in a future version.\n",
      "Instructions for updating:\n",
      "Colocations handled automatically by placer.\n"
     ]
    }
   ],
   "source": [
    "model = get_model(layers, reg_layers, reg_mf)"
   ]
  },
  {
   "cell_type": "code",
   "execution_count": 77,
   "metadata": {},
   "outputs": [],
   "source": [
    "weights_path = pre + \"07_1_NeuMF_weights.h5\"\n"
   ]
  },
  {
   "cell_type": "code",
   "execution_count": 78,
   "metadata": {},
   "outputs": [],
   "source": [
    "model.load_weights(weights_path)"
   ]
  },
  {
   "cell_type": "markdown",
   "metadata": {},
   "source": [
    "# Evaluation"
   ]
  },
  {
   "cell_type": "markdown",
   "metadata": {},
   "source": [
    "## General Auroc"
   ]
  },
  {
   "cell_type": "markdown",
   "metadata": {},
   "source": [
    "Calculate the general Roc of across all users - same as selection criteria for best model"
   ]
  },
  {
   "cell_type": "code",
   "execution_count": 79,
   "metadata": {},
   "outputs": [],
   "source": [
    "query = ('''SELECT  [index], userid\n",
    "            FROM    target_testing_enc''')\n",
    "test_data = pd.read_sql(query, engine)"
   ]
  },
  {
   "cell_type": "code",
   "execution_count": 80,
   "metadata": {},
   "outputs": [],
   "source": [
    "test_list = test_data['index'].values.tolist()"
   ]
  },
  {
   "cell_type": "code",
   "execution_count": 81,
   "metadata": {},
   "outputs": [
    {
     "data": {
      "text/plain": [
       "1251313"
      ]
     },
     "execution_count": 81,
     "metadata": {},
     "output_type": "execute_result"
    }
   ],
   "source": [
    "len(test_list)"
   ]
  },
  {
   "cell_type": "code",
   "execution_count": null,
   "metadata": {},
   "outputs": [],
   "source": [
    "y_all = []\n",
    "predict_all = []"
   ]
  },
  {
   "cell_type": "code",
   "execution_count": 87,
   "metadata": {},
   "outputs": [],
   "source": [
    "for batches in range(0, len(test_list), 50000):\n",
    "    indeci = tuple(test_list[batches:batches+50000])\n",
    "    engine = sqlite3.connect('data/db.db', check_same_thread=False)\n",
    "    query_v = f\"\"\"\n",
    "        SELECT anbieter_artikelnummer, userid, pick FROM target_testing_enc where [index] IN {indeci}\n",
    "    \"\"\"\n",
    "    data = pd.read_sql_query(query_v, engine)\n",
    "    data_p = transform(data)\n",
    "    # select truth and make prediction\n",
    "    y_true = data.pick.values.flatten().tolist()\n",
    "    y_score = model.predict(x = data_p).flatten().tolist()\n",
    "    y_all.append(y_true)\n",
    "    predict_all.append(y_score)\n",
    "# flatten all results\n",
    "flat_list_y = [item for sublist in y_all for item in sublist]\n",
    "flat_list_predict = [item for sublist in predict_all for item in sublist]\n",
    "# make arrays\n",
    "y_array = np.array(flat_list_y, ndmin = 2).reshape(-1,1)\n",
    "pred_array = np.array(flat_list_predict, ndmin =2).reshape(-1,1)"
   ]
  },
  {
   "cell_type": "code",
   "execution_count": 88,
   "metadata": {},
   "outputs": [
    {
     "data": {
      "text/plain": [
       "1250000"
      ]
     },
     "execution_count": 88,
     "metadata": {},
     "output_type": "execute_result"
    }
   ],
   "source": [
    "batches"
   ]
  },
  {
   "cell_type": "code",
   "execution_count": 89,
   "metadata": {},
   "outputs": [
    {
     "data": {
      "text/plain": [
       "1251313"
      ]
     },
     "execution_count": 89,
     "metadata": {},
     "output_type": "execute_result"
    }
   ],
   "source": [
    "len(flat_list_predict)"
   ]
  },
  {
   "cell_type": "code",
   "execution_count": 90,
   "metadata": {},
   "outputs": [
    {
     "data": {
      "text/plain": [
       "1251313"
      ]
     },
     "execution_count": 90,
     "metadata": {},
     "output_type": "execute_result"
    }
   ],
   "source": [
    "len(flat_list_y)"
   ]
  },
  {
   "cell_type": "code",
   "execution_count": 91,
   "metadata": {},
   "outputs": [],
   "source": [
    "test_roc = roc_auc_score(y_array, pred_array)"
   ]
  },
  {
   "cell_type": "code",
   "execution_count": 92,
   "metadata": {},
   "outputs": [
    {
     "data": {
      "text/plain": [
       "0.6881976804143902"
      ]
     },
     "execution_count": 92,
     "metadata": {},
     "output_type": "execute_result"
    }
   ],
   "source": [
    "test_roc"
   ]
  },
  {
   "cell_type": "markdown",
   "metadata": {},
   "source": [
    "### Results"
   ]
  },
  {
   "cell_type": "code",
   "execution_count": 93,
   "metadata": {},
   "outputs": [],
   "source": [
    "results = pd.DataFrame({'index': test_list,\n",
    "                        'userid': test_data.userid.values.tolist(),\n",
    "                       'y_true': flat_list_y,\n",
    "                       'y_pred': flat_list_predict})"
   ]
  },
  {
   "cell_type": "code",
   "execution_count": 94,
   "metadata": {},
   "outputs": [
    {
     "data": {
      "text/html": [
       "<div>\n",
       "<style scoped>\n",
       "    .dataframe tbody tr th:only-of-type {\n",
       "        vertical-align: middle;\n",
       "    }\n",
       "\n",
       "    .dataframe tbody tr th {\n",
       "        vertical-align: top;\n",
       "    }\n",
       "\n",
       "    .dataframe thead th {\n",
       "        text-align: right;\n",
       "    }\n",
       "</style>\n",
       "<table border=\"1\" class=\"dataframe\">\n",
       "  <thead>\n",
       "    <tr style=\"text-align: right;\">\n",
       "      <th></th>\n",
       "      <th>index</th>\n",
       "      <th>userid</th>\n",
       "      <th>y_true</th>\n",
       "      <th>y_pred</th>\n",
       "    </tr>\n",
       "  </thead>\n",
       "  <tbody>\n",
       "    <tr>\n",
       "      <td>0</td>\n",
       "      <td>129284</td>\n",
       "      <td>808754</td>\n",
       "      <td>0.0</td>\n",
       "      <td>0.329194</td>\n",
       "    </tr>\n",
       "    <tr>\n",
       "      <td>1</td>\n",
       "      <td>129285</td>\n",
       "      <td>1613118</td>\n",
       "      <td>0.0</td>\n",
       "      <td>0.071562</td>\n",
       "    </tr>\n",
       "    <tr>\n",
       "      <td>2</td>\n",
       "      <td>129286</td>\n",
       "      <td>1678457</td>\n",
       "      <td>0.0</td>\n",
       "      <td>0.203354</td>\n",
       "    </tr>\n",
       "    <tr>\n",
       "      <td>3</td>\n",
       "      <td>129287</td>\n",
       "      <td>1613118</td>\n",
       "      <td>0.0</td>\n",
       "      <td>0.029780</td>\n",
       "    </tr>\n",
       "    <tr>\n",
       "      <td>4</td>\n",
       "      <td>129288</td>\n",
       "      <td>1509849</td>\n",
       "      <td>0.0</td>\n",
       "      <td>0.728400</td>\n",
       "    </tr>\n",
       "  </tbody>\n",
       "</table>\n",
       "</div>"
      ],
      "text/plain": [
       "    index   userid  y_true    y_pred\n",
       "0  129284   808754     0.0  0.329194\n",
       "1  129285  1613118     0.0  0.071562\n",
       "2  129286  1678457     0.0  0.203354\n",
       "3  129287  1613118     0.0  0.029780\n",
       "4  129288  1509849     0.0  0.728400"
      ]
     },
     "execution_count": 94,
     "metadata": {},
     "output_type": "execute_result"
    }
   ],
   "source": [
    "results.head()"
   ]
  },
  {
   "cell_type": "code",
   "execution_count": 95,
   "metadata": {},
   "outputs": [
    {
     "data": {
      "text/plain": [
       "0.2854074080585753"
      ]
     },
     "execution_count": 95,
     "metadata": {},
     "output_type": "execute_result"
    }
   ],
   "source": [
    "np.mean(results.y_true)"
   ]
  },
  {
   "cell_type": "code",
   "execution_count": 96,
   "metadata": {},
   "outputs": [],
   "source": [
    "results.to_pickle(pre + 'evaluation/07_1_test_results.pkl')"
   ]
  },
  {
   "cell_type": "markdown",
   "metadata": {},
   "source": [
    "## Per User Metrics"
   ]
  },
  {
   "cell_type": "code",
   "execution_count": 97,
   "metadata": {},
   "outputs": [
    {
     "data": {
      "text/html": [
       "<div>\n",
       "<style scoped>\n",
       "    .dataframe tbody tr th:only-of-type {\n",
       "        vertical-align: middle;\n",
       "    }\n",
       "\n",
       "    .dataframe tbody tr th {\n",
       "        vertical-align: top;\n",
       "    }\n",
       "\n",
       "    .dataframe thead th {\n",
       "        text-align: right;\n",
       "    }\n",
       "</style>\n",
       "<table border=\"1\" class=\"dataframe\">\n",
       "  <thead>\n",
       "    <tr style=\"text-align: right;\">\n",
       "      <th></th>\n",
       "      <th>index</th>\n",
       "      <th>userid</th>\n",
       "      <th>y_true</th>\n",
       "      <th>y_pred</th>\n",
       "    </tr>\n",
       "  </thead>\n",
       "  <tbody>\n",
       "    <tr>\n",
       "      <td>0</td>\n",
       "      <td>129284</td>\n",
       "      <td>808754</td>\n",
       "      <td>0.0</td>\n",
       "      <td>0.329194</td>\n",
       "    </tr>\n",
       "    <tr>\n",
       "      <td>1</td>\n",
       "      <td>129285</td>\n",
       "      <td>1613118</td>\n",
       "      <td>0.0</td>\n",
       "      <td>0.071562</td>\n",
       "    </tr>\n",
       "    <tr>\n",
       "      <td>2</td>\n",
       "      <td>129286</td>\n",
       "      <td>1678457</td>\n",
       "      <td>0.0</td>\n",
       "      <td>0.203354</td>\n",
       "    </tr>\n",
       "    <tr>\n",
       "      <td>3</td>\n",
       "      <td>129287</td>\n",
       "      <td>1613118</td>\n",
       "      <td>0.0</td>\n",
       "      <td>0.029780</td>\n",
       "    </tr>\n",
       "    <tr>\n",
       "      <td>4</td>\n",
       "      <td>129288</td>\n",
       "      <td>1509849</td>\n",
       "      <td>0.0</td>\n",
       "      <td>0.728400</td>\n",
       "    </tr>\n",
       "  </tbody>\n",
       "</table>\n",
       "</div>"
      ],
      "text/plain": [
       "    index   userid  y_true    y_pred\n",
       "0  129284   808754     0.0  0.329194\n",
       "1  129285  1613118     0.0  0.071562\n",
       "2  129286  1678457     0.0  0.203354\n",
       "3  129287  1613118     0.0  0.029780\n",
       "4  129288  1509849     0.0  0.728400"
      ]
     },
     "execution_count": 97,
     "metadata": {},
     "output_type": "execute_result"
    }
   ],
   "source": [
    "results.head()"
   ]
  },
  {
   "cell_type": "markdown",
   "metadata": {},
   "source": [
    "### Calc UAUC, Precision@M, und Recall@M"
   ]
  },
  {
   "cell_type": "code",
   "execution_count": 98,
   "metadata": {},
   "outputs": [],
   "source": [
    "users = results.groupby('userid').agg({'index': 'count', 'y_true': 'sum'}).reset_index()"
   ]
  },
  {
   "cell_type": "code",
   "execution_count": 99,
   "metadata": {},
   "outputs": [],
   "source": [
    "users.columns = ['userid', 'clicks', 'picks']"
   ]
  },
  {
   "cell_type": "code",
   "execution_count": 100,
   "metadata": {},
   "outputs": [
    {
     "data": {
      "text/html": [
       "<div>\n",
       "<style scoped>\n",
       "    .dataframe tbody tr th:only-of-type {\n",
       "        vertical-align: middle;\n",
       "    }\n",
       "\n",
       "    .dataframe tbody tr th {\n",
       "        vertical-align: top;\n",
       "    }\n",
       "\n",
       "    .dataframe thead th {\n",
       "        text-align: right;\n",
       "    }\n",
       "</style>\n",
       "<table border=\"1\" class=\"dataframe\">\n",
       "  <thead>\n",
       "    <tr style=\"text-align: right;\">\n",
       "      <th></th>\n",
       "      <th>userid</th>\n",
       "      <th>clicks</th>\n",
       "      <th>picks</th>\n",
       "    </tr>\n",
       "  </thead>\n",
       "  <tbody>\n",
       "    <tr>\n",
       "      <td>0</td>\n",
       "      <td>0</td>\n",
       "      <td>436</td>\n",
       "      <td>295.0</td>\n",
       "    </tr>\n",
       "    <tr>\n",
       "      <td>1</td>\n",
       "      <td>100099</td>\n",
       "      <td>18</td>\n",
       "      <td>3.0</td>\n",
       "    </tr>\n",
       "    <tr>\n",
       "      <td>2</td>\n",
       "      <td>100134</td>\n",
       "      <td>85</td>\n",
       "      <td>21.0</td>\n",
       "    </tr>\n",
       "    <tr>\n",
       "      <td>3</td>\n",
       "      <td>100178</td>\n",
       "      <td>1</td>\n",
       "      <td>1.0</td>\n",
       "    </tr>\n",
       "    <tr>\n",
       "      <td>4</td>\n",
       "      <td>100561</td>\n",
       "      <td>20</td>\n",
       "      <td>2.0</td>\n",
       "    </tr>\n",
       "  </tbody>\n",
       "</table>\n",
       "</div>"
      ],
      "text/plain": [
       "   userid  clicks  picks\n",
       "0       0     436  295.0\n",
       "1  100099      18    3.0\n",
       "2  100134      85   21.0\n",
       "3  100178       1    1.0\n",
       "4  100561      20    2.0"
      ]
     },
     "execution_count": 100,
     "metadata": {},
     "output_type": "execute_result"
    }
   ],
   "source": [
    "users.head()"
   ]
  },
  {
   "cell_type": "markdown",
   "metadata": {},
   "source": [
    "Filter users that have at least 1 pick and also one not pick - otherwise metrics are not meaningful"
   ]
  },
  {
   "cell_type": "code",
   "execution_count": 101,
   "metadata": {
    "scrolled": false
   },
   "outputs": [
    {
     "data": {
      "text/plain": [
       "33867"
      ]
     },
     "execution_count": 101,
     "metadata": {},
     "output_type": "execute_result"
    }
   ],
   "source": [
    "len(users)"
   ]
  },
  {
   "cell_type": "code",
   "execution_count": 102,
   "metadata": {},
   "outputs": [],
   "source": [
    "k = 5"
   ]
  },
  {
   "cell_type": "code",
   "execution_count": 103,
   "metadata": {},
   "outputs": [],
   "source": [
    "all_user_roc = []\n",
    "all_user_prec = []\n",
    "all_recall = []\n",
    "\n",
    "for u in users.userid.values.tolist(): \n",
    "    # user clicks\n",
    "    data_u = results[results.userid == u].reset_index(drop=True)\n",
    "    # aurco\n",
    "    if len(data_u.y_true.unique()) > 1:\n",
    "        roc = roc_auc_score(data_u.y_true, data_u.y_pred)\n",
    "    else:\n",
    "        roc = None\n",
    "    all_user_roc.append(roc)\n",
    "    # find top k\n",
    "    data_u_top = data_u.sort_values('y_pred', ascending = False)[:k]\n",
    "    # precision@k = (# of recommended items @k that are relevant) / (# of recommended items @k)\n",
    "    # recal@k = (# of recommended items @k that are relevant) / (total # of relevant items)\n",
    "    if sum(data_u.y_true) > 0: # otherwise recall is not defined, precision should not be punished\n",
    "        prec = sum(data_u_top.y_true)/len(data_u_top)\n",
    "        recall = sum(data_u_top.y_true)/sum(data_u.y_true)\n",
    "    else : \n",
    "        prec = None # would always be 0 - wasn't fault of ranking but data, could myb set to 1 after\n",
    "        recall = None # cannot be calculated - ranking did not miss any positives, could set to 1 after\n",
    "    all_recall.append(recall)\n",
    "    all_user_prec.append(prec)"
   ]
  },
  {
   "cell_type": "markdown",
   "metadata": {},
   "source": [
    "----------------------------------------------"
   ]
  },
  {
   "cell_type": "code",
   "execution_count": 104,
   "metadata": {},
   "outputs": [],
   "source": [
    "users['u_roc'] =all_user_roc\n",
    "users['prec'] = all_user_prec\n",
    "users['recall'] = all_recall"
   ]
  },
  {
   "cell_type": "code",
   "execution_count": 105,
   "metadata": {},
   "outputs": [],
   "source": [
    "users.to_pickle(pre + \"evaluation/07_1_test_user_results_new.pkl\")"
   ]
  },
  {
   "cell_type": "code",
   "execution_count": 106,
   "metadata": {},
   "outputs": [],
   "source": [
    "users = pd.read_pickle(pre +\"evaluation/07_1_test_user_results_new.pkl\")"
   ]
  },
  {
   "cell_type": "markdown",
   "metadata": {},
   "source": [
    "### Evaluate User AUROC"
   ]
  },
  {
   "cell_type": "code",
   "execution_count": 107,
   "metadata": {},
   "outputs": [
    {
     "data": {
      "text/html": [
       "<div>\n",
       "<style scoped>\n",
       "    .dataframe tbody tr th:only-of-type {\n",
       "        vertical-align: middle;\n",
       "    }\n",
       "\n",
       "    .dataframe tbody tr th {\n",
       "        vertical-align: top;\n",
       "    }\n",
       "\n",
       "    .dataframe thead th {\n",
       "        text-align: right;\n",
       "    }\n",
       "</style>\n",
       "<table border=\"1\" class=\"dataframe\">\n",
       "  <thead>\n",
       "    <tr style=\"text-align: right;\">\n",
       "      <th></th>\n",
       "      <th>userid</th>\n",
       "      <th>clicks</th>\n",
       "      <th>picks</th>\n",
       "      <th>u_roc</th>\n",
       "      <th>prec</th>\n",
       "      <th>recall</th>\n",
       "    </tr>\n",
       "  </thead>\n",
       "  <tbody>\n",
       "    <tr>\n",
       "      <td>26913</td>\n",
       "      <td>593632</td>\n",
       "      <td>44</td>\n",
       "      <td>16.0</td>\n",
       "      <td>0.944196</td>\n",
       "      <td>1.0</td>\n",
       "      <td>0.3125</td>\n",
       "    </tr>\n",
       "    <tr>\n",
       "      <td>4151</td>\n",
       "      <td>1585564</td>\n",
       "      <td>2</td>\n",
       "      <td>1.0</td>\n",
       "      <td>1.000000</td>\n",
       "      <td>0.5</td>\n",
       "      <td>1.0000</td>\n",
       "    </tr>\n",
       "    <tr>\n",
       "      <td>18294</td>\n",
       "      <td>1681724</td>\n",
       "      <td>13</td>\n",
       "      <td>5.0</td>\n",
       "      <td>0.762500</td>\n",
       "      <td>0.6</td>\n",
       "      <td>0.6000</td>\n",
       "    </tr>\n",
       "    <tr>\n",
       "      <td>24903</td>\n",
       "      <td>362166</td>\n",
       "      <td>8</td>\n",
       "      <td>0.0</td>\n",
       "      <td>NaN</td>\n",
       "      <td>NaN</td>\n",
       "      <td>NaN</td>\n",
       "    </tr>\n",
       "    <tr>\n",
       "      <td>391</td>\n",
       "      <td>1506587</td>\n",
       "      <td>25</td>\n",
       "      <td>5.0</td>\n",
       "      <td>0.820000</td>\n",
       "      <td>0.6</td>\n",
       "      <td>0.6000</td>\n",
       "    </tr>\n",
       "  </tbody>\n",
       "</table>\n",
       "</div>"
      ],
      "text/plain": [
       "        userid  clicks  picks     u_roc  prec  recall\n",
       "26913   593632      44   16.0  0.944196   1.0  0.3125\n",
       "4151   1585564       2    1.0  1.000000   0.5  1.0000\n",
       "18294  1681724      13    5.0  0.762500   0.6  0.6000\n",
       "24903   362166       8    0.0       NaN   NaN     NaN\n",
       "391    1506587      25    5.0  0.820000   0.6  0.6000"
      ]
     },
     "execution_count": 107,
     "metadata": {},
     "output_type": "execute_result"
    }
   ],
   "source": [
    "users.sample(5)"
   ]
  },
  {
   "cell_type": "code",
   "execution_count": 108,
   "metadata": {},
   "outputs": [
    {
     "data": {
      "text/plain": [
       "33867"
      ]
     },
     "execution_count": 108,
     "metadata": {},
     "output_type": "execute_result"
    }
   ],
   "source": [
    "len(users)"
   ]
  },
  {
   "cell_type": "code",
   "execution_count": 109,
   "metadata": {},
   "outputs": [],
   "source": [
    "# delete users that did not have a valid roc auc score\n",
    "all_roc_clean = [x for x in users.u_roc if not pd.isnull(x)]\n",
    "user_roc = sum(all_roc_clean) / len(all_roc_clean)"
   ]
  },
  {
   "cell_type": "code",
   "execution_count": 110,
   "metadata": {},
   "outputs": [
    {
     "data": {
      "text/plain": [
       "22363"
      ]
     },
     "execution_count": 110,
     "metadata": {},
     "output_type": "execute_result"
    }
   ],
   "source": [
    "len(all_roc_clean)"
   ]
  },
  {
   "cell_type": "code",
   "execution_count": 111,
   "metadata": {
    "scrolled": true
   },
   "outputs": [
    {
     "data": {
      "text/plain": [
       "0.6859849209727682"
      ]
     },
     "execution_count": 111,
     "metadata": {},
     "output_type": "execute_result"
    }
   ],
   "source": [
    "user_roc"
   ]
  },
  {
   "cell_type": "code",
   "execution_count": 112,
   "metadata": {},
   "outputs": [],
   "source": [
    "import statistics"
   ]
  },
  {
   "cell_type": "code",
   "execution_count": 113,
   "metadata": {},
   "outputs": [
    {
     "data": {
      "text/plain": [
       "0.7000000000000001"
      ]
     },
     "execution_count": 113,
     "metadata": {},
     "output_type": "execute_result"
    }
   ],
   "source": [
    "statistics.median(all_roc_clean)"
   ]
  },
  {
   "cell_type": "code",
   "execution_count": 114,
   "metadata": {},
   "outputs": [
    {
     "data": {
      "text/plain": [
       "<matplotlib.axes._subplots.AxesSubplot at 0x7fbbbaf7ec50>"
      ]
     },
     "execution_count": 114,
     "metadata": {},
     "output_type": "execute_result"
    },
    {
     "data": {
      "image/png": "[encoded data removed]",
      "text/plain": [
       "<Figure size 432x288 with 1 Axes>"
      ]
     },
     "metadata": {
      "needs_background": "light"
     },
     "output_type": "display_data"
    }
   ],
   "source": [
    "users.u_roc.hist(bins = 20)"
   ]
  },
  {
   "cell_type": "code",
   "execution_count": 115,
   "metadata": {},
   "outputs": [
    {
     "data": {
      "text/plain": [
       "<matplotlib.axes._subplots.AxesSubplot at 0x7fbbbea23ac8>"
      ]
     },
     "execution_count": 115,
     "metadata": {},
     "output_type": "execute_result"
    },
    {
     "data": {
      "image/png": "[encoded data removed]",
      "text/plain": [
       "<Figure size 432x288 with 1 Axes>"
      ]
     },
     "metadata": {
      "needs_background": "light"
     },
     "output_type": "display_data"
    }
   ],
   "source": [
    "users.u_roc.hist(bins = 20, cumulative=True,density=1)"
   ]
  },
  {
   "cell_type": "markdown",
   "metadata": {},
   "source": [
    "### Evaluate Precision@M per User"
   ]
  },
  {
   "cell_type": "code",
   "execution_count": 116,
   "metadata": {
    "scrolled": false
   },
   "outputs": [
    {
     "data": {
      "text/plain": [
       "0.53173721340388"
      ]
     },
     "execution_count": 116,
     "metadata": {},
     "output_type": "execute_result"
    }
   ],
   "source": [
    "avg_precision = np.mean(users.prec)\n",
    "avg_precision"
   ]
  },
  {
   "cell_type": "code",
   "execution_count": 117,
   "metadata": {},
   "outputs": [
    {
     "data": {
      "text/plain": [
       "<matplotlib.axes._subplots.AxesSubplot at 0x7fbbc9ed5c18>"
      ]
     },
     "execution_count": 117,
     "metadata": {},
     "output_type": "execute_result"
    },
    {
     "data": {
      "image/png": "[encoded data removed]",
      "text/plain": [
       "<Figure size 432x288 with 1 Axes>"
      ]
     },
     "metadata": {
      "needs_background": "light"
     },
     "output_type": "display_data"
    }
   ],
   "source": [
    "users.prec.hist()"
   ]
  },
  {
   "cell_type": "code",
   "execution_count": 118,
   "metadata": {},
   "outputs": [
    {
     "data": {
      "text/plain": [
       "0.48552445259282445"
      ]
     },
     "execution_count": 118,
     "metadata": {},
     "output_type": "execute_result"
    }
   ],
   "source": [
    "users[pd.isna(users.u_roc) == False].prec.mean() # is a little overflattet now, because of some that are only 1"
   ]
  },
  {
   "cell_type": "code",
   "execution_count": 119,
   "metadata": {},
   "outputs": [
    {
     "data": {
      "text/plain": [
       "<matplotlib.axes._subplots.AxesSubplot at 0x7fbbbd5090b8>"
      ]
     },
     "execution_count": 119,
     "metadata": {},
     "output_type": "execute_result"
    },
    {
     "data": {
      "image/png": "[encoded data removed]",
      "text/plain": [
       "<Figure size 432x288 with 1 Axes>"
      ]
     },
     "metadata": {
      "needs_background": "light"
     },
     "output_type": "display_data"
    }
   ],
   "source": [
    "users[pd.isna(users.u_roc) == False].prec.hist()"
   ]
  },
  {
   "cell_type": "code",
   "execution_count": 120,
   "metadata": {
    "scrolled": true
   },
   "outputs": [
    {
     "data": {
      "text/plain": [
       "<matplotlib.axes._subplots.AxesSubplot at 0x7fbbc32a6be0>"
      ]
     },
     "execution_count": 120,
     "metadata": {},
     "output_type": "execute_result"
    },
    {
     "data": {
      "image/png": "[encoded data removed]",
      "text/plain": [
       "<Figure size 432x288 with 1 Axes>"
      ]
     },
     "metadata": {
      "needs_background": "light"
     },
     "output_type": "display_data"
    }
   ],
   "source": [
    "users[users.clicks > 5].prec.hist()"
   ]
  },
  {
   "cell_type": "code",
   "execution_count": 121,
   "metadata": {},
   "outputs": [
    {
     "data": {
      "text/plain": [
       "0.5070124308570748"
      ]
     },
     "execution_count": 121,
     "metadata": {},
     "output_type": "execute_result"
    }
   ],
   "source": [
    "np.mean(users[users.clicks > 5].prec)"
   ]
  },
  {
   "cell_type": "markdown",
   "metadata": {},
   "source": [
    "### Evaluate Recall@M per User"
   ]
  },
  {
   "cell_type": "code",
   "execution_count": 122,
   "metadata": {},
   "outputs": [
    {
     "data": {
      "text/plain": [
       "0.6115888365129211"
      ]
     },
     "execution_count": 122,
     "metadata": {},
     "output_type": "execute_result"
    }
   ],
   "source": [
    "avg_recall = np.mean(users.recall)\n",
    "avg_recall"
   ]
  },
  {
   "cell_type": "code",
   "execution_count": 123,
   "metadata": {},
   "outputs": [
    {
     "data": {
      "text/plain": [
       "<matplotlib.axes._subplots.AxesSubplot at 0x7fbbc32a61d0>"
      ]
     },
     "execution_count": 123,
     "metadata": {},
     "output_type": "execute_result"
    },
    {
     "data": {
      "image/png": "[encoded data removed]",
      "text/plain": [
       "<Figure size 432x288 with 1 Axes>"
      ]
     },
     "metadata": {
      "needs_background": "light"
     },
     "output_type": "display_data"
    }
   ],
   "source": [
    "users.recall.hist()"
   ]
  },
  {
   "cell_type": "code",
   "execution_count": 124,
   "metadata": {},
   "outputs": [
    {
     "data": {
      "text/plain": [
       "0.4323878970512383"
      ]
     },
     "execution_count": 124,
     "metadata": {},
     "output_type": "execute_result"
    }
   ],
   "source": [
    "users[users.clicks > 5].recall.mean() # is a little overflatted with users that have less than 5 "
   ]
  },
  {
   "cell_type": "code",
   "execution_count": 125,
   "metadata": {
    "scrolled": true
   },
   "outputs": [
    {
     "data": {
      "text/plain": [
       "<matplotlib.axes._subplots.AxesSubplot at 0x7fbbbbb818d0>"
      ]
     },
     "execution_count": 125,
     "metadata": {},
     "output_type": "execute_result"
    },
    {
     "data": {
      "image/png": "[encoded data removed]",
      "text/plain": [
       "<Figure size 432x288 with 1 Axes>"
      ]
     },
     "metadata": {
      "needs_background": "light"
     },
     "output_type": "display_data"
    }
   ],
   "source": [
    "users[users.clicks > 5].recall.hist()"
   ]
  },
  {
   "cell_type": "markdown",
   "metadata": {},
   "source": [
    "### UROC@M"
   ]
  },
  {
   "cell_type": "markdown",
   "metadata": {},
   "source": [
    "Calculate UROC@M and compare the average at different values in Graph, M is max - so cutoff value, doesn't matter if user only has less"
   ]
  },
  {
   "cell_type": "code",
   "execution_count": 126,
   "metadata": {},
   "outputs": [],
   "source": [
    "lists = {}\n",
    "lists['all_user_roc_5'] = []\n",
    "lists['all_user_roc_10'] = []\n",
    "lists['all_user_roc_15'] = []\n",
    "lists['all_user_roc_20'] = []"
   ]
  },
  {
   "cell_type": "code",
   "execution_count": 127,
   "metadata": {},
   "outputs": [],
   "source": [
    "for u in users.userid.values.tolist(): \n",
    "    # user clicks\n",
    "    data_u = results[results.userid == u].reset_index(drop=True)\n",
    "    for k in [5, 10, 15, 20]:\n",
    "        data_u_top = data_u.sort_values('y_pred', ascending = False)[:k]\n",
    "        # aurco\n",
    "        if len(data_u_top.y_true.unique()) > 1:\n",
    "            roc = roc_auc_score(data_u_top.y_true, data_u_top.y_pred)\n",
    "        else:\n",
    "            roc = None\n",
    "        k_name = 'all_user_roc_' + str(k)\n",
    "        lists[k_name].append(roc)"
   ]
  },
  {
   "cell_type": "markdown",
   "metadata": {},
   "source": [
    "Evaluate: Average per M"
   ]
  },
  {
   "cell_type": "code",
   "execution_count": 128,
   "metadata": {},
   "outputs": [
    {
     "data": {
      "text/plain": [
       "33867"
      ]
     },
     "execution_count": 128,
     "metadata": {},
     "output_type": "execute_result"
    }
   ],
   "source": [
    "len(lists['all_user_roc_5'])"
   ]
  },
  {
   "cell_type": "code",
   "execution_count": 129,
   "metadata": {},
   "outputs": [],
   "source": [
    "all_roc_clean_5 = [x for x in lists['all_user_roc_5'] if not pd.isnull(x)]\n",
    "user_roc_5 = sum(all_roc_clean_5) / len(all_roc_clean_5)"
   ]
  },
  {
   "cell_type": "code",
   "execution_count": 130,
   "metadata": {},
   "outputs": [
    {
     "data": {
      "text/plain": [
       "0.6451452010794879"
      ]
     },
     "execution_count": 130,
     "metadata": {},
     "output_type": "execute_result"
    }
   ],
   "source": [
    "user_roc_5"
   ]
  },
  {
   "cell_type": "code",
   "execution_count": 131,
   "metadata": {},
   "outputs": [
    {
     "data": {
      "text/plain": [
       "0.6547223213519666"
      ]
     },
     "execution_count": 131,
     "metadata": {},
     "output_type": "execute_result"
    }
   ],
   "source": [
    "all_roc_clean_10 = [x for x in lists['all_user_roc_10'] if not pd.isnull(x)]\n",
    "user_roc_10 = sum(all_roc_clean_10) / len(all_roc_clean_10)\n",
    "user_roc_10"
   ]
  },
  {
   "cell_type": "code",
   "execution_count": 132,
   "metadata": {},
   "outputs": [
    {
     "data": {
      "text/plain": [
       "0.6613333944500559"
      ]
     },
     "execution_count": 132,
     "metadata": {},
     "output_type": "execute_result"
    }
   ],
   "source": [
    "all_roc_clean_15 = [x for x in lists['all_user_roc_15'] if not pd.isnull(x)]\n",
    "user_roc_15 = sum(all_roc_clean_15) / len(all_roc_clean_15)\n",
    "user_roc_15"
   ]
  },
  {
   "cell_type": "code",
   "execution_count": 133,
   "metadata": {},
   "outputs": [
    {
     "data": {
      "text/plain": [
       "0.6664973016016636"
      ]
     },
     "execution_count": 133,
     "metadata": {},
     "output_type": "execute_result"
    }
   ],
   "source": [
    "all_roc_clean_20 = [x for x in lists['all_user_roc_20'] if not pd.isnull(x)]\n",
    "user_roc_20 = sum(all_roc_clean_20) / len(all_roc_clean_20)\n",
    "user_roc_20"
   ]
  },
  {
   "cell_type": "code",
   "execution_count": 134,
   "metadata": {},
   "outputs": [],
   "source": [
    "users['u_roc_5'] = lists['all_user_roc_5']\n",
    "users['u_roc_10'] = lists['all_user_roc_10']\n",
    "users['u_roc_15'] = lists['all_user_roc_15']\n",
    "users['u_roc_20'] = lists['all_user_roc_20']"
   ]
  },
  {
   "cell_type": "code",
   "execution_count": 135,
   "metadata": {},
   "outputs": [],
   "source": [
    "users.to_pickle(pre + \"evaluation/07_1_test_user_results_new_extended.pkl\")"
   ]
  },
  {
   "cell_type": "code",
   "execution_count": 136,
   "metadata": {},
   "outputs": [
    {
     "data": {
      "text/plain": [
       "<matplotlib.axes._subplots.AxesSubplot at 0x7fbbbc45f630>"
      ]
     },
     "execution_count": 136,
     "metadata": {},
     "output_type": "execute_result"
    },
    {
     "data": {
      "image/png": "[encoded data removed]",
      "text/plain": [
       "<Figure size 432x288 with 1 Axes>"
      ]
     },
     "metadata": {
      "needs_background": "light"
     },
     "output_type": "display_data"
    }
   ],
   "source": [
    "users['u_roc_5'].hist(bins = 20)"
   ]
  },
  {
   "cell_type": "markdown",
   "metadata": {},
   "source": [
    "Graph to display results"
   ]
  },
  {
   "cell_type": "code",
   "execution_count": 137,
   "metadata": {},
   "outputs": [],
   "source": [
    "all_uroc_scores = [user_roc_5, user_roc_10, user_roc_15, user_roc_20]"
   ]
  },
  {
   "cell_type": "code",
   "execution_count": 138,
   "metadata": {},
   "outputs": [
    {
     "data": {
      "text/plain": [
       "[0.6451452010794879,\n",
       " 0.6547223213519666,\n",
       " 0.6613333944500559,\n",
       " 0.6664973016016636]"
      ]
     },
     "execution_count": 138,
     "metadata": {},
     "output_type": "execute_result"
    }
   ],
   "source": [
    "all_uroc_scores"
   ]
  },
  {
   "cell_type": "code",
   "execution_count": 139,
   "metadata": {},
   "outputs": [],
   "source": [
    "M = ['5','10','15','20']"
   ]
  },
  {
   "cell_type": "code",
   "execution_count": 140,
   "metadata": {},
   "outputs": [],
   "source": [
    "from matplotlib import pyplot as plt"
   ]
  },
  {
   "cell_type": "code",
   "execution_count": 141,
   "metadata": {
    "scrolled": true
   },
   "outputs": [
    {
     "data": {
      "image/png": "[encoded data removed]",
      "text/plain": [
       "<Figure size 432x288 with 1 Axes>"
      ]
     },
     "metadata": {
      "needs_background": "light"
     },
     "output_type": "display_data"
    }
   ],
   "source": [
    "plt.bar(M, all_uroc_scores)\n",
    "#plt.title('UAUC@M for different list length')\n",
    "plt.ylabel('UAUC@M')\n",
    "plt.xlabel('M')\n",
    "plt.ylim(0,0.7)\n",
    "plt.show()"
   ]
  },
  {
   "cell_type": "markdown",
   "metadata": {},
   "source": [
    "## Compare Scores of known vs. unknown users"
   ]
  },
  {
   "cell_type": "markdown",
   "metadata": {},
   "source": [
    "Evaluate, whether the average UAUC for unknown and known users - see if it can be predicted better by other model"
   ]
  },
  {
   "cell_type": "code",
   "execution_count": 23,
   "metadata": {},
   "outputs": [],
   "source": [
    "import scipy"
   ]
  },
  {
   "cell_type": "code",
   "execution_count": 10,
   "metadata": {},
   "outputs": [],
   "source": [
    "users_tr = user_encoder.classes_"
   ]
  },
  {
   "cell_type": "code",
   "execution_count": 11,
   "metadata": {},
   "outputs": [],
   "source": [
    "users_tr_df = pd.DataFrame(users_tr)"
   ]
  },
  {
   "cell_type": "code",
   "execution_count": 15,
   "metadata": {},
   "outputs": [],
   "source": [
    "users = pd.read_pickle(pre + \"evaluation/07_1_test_user_results_new_extended.pkl\")"
   ]
  },
  {
   "cell_type": "code",
   "execution_count": 16,
   "metadata": {},
   "outputs": [],
   "source": [
    "users_j = pd.merge(users, users_tr_df, how = 'left',left_on = 'userid', right_on = 0)"
   ]
  },
  {
   "cell_type": "code",
   "execution_count": 34,
   "metadata": {},
   "outputs": [],
   "source": [
    "users_j_notna = users_j[pd.notna(users_j.u_roc)]"
   ]
  },
  {
   "cell_type": "markdown",
   "metadata": {},
   "source": [
    "Average UAUC for users that are not in the training data"
   ]
  },
  {
   "cell_type": "code",
   "execution_count": 36,
   "metadata": {},
   "outputs": [
    {
     "data": {
      "text/plain": [
       "0.6762666866752247"
      ]
     },
     "execution_count": 36,
     "metadata": {},
     "output_type": "execute_result"
    }
   ],
   "source": [
    "np.mean(users_j_notna[pd.isna(users_j_notna[0])].u_roc)"
   ]
  },
  {
   "cell_type": "code",
   "execution_count": 42,
   "metadata": {},
   "outputs": [
    {
     "data": {
      "text/plain": [
       "0.00291099832397437"
      ]
     },
     "execution_count": 42,
     "metadata": {},
     "output_type": "execute_result"
    }
   ],
   "source": [
    "scipy.stats.sem(users_j_notna[pd.isna(users_j_notna[0])].u_roc)"
   ]
  },
  {
   "cell_type": "code",
   "execution_count": 37,
   "metadata": {},
   "outputs": [
    {
     "data": {
      "text/plain": [
       "7546"
      ]
     },
     "execution_count": 37,
     "metadata": {},
     "output_type": "execute_result"
    }
   ],
   "source": [
    "len(users_j_notna[pd.isna(users_j_notna[0])].u_roc)"
   ]
  },
  {
   "cell_type": "markdown",
   "metadata": {},
   "source": [
    "Average UAUC for users that are in the training data"
   ]
  },
  {
   "cell_type": "code",
   "execution_count": 39,
   "metadata": {},
   "outputs": [
    {
     "data": {
      "text/plain": [
       "0.6909342221814718"
      ]
     },
     "execution_count": 39,
     "metadata": {},
     "output_type": "execute_result"
    }
   ],
   "source": [
    "np.mean(users_j_notna[pd.isna(users_j_notna[0]) == False].u_roc)"
   ]
  },
  {
   "cell_type": "code",
   "execution_count": 41,
   "metadata": {
    "scrolled": true
   },
   "outputs": [
    {
     "data": {
      "text/plain": [
       "0.0019218454677065672"
      ]
     },
     "execution_count": 41,
     "metadata": {},
     "output_type": "execute_result"
    }
   ],
   "source": [
    "scipy.stats.sem(users_j_notna[pd.isna(users_j_notna[0]) == False].u_roc)"
   ]
  },
  {
   "cell_type": "code",
   "execution_count": 40,
   "metadata": {
    "scrolled": true
   },
   "outputs": [
    {
     "data": {
      "text/plain": [
       "14817"
      ]
     },
     "execution_count": 40,
     "metadata": {},
     "output_type": "execute_result"
    }
   ],
   "source": [
    "len(users_j_notna[pd.isna(users_j_notna[0]) == False].u_roc)"
   ]
  },
  {
   "cell_type": "markdown",
   "metadata": {},
   "source": [
    "T-test for statistical significance of difference between known and unknown users:"
   ]
  },
  {
   "cell_type": "code",
   "execution_count": 43,
   "metadata": {},
   "outputs": [
    {
     "data": {
      "text/plain": [
       "Ttest_indResult(statistic=4.31249964696009, pvalue=1.6211031162946597e-05)"
      ]
     },
     "execution_count": 43,
     "metadata": {},
     "output_type": "execute_result"
    }
   ],
   "source": [
    "scipy.stats.ttest_ind(users_j_notna[pd.isna(users_j_notna[0]) == False].u_roc, users_j_notna[pd.isna(users_j_notna[0])].u_roc)"
   ]
  },
  {
   "cell_type": "code",
   "execution_count": null,
   "metadata": {},
   "outputs": [],
   "source": []
  }
 ],
 "metadata": {
  "kernelspec": {
   "display_name": "Python 3",
   "language": "python",
   "name": "python3"
  },
  "language_info": {
   "codemirror_mode": {
    "name": "ipython",
    "version": 3
   },
   "file_extension": ".py",
   "mimetype": "text/x-python",
   "name": "python",
   "nbconvert_exporter": "python",
   "pygments_lexer": "ipython3",
   "version": "3.7.3"
  }
 },
 "nbformat": 4,
 "nbformat_minor": 2
}