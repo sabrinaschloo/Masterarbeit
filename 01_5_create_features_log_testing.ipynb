{
 "cells": [
  {
   "cell_type": "markdown",
   "metadata": {},
   "source": [
    "# Create Testing Data"
   ]
  },
  {
   "cell_type": "markdown",
   "metadata": {},
   "source": [
    "Same process as for training data"
   ]
  },
  {
   "cell_type": "markdown",
   "metadata": {},
   "source": [
    "# Items"
   ]
  },
  {
   "cell_type": "markdown",
   "metadata": {},
   "source": [
    "## Days online"
   ]
  },
  {
   "cell_type": "markdown",
   "metadata": {},
   "source": [
    "how many days has the item been available on zentrada at the moment the user clicks the item"
   ]
  },
  {
   "cell_type": "code",
   "execution_count": 1,
   "metadata": {},
   "outputs": [],
   "source": [
    "import pandas as pd\n",
    "import numpy as np\n",
    "import pickle \n",
    "from datetime import timedelta"
   ]
  },
  {
   "cell_type": "code",
   "execution_count": 2,
   "metadata": {},
   "outputs": [],
   "source": [
    "item_data = pd.read_pickle('data/training_data/articles_info_final.pkl')"
   ]
  },
  {
   "cell_type": "code",
   "execution_count": 3,
   "metadata": {},
   "outputs": [],
   "source": [
    "log = pd.read_pickle('data/testing_data/target_test.pkl')"
   ]
  },
  {
   "cell_type": "code",
   "execution_count": 25,
   "metadata": {},
   "outputs": [
    {
     "data": {
      "text/plain": [
       "1251600"
      ]
     },
     "execution_count": 25,
     "metadata": {},
     "output_type": "execute_result"
    }
   ],
   "source": [
    "len(log) #1249179"
   ]
  },
  {
   "cell_type": "code",
   "execution_count": 4,
   "metadata": {},
   "outputs": [
    {
     "data": {
      "text/html": [
       "<div>\n",
       "<style scoped>\n",
       "    .dataframe tbody tr th:only-of-type {\n",
       "        vertical-align: middle;\n",
       "    }\n",
       "\n",
       "    .dataframe tbody tr th {\n",
       "        vertical-align: top;\n",
       "    }\n",
       "\n",
       "    .dataframe thead th {\n",
       "        text-align: right;\n",
       "    }\n",
       "</style>\n",
       "<table border=\"1\" class=\"dataframe\">\n",
       "  <thead>\n",
       "    <tr style=\"text-align: right;\">\n",
       "      <th></th>\n",
       "      <th>anbieter_artikelnummer</th>\n",
       "      <th>anbieterID</th>\n",
       "      <th>erstanlageDatum</th>\n",
       "      <th>stueck_pro_ve</th>\n",
       "      <th>anbietermarktplatz</th>\n",
       "      <th>warengruppe</th>\n",
       "      <th>preis_euro</th>\n",
       "      <th>text_vec</th>\n",
       "    </tr>\n",
       "  </thead>\n",
       "  <tbody>\n",
       "    <tr>\n",
       "      <td>0</td>\n",
       "      <td>0000400435550</td>\n",
       "      <td>4004.0</td>\n",
       "      <td>2016-03-04 14:39:47+00:00</td>\n",
       "      <td>12.0</td>\n",
       "      <td>DE</td>\n",
       "      <td>Reiseartikel_5199</td>\n",
       "      <td>2.10</td>\n",
       "      <td>[0.7984229, 0.09205151, -0.30848747, 0.669923,...</td>\n",
       "    </tr>\n",
       "    <tr>\n",
       "      <td>1</td>\n",
       "      <td>000040053900017-002</td>\n",
       "      <td>4005.0</td>\n",
       "      <td>2018-07-09 12:51:10+00:00</td>\n",
       "      <td>1.0</td>\n",
       "      <td>DE</td>\n",
       "      <td>sonstige Taschen_5202</td>\n",
       "      <td>59.95</td>\n",
       "      <td>[0.19540575, -0.07194629, -0.34633487, -0.2459...</td>\n",
       "    </tr>\n",
       "    <tr>\n",
       "      <td>2</td>\n",
       "      <td>0000403433309</td>\n",
       "      <td>4034.0</td>\n",
       "      <td>2018-11-08 13:04:42+00:00</td>\n",
       "      <td>12.0</td>\n",
       "      <td>DE</td>\n",
       "      <td>Kerzen &amp; Kerzenhalter_5107</td>\n",
       "      <td>2.79</td>\n",
       "      <td>[0.5111147, 0.018874569, 0.22680217, 0.7675127...</td>\n",
       "    </tr>\n",
       "    <tr>\n",
       "      <td>3</td>\n",
       "      <td>0000403434036</td>\n",
       "      <td>4034.0</td>\n",
       "      <td>2016-11-29 15:31:47+00:00</td>\n",
       "      <td>20.0</td>\n",
       "      <td>DE</td>\n",
       "      <td>Lichterketten_5114</td>\n",
       "      <td>2.10</td>\n",
       "      <td>[0.34992826, -0.059115075, -0.25212124, -0.110...</td>\n",
       "    </tr>\n",
       "    <tr>\n",
       "      <td>4</td>\n",
       "      <td>00004034LB-03</td>\n",
       "      <td>4034.0</td>\n",
       "      <td>2017-11-15 14:27:01+00:00</td>\n",
       "      <td>10.0</td>\n",
       "      <td>DE</td>\n",
       "      <td>Lichterketten_5114</td>\n",
       "      <td>1.89</td>\n",
       "      <td>[0.13192588, -0.19249268, -0.3639368, -0.47083...</td>\n",
       "    </tr>\n",
       "  </tbody>\n",
       "</table>\n",
       "</div>"
      ],
      "text/plain": [
       "  anbieter_artikelnummer  anbieterID           erstanlageDatum  stueck_pro_ve  \\\n",
       "0          0000400435550      4004.0 2016-03-04 14:39:47+00:00           12.0   \n",
       "1    000040053900017-002      4005.0 2018-07-09 12:51:10+00:00            1.0   \n",
       "2          0000403433309      4034.0 2018-11-08 13:04:42+00:00           12.0   \n",
       "3          0000403434036      4034.0 2016-11-29 15:31:47+00:00           20.0   \n",
       "4          00004034LB-03      4034.0 2017-11-15 14:27:01+00:00           10.0   \n",
       "\n",
       "  anbietermarktplatz                 warengruppe  preis_euro  \\\n",
       "0                 DE           Reiseartikel_5199        2.10   \n",
       "1                 DE       sonstige Taschen_5202       59.95   \n",
       "2                 DE  Kerzen & Kerzenhalter_5107        2.79   \n",
       "3                 DE          Lichterketten_5114        2.10   \n",
       "4                 DE          Lichterketten_5114        1.89   \n",
       "\n",
       "                                            text_vec  \n",
       "0  [0.7984229, 0.09205151, -0.30848747, 0.669923,...  \n",
       "1  [0.19540575, -0.07194629, -0.34633487, -0.2459...  \n",
       "2  [0.5111147, 0.018874569, 0.22680217, 0.7675127...  \n",
       "3  [0.34992826, -0.059115075, -0.25212124, -0.110...  \n",
       "4  [0.13192588, -0.19249268, -0.3639368, -0.47083...  "
      ]
     },
     "execution_count": 4,
     "metadata": {},
     "output_type": "execute_result"
    }
   ],
   "source": [
    "item_data.head()"
   ]
  },
  {
   "cell_type": "code",
   "execution_count": 5,
   "metadata": {},
   "outputs": [],
   "source": [
    "item_data = item_data[['anbieter_artikelnummer', 'erstanlageDatum']]"
   ]
  },
  {
   "cell_type": "code",
   "execution_count": 6,
   "metadata": {},
   "outputs": [],
   "source": [
    "df = pd.merge(log, item_data, how = 'left' )"
   ]
  },
  {
   "cell_type": "code",
   "execution_count": 7,
   "metadata": {
    "scrolled": true
   },
   "outputs": [
    {
     "data": {
      "text/html": [
       "<div>\n",
       "<style scoped>\n",
       "    .dataframe tbody tr th:only-of-type {\n",
       "        vertical-align: middle;\n",
       "    }\n",
       "\n",
       "    .dataframe tbody tr th {\n",
       "        vertical-align: top;\n",
       "    }\n",
       "\n",
       "    .dataframe thead th {\n",
       "        text-align: right;\n",
       "    }\n",
       "</style>\n",
       "<table border=\"1\" class=\"dataframe\">\n",
       "  <thead>\n",
       "    <tr style=\"text-align: right;\">\n",
       "      <th></th>\n",
       "      <th>userID</th>\n",
       "      <th>anbieter_artikelnummer</th>\n",
       "      <th>datum_click</th>\n",
       "      <th>anbieterID</th>\n",
       "      <th>datum_pick</th>\n",
       "      <th>pick</th>\n",
       "      <th>erstanlageDatum</th>\n",
       "    </tr>\n",
       "  </thead>\n",
       "  <tbody>\n",
       "    <tr>\n",
       "      <td>0</td>\n",
       "      <td>1677343</td>\n",
       "      <td>0070854200002534</td>\n",
       "      <td>2019-06-28 21:18:42+00:00</td>\n",
       "      <td>708542</td>\n",
       "      <td>2019-07-01 02:00:00+00:00</td>\n",
       "      <td>1.0</td>\n",
       "      <td>2017-11-06 09:25:25+00:00</td>\n",
       "    </tr>\n",
       "    <tr>\n",
       "      <td>1</td>\n",
       "      <td>1677430</td>\n",
       "      <td>00100620101051000097</td>\n",
       "      <td>2019-06-28 21:18:45+00:00</td>\n",
       "      <td>100620</td>\n",
       "      <td>NaT</td>\n",
       "      <td>0.0</td>\n",
       "      <td>2014-03-18 19:21:07+00:00</td>\n",
       "    </tr>\n",
       "    <tr>\n",
       "      <td>2</td>\n",
       "      <td>1657316</td>\n",
       "      <td>00147265eG6260A</td>\n",
       "      <td>2019-06-28 21:18:48+00:00</td>\n",
       "      <td>147265</td>\n",
       "      <td>NaT</td>\n",
       "      <td>0.0</td>\n",
       "      <td>2016-03-02 21:09:54+00:00</td>\n",
       "    </tr>\n",
       "    <tr>\n",
       "      <td>3</td>\n",
       "      <td>1657316</td>\n",
       "      <td>006589155907619815092</td>\n",
       "      <td>2019-06-28 21:18:56+00:00</td>\n",
       "      <td>658915</td>\n",
       "      <td>NaT</td>\n",
       "      <td>0.0</td>\n",
       "      <td>2016-03-24 23:26:25+00:00</td>\n",
       "    </tr>\n",
       "    <tr>\n",
       "      <td>4</td>\n",
       "      <td>1564925</td>\n",
       "      <td>00631847DD47563</td>\n",
       "      <td>2019-06-28 21:19:03+00:00</td>\n",
       "      <td>631847</td>\n",
       "      <td>2019-06-28 02:00:00+00:00</td>\n",
       "      <td>1.0</td>\n",
       "      <td>2017-04-28 15:52:02+00:00</td>\n",
       "    </tr>\n",
       "  </tbody>\n",
       "</table>\n",
       "</div>"
      ],
      "text/plain": [
       "    userID anbieter_artikelnummer               datum_click  anbieterID  \\\n",
       "0  1677343       0070854200002534 2019-06-28 21:18:42+00:00      708542   \n",
       "1  1677430   00100620101051000097 2019-06-28 21:18:45+00:00      100620   \n",
       "2  1657316        00147265eG6260A 2019-06-28 21:18:48+00:00      147265   \n",
       "3  1657316  006589155907619815092 2019-06-28 21:18:56+00:00      658915   \n",
       "4  1564925        00631847DD47563 2019-06-28 21:19:03+00:00      631847   \n",
       "\n",
       "                 datum_pick  pick           erstanlageDatum  \n",
       "0 2019-07-01 02:00:00+00:00   1.0 2017-11-06 09:25:25+00:00  \n",
       "1                       NaT   0.0 2014-03-18 19:21:07+00:00  \n",
       "2                       NaT   0.0 2016-03-02 21:09:54+00:00  \n",
       "3                       NaT   0.0 2016-03-24 23:26:25+00:00  \n",
       "4 2019-06-28 02:00:00+00:00   1.0 2017-04-28 15:52:02+00:00  "
      ]
     },
     "execution_count": 7,
     "metadata": {},
     "output_type": "execute_result"
    }
   ],
   "source": [
    "df.head()"
   ]
  },
  {
   "cell_type": "code",
   "execution_count": 87,
   "metadata": {},
   "outputs": [],
   "source": [
    "test = df.sample(20).reset_index()"
   ]
  },
  {
   "cell_type": "code",
   "execution_count": 13,
   "metadata": {
    "scrolled": true
   },
   "outputs": [
    {
     "data": {
      "text/plain": [
       "userID                                  int64\n",
       "anbieter_artikelnummer                 object\n",
       "datum_click               datetime64[ns, UTC]\n",
       "anbieterID                              int64\n",
       "datum_pick                datetime64[ns, UTC]\n",
       "pick                                  float64\n",
       "erstanlageDatum           datetime64[ns, UTC]\n",
       "dtype: object"
      ]
     },
     "execution_count": 13,
     "metadata": {},
     "output_type": "execute_result"
    }
   ],
   "source": [
    "test.dtypes"
   ]
  },
  {
   "cell_type": "code",
   "execution_count": 144,
   "metadata": {},
   "outputs": [
    {
     "data": {
      "text/plain": [
       "Timedelta('73 days 06:48:15')"
      ]
     },
     "execution_count": 144,
     "metadata": {},
     "output_type": "execute_result"
    }
   ],
   "source": [
    "df.datum_click[1] - df.erstanlageDatum[1]"
   ]
  },
  {
   "cell_type": "markdown",
   "metadata": {},
   "source": [
    "Calculate the time online"
   ]
  },
  {
   "cell_type": "code",
   "execution_count": 8,
   "metadata": {},
   "outputs": [],
   "source": [
    "df['online'] = (df.datum_click - df.erstanlageDatum)"
   ]
  },
  {
   "cell_type": "code",
   "execution_count": 9,
   "metadata": {},
   "outputs": [
    {
     "data": {
      "text/html": [
       "<div>\n",
       "<style scoped>\n",
       "    .dataframe tbody tr th:only-of-type {\n",
       "        vertical-align: middle;\n",
       "    }\n",
       "\n",
       "    .dataframe tbody tr th {\n",
       "        vertical-align: top;\n",
       "    }\n",
       "\n",
       "    .dataframe thead th {\n",
       "        text-align: right;\n",
       "    }\n",
       "</style>\n",
       "<table border=\"1\" class=\"dataframe\">\n",
       "  <thead>\n",
       "    <tr style=\"text-align: right;\">\n",
       "      <th></th>\n",
       "      <th>userID</th>\n",
       "      <th>anbieter_artikelnummer</th>\n",
       "      <th>datum_click</th>\n",
       "      <th>anbieterID</th>\n",
       "      <th>datum_pick</th>\n",
       "      <th>pick</th>\n",
       "      <th>erstanlageDatum</th>\n",
       "      <th>online</th>\n",
       "    </tr>\n",
       "  </thead>\n",
       "  <tbody>\n",
       "    <tr>\n",
       "      <td>0</td>\n",
       "      <td>1677343</td>\n",
       "      <td>0070854200002534</td>\n",
       "      <td>2019-06-28 21:18:42+00:00</td>\n",
       "      <td>708542</td>\n",
       "      <td>2019-07-01 02:00:00+00:00</td>\n",
       "      <td>1.0</td>\n",
       "      <td>2017-11-06 09:25:25+00:00</td>\n",
       "      <td>599 days 11:53:17</td>\n",
       "    </tr>\n",
       "    <tr>\n",
       "      <td>1</td>\n",
       "      <td>1677430</td>\n",
       "      <td>00100620101051000097</td>\n",
       "      <td>2019-06-28 21:18:45+00:00</td>\n",
       "      <td>100620</td>\n",
       "      <td>NaT</td>\n",
       "      <td>0.0</td>\n",
       "      <td>2014-03-18 19:21:07+00:00</td>\n",
       "      <td>1928 days 01:57:38</td>\n",
       "    </tr>\n",
       "    <tr>\n",
       "      <td>2</td>\n",
       "      <td>1657316</td>\n",
       "      <td>00147265eG6260A</td>\n",
       "      <td>2019-06-28 21:18:48+00:00</td>\n",
       "      <td>147265</td>\n",
       "      <td>NaT</td>\n",
       "      <td>0.0</td>\n",
       "      <td>2016-03-02 21:09:54+00:00</td>\n",
       "      <td>1213 days 00:08:54</td>\n",
       "    </tr>\n",
       "    <tr>\n",
       "      <td>3</td>\n",
       "      <td>1657316</td>\n",
       "      <td>006589155907619815092</td>\n",
       "      <td>2019-06-28 21:18:56+00:00</td>\n",
       "      <td>658915</td>\n",
       "      <td>NaT</td>\n",
       "      <td>0.0</td>\n",
       "      <td>2016-03-24 23:26:25+00:00</td>\n",
       "      <td>1190 days 21:52:31</td>\n",
       "    </tr>\n",
       "    <tr>\n",
       "      <td>4</td>\n",
       "      <td>1564925</td>\n",
       "      <td>00631847DD47563</td>\n",
       "      <td>2019-06-28 21:19:03+00:00</td>\n",
       "      <td>631847</td>\n",
       "      <td>2019-06-28 02:00:00+00:00</td>\n",
       "      <td>1.0</td>\n",
       "      <td>2017-04-28 15:52:02+00:00</td>\n",
       "      <td>791 days 05:27:01</td>\n",
       "    </tr>\n",
       "  </tbody>\n",
       "</table>\n",
       "</div>"
      ],
      "text/plain": [
       "    userID anbieter_artikelnummer               datum_click  anbieterID  \\\n",
       "0  1677343       0070854200002534 2019-06-28 21:18:42+00:00      708542   \n",
       "1  1677430   00100620101051000097 2019-06-28 21:18:45+00:00      100620   \n",
       "2  1657316        00147265eG6260A 2019-06-28 21:18:48+00:00      147265   \n",
       "3  1657316  006589155907619815092 2019-06-28 21:18:56+00:00      658915   \n",
       "4  1564925        00631847DD47563 2019-06-28 21:19:03+00:00      631847   \n",
       "\n",
       "                 datum_pick  pick           erstanlageDatum             online  \n",
       "0 2019-07-01 02:00:00+00:00   1.0 2017-11-06 09:25:25+00:00  599 days 11:53:17  \n",
       "1                       NaT   0.0 2014-03-18 19:21:07+00:00 1928 days 01:57:38  \n",
       "2                       NaT   0.0 2016-03-02 21:09:54+00:00 1213 days 00:08:54  \n",
       "3                       NaT   0.0 2016-03-24 23:26:25+00:00 1190 days 21:52:31  \n",
       "4 2019-06-28 02:00:00+00:00   1.0 2017-04-28 15:52:02+00:00  791 days 05:27:01  "
      ]
     },
     "execution_count": 9,
     "metadata": {},
     "output_type": "execute_result"
    }
   ],
   "source": [
    "df.head()"
   ]
  },
  {
   "cell_type": "markdown",
   "metadata": {},
   "source": [
    "Convert it in days"
   ]
  },
  {
   "cell_type": "code",
   "execution_count": 10,
   "metadata": {},
   "outputs": [],
   "source": [
    "df['days_online'] = [df.online[i].days for i in range(len(df))]"
   ]
  },
  {
   "cell_type": "code",
   "execution_count": 11,
   "metadata": {},
   "outputs": [
    {
     "data": {
      "text/html": [
       "<div>\n",
       "<style scoped>\n",
       "    .dataframe tbody tr th:only-of-type {\n",
       "        vertical-align: middle;\n",
       "    }\n",
       "\n",
       "    .dataframe tbody tr th {\n",
       "        vertical-align: top;\n",
       "    }\n",
       "\n",
       "    .dataframe thead th {\n",
       "        text-align: right;\n",
       "    }\n",
       "</style>\n",
       "<table border=\"1\" class=\"dataframe\">\n",
       "  <thead>\n",
       "    <tr style=\"text-align: right;\">\n",
       "      <th></th>\n",
       "      <th>userID</th>\n",
       "      <th>anbieter_artikelnummer</th>\n",
       "      <th>datum_click</th>\n",
       "      <th>anbieterID</th>\n",
       "      <th>datum_pick</th>\n",
       "      <th>pick</th>\n",
       "      <th>erstanlageDatum</th>\n",
       "      <th>days_online</th>\n",
       "    </tr>\n",
       "  </thead>\n",
       "  <tbody>\n",
       "    <tr>\n",
       "      <td>0</td>\n",
       "      <td>1677343</td>\n",
       "      <td>0070854200002534</td>\n",
       "      <td>2019-06-28 21:18:42+00:00</td>\n",
       "      <td>708542</td>\n",
       "      <td>2019-07-01 02:00:00+00:00</td>\n",
       "      <td>1.0</td>\n",
       "      <td>2017-11-06 09:25:25+00:00</td>\n",
       "      <td>599.0</td>\n",
       "    </tr>\n",
       "    <tr>\n",
       "      <td>1</td>\n",
       "      <td>1677430</td>\n",
       "      <td>00100620101051000097</td>\n",
       "      <td>2019-06-28 21:18:45+00:00</td>\n",
       "      <td>100620</td>\n",
       "      <td>NaT</td>\n",
       "      <td>0.0</td>\n",
       "      <td>2014-03-18 19:21:07+00:00</td>\n",
       "      <td>1928.0</td>\n",
       "    </tr>\n",
       "    <tr>\n",
       "      <td>2</td>\n",
       "      <td>1657316</td>\n",
       "      <td>00147265eG6260A</td>\n",
       "      <td>2019-06-28 21:18:48+00:00</td>\n",
       "      <td>147265</td>\n",
       "      <td>NaT</td>\n",
       "      <td>0.0</td>\n",
       "      <td>2016-03-02 21:09:54+00:00</td>\n",
       "      <td>1213.0</td>\n",
       "    </tr>\n",
       "    <tr>\n",
       "      <td>3</td>\n",
       "      <td>1657316</td>\n",
       "      <td>006589155907619815092</td>\n",
       "      <td>2019-06-28 21:18:56+00:00</td>\n",
       "      <td>658915</td>\n",
       "      <td>NaT</td>\n",
       "      <td>0.0</td>\n",
       "      <td>2016-03-24 23:26:25+00:00</td>\n",
       "      <td>1190.0</td>\n",
       "    </tr>\n",
       "    <tr>\n",
       "      <td>4</td>\n",
       "      <td>1564925</td>\n",
       "      <td>00631847DD47563</td>\n",
       "      <td>2019-06-28 21:19:03+00:00</td>\n",
       "      <td>631847</td>\n",
       "      <td>2019-06-28 02:00:00+00:00</td>\n",
       "      <td>1.0</td>\n",
       "      <td>2017-04-28 15:52:02+00:00</td>\n",
       "      <td>791.0</td>\n",
       "    </tr>\n",
       "  </tbody>\n",
       "</table>\n",
       "</div>"
      ],
      "text/plain": [
       "    userID anbieter_artikelnummer               datum_click  anbieterID  \\\n",
       "0  1677343       0070854200002534 2019-06-28 21:18:42+00:00      708542   \n",
       "1  1677430   00100620101051000097 2019-06-28 21:18:45+00:00      100620   \n",
       "2  1657316        00147265eG6260A 2019-06-28 21:18:48+00:00      147265   \n",
       "3  1657316  006589155907619815092 2019-06-28 21:18:56+00:00      658915   \n",
       "4  1564925        00631847DD47563 2019-06-28 21:19:03+00:00      631847   \n",
       "\n",
       "                 datum_pick  pick           erstanlageDatum  days_online  \n",
       "0 2019-07-01 02:00:00+00:00   1.0 2017-11-06 09:25:25+00:00        599.0  \n",
       "1                       NaT   0.0 2014-03-18 19:21:07+00:00       1928.0  \n",
       "2                       NaT   0.0 2016-03-02 21:09:54+00:00       1213.0  \n",
       "3                       NaT   0.0 2016-03-24 23:26:25+00:00       1190.0  \n",
       "4 2019-06-28 02:00:00+00:00   1.0 2017-04-28 15:52:02+00:00        791.0  "
      ]
     },
     "execution_count": 11,
     "metadata": {},
     "output_type": "execute_result"
    }
   ],
   "source": [
    "df.drop('online', axis = 1, inplace = True)\n",
    "df.head()"
   ]
  },
  {
   "cell_type": "code",
   "execution_count": 151,
   "metadata": {},
   "outputs": [],
   "source": [
    "df.to_pickle('data/training_data/target_train_process.pkl')"
   ]
  },
  {
   "cell_type": "markdown",
   "metadata": {},
   "source": [
    "## Month of the year"
   ]
  },
  {
   "cell_type": "markdown",
   "metadata": {},
   "source": [
    "Calculate the month of the year at time of item click - show seasonality"
   ]
  },
  {
   "cell_type": "code",
   "execution_count": 4,
   "metadata": {},
   "outputs": [],
   "source": [
    "df = pd.read_pickle('data/training_data/target_train_process.pkl')"
   ]
  },
  {
   "cell_type": "code",
   "execution_count": 5,
   "metadata": {},
   "outputs": [
    {
     "data": {
      "text/html": [
       "<div>\n",
       "<style scoped>\n",
       "    .dataframe tbody tr th:only-of-type {\n",
       "        vertical-align: middle;\n",
       "    }\n",
       "\n",
       "    .dataframe tbody tr th {\n",
       "        vertical-align: top;\n",
       "    }\n",
       "\n",
       "    .dataframe thead th {\n",
       "        text-align: right;\n",
       "    }\n",
       "</style>\n",
       "<table border=\"1\" class=\"dataframe\">\n",
       "  <thead>\n",
       "    <tr style=\"text-align: right;\">\n",
       "      <th></th>\n",
       "      <th>userID</th>\n",
       "      <th>anbieter_artikelnummer</th>\n",
       "      <th>datum_click</th>\n",
       "      <th>anbieterID</th>\n",
       "      <th>datum_pick</th>\n",
       "      <th>pick</th>\n",
       "      <th>erstanlageDatum</th>\n",
       "      <th>days_online</th>\n",
       "    </tr>\n",
       "  </thead>\n",
       "  <tbody>\n",
       "    <tr>\n",
       "      <td>0</td>\n",
       "      <td>1575009</td>\n",
       "      <td>00144119AHQ1067</td>\n",
       "      <td>2017-09-15 00:00:03+00:00</td>\n",
       "      <td>144119</td>\n",
       "      <td>2017-09-15 02:00:00+00:00</td>\n",
       "      <td>1.0</td>\n",
       "      <td>2017-09-11 11:18:00+00:00</td>\n",
       "      <td>3.0</td>\n",
       "    </tr>\n",
       "    <tr>\n",
       "      <td>1</td>\n",
       "      <td>804304</td>\n",
       "      <td>00714655006146</td>\n",
       "      <td>2017-09-15 00:00:04+00:00</td>\n",
       "      <td>714655</td>\n",
       "      <td>2017-09-15 02:00:00+00:00</td>\n",
       "      <td>1.0</td>\n",
       "      <td>2017-07-03 17:11:49+00:00</td>\n",
       "      <td>73.0</td>\n",
       "    </tr>\n",
       "    <tr>\n",
       "      <td>2</td>\n",
       "      <td>1575009</td>\n",
       "      <td>00144119EP0157</td>\n",
       "      <td>2017-09-15 00:00:17+00:00</td>\n",
       "      <td>144119</td>\n",
       "      <td>2017-09-15 02:00:00+00:00</td>\n",
       "      <td>1.0</td>\n",
       "      <td>2016-09-14 10:25:09+00:00</td>\n",
       "      <td>365.0</td>\n",
       "    </tr>\n",
       "    <tr>\n",
       "      <td>3</td>\n",
       "      <td>498808</td>\n",
       "      <td>00513388D712 N</td>\n",
       "      <td>2017-09-15 00:00:19+00:00</td>\n",
       "      <td>513388</td>\n",
       "      <td>2018-02-13 01:00:00+00:00</td>\n",
       "      <td>1.0</td>\n",
       "      <td>2015-09-25 10:05:45+00:00</td>\n",
       "      <td>720.0</td>\n",
       "    </tr>\n",
       "    <tr>\n",
       "      <td>4</td>\n",
       "      <td>1541110</td>\n",
       "      <td>00364442CAP-87</td>\n",
       "      <td>2017-09-15 00:00:24+00:00</td>\n",
       "      <td>364442</td>\n",
       "      <td>NaT</td>\n",
       "      <td>0.0</td>\n",
       "      <td>2016-03-18 08:14:18+00:00</td>\n",
       "      <td>545.0</td>\n",
       "    </tr>\n",
       "  </tbody>\n",
       "</table>\n",
       "</div>"
      ],
      "text/plain": [
       "    userID anbieter_artikelnummer               datum_click  anbieterID  \\\n",
       "0  1575009        00144119AHQ1067 2017-09-15 00:00:03+00:00      144119   \n",
       "1   804304         00714655006146 2017-09-15 00:00:04+00:00      714655   \n",
       "2  1575009         00144119EP0157 2017-09-15 00:00:17+00:00      144119   \n",
       "3   498808         00513388D712 N 2017-09-15 00:00:19+00:00      513388   \n",
       "4  1541110         00364442CAP-87 2017-09-15 00:00:24+00:00      364442   \n",
       "\n",
       "                 datum_pick  pick           erstanlageDatum  days_online  \n",
       "0 2017-09-15 02:00:00+00:00   1.0 2017-09-11 11:18:00+00:00          3.0  \n",
       "1 2017-09-15 02:00:00+00:00   1.0 2017-07-03 17:11:49+00:00         73.0  \n",
       "2 2017-09-15 02:00:00+00:00   1.0 2016-09-14 10:25:09+00:00        365.0  \n",
       "3 2018-02-13 01:00:00+00:00   1.0 2015-09-25 10:05:45+00:00        720.0  \n",
       "4                       NaT   0.0 2016-03-18 08:14:18+00:00        545.0  "
      ]
     },
     "execution_count": 5,
     "metadata": {},
     "output_type": "execute_result"
    }
   ],
   "source": [
    "df.head()"
   ]
  },
  {
   "cell_type": "code",
   "execution_count": 12,
   "metadata": {},
   "outputs": [],
   "source": [
    "df.drop(['anbieterID', 'datum_pick', 'erstanlageDatum'], axis = 1, inplace = True)"
   ]
  },
  {
   "cell_type": "code",
   "execution_count": 13,
   "metadata": {},
   "outputs": [
    {
     "data": {
      "text/html": [
       "<div>\n",
       "<style scoped>\n",
       "    .dataframe tbody tr th:only-of-type {\n",
       "        vertical-align: middle;\n",
       "    }\n",
       "\n",
       "    .dataframe tbody tr th {\n",
       "        vertical-align: top;\n",
       "    }\n",
       "\n",
       "    .dataframe thead th {\n",
       "        text-align: right;\n",
       "    }\n",
       "</style>\n",
       "<table border=\"1\" class=\"dataframe\">\n",
       "  <thead>\n",
       "    <tr style=\"text-align: right;\">\n",
       "      <th></th>\n",
       "      <th>userID</th>\n",
       "      <th>anbieter_artikelnummer</th>\n",
       "      <th>datum_click</th>\n",
       "      <th>pick</th>\n",
       "      <th>days_online</th>\n",
       "    </tr>\n",
       "  </thead>\n",
       "  <tbody>\n",
       "    <tr>\n",
       "      <td>0</td>\n",
       "      <td>1677343</td>\n",
       "      <td>0070854200002534</td>\n",
       "      <td>2019-06-28 21:18:42+00:00</td>\n",
       "      <td>1.0</td>\n",
       "      <td>599.0</td>\n",
       "    </tr>\n",
       "    <tr>\n",
       "      <td>1</td>\n",
       "      <td>1677430</td>\n",
       "      <td>00100620101051000097</td>\n",
       "      <td>2019-06-28 21:18:45+00:00</td>\n",
       "      <td>0.0</td>\n",
       "      <td>1928.0</td>\n",
       "    </tr>\n",
       "    <tr>\n",
       "      <td>2</td>\n",
       "      <td>1657316</td>\n",
       "      <td>00147265eG6260A</td>\n",
       "      <td>2019-06-28 21:18:48+00:00</td>\n",
       "      <td>0.0</td>\n",
       "      <td>1213.0</td>\n",
       "    </tr>\n",
       "    <tr>\n",
       "      <td>3</td>\n",
       "      <td>1657316</td>\n",
       "      <td>006589155907619815092</td>\n",
       "      <td>2019-06-28 21:18:56+00:00</td>\n",
       "      <td>0.0</td>\n",
       "      <td>1190.0</td>\n",
       "    </tr>\n",
       "    <tr>\n",
       "      <td>4</td>\n",
       "      <td>1564925</td>\n",
       "      <td>00631847DD47563</td>\n",
       "      <td>2019-06-28 21:19:03+00:00</td>\n",
       "      <td>1.0</td>\n",
       "      <td>791.0</td>\n",
       "    </tr>\n",
       "  </tbody>\n",
       "</table>\n",
       "</div>"
      ],
      "text/plain": [
       "    userID anbieter_artikelnummer               datum_click  pick  days_online\n",
       "0  1677343       0070854200002534 2019-06-28 21:18:42+00:00   1.0        599.0\n",
       "1  1677430   00100620101051000097 2019-06-28 21:18:45+00:00   0.0       1928.0\n",
       "2  1657316        00147265eG6260A 2019-06-28 21:18:48+00:00   0.0       1213.0\n",
       "3  1657316  006589155907619815092 2019-06-28 21:18:56+00:00   0.0       1190.0\n",
       "4  1564925        00631847DD47563 2019-06-28 21:19:03+00:00   1.0        791.0"
      ]
     },
     "execution_count": 13,
     "metadata": {},
     "output_type": "execute_result"
    }
   ],
   "source": [
    "df.head()"
   ]
  },
  {
   "cell_type": "markdown",
   "metadata": {},
   "source": [
    "extract month"
   ]
  },
  {
   "cell_type": "code",
   "execution_count": 14,
   "metadata": {},
   "outputs": [],
   "source": [
    "df['month'] = [df.datum_click[i].month for i in range(len(df))]"
   ]
  },
  {
   "cell_type": "code",
   "execution_count": 15,
   "metadata": {
    "scrolled": true
   },
   "outputs": [
    {
     "data": {
      "text/html": [
       "<div>\n",
       "<style scoped>\n",
       "    .dataframe tbody tr th:only-of-type {\n",
       "        vertical-align: middle;\n",
       "    }\n",
       "\n",
       "    .dataframe tbody tr th {\n",
       "        vertical-align: top;\n",
       "    }\n",
       "\n",
       "    .dataframe thead th {\n",
       "        text-align: right;\n",
       "    }\n",
       "</style>\n",
       "<table border=\"1\" class=\"dataframe\">\n",
       "  <thead>\n",
       "    <tr style=\"text-align: right;\">\n",
       "      <th></th>\n",
       "      <th>userID</th>\n",
       "      <th>anbieter_artikelnummer</th>\n",
       "      <th>datum_click</th>\n",
       "      <th>pick</th>\n",
       "      <th>days_online</th>\n",
       "      <th>month</th>\n",
       "    </tr>\n",
       "  </thead>\n",
       "  <tbody>\n",
       "    <tr>\n",
       "      <td>0</td>\n",
       "      <td>1677343</td>\n",
       "      <td>0070854200002534</td>\n",
       "      <td>2019-06-28 21:18:42+00:00</td>\n",
       "      <td>1.0</td>\n",
       "      <td>599.0</td>\n",
       "      <td>6</td>\n",
       "    </tr>\n",
       "    <tr>\n",
       "      <td>1</td>\n",
       "      <td>1677430</td>\n",
       "      <td>00100620101051000097</td>\n",
       "      <td>2019-06-28 21:18:45+00:00</td>\n",
       "      <td>0.0</td>\n",
       "      <td>1928.0</td>\n",
       "      <td>6</td>\n",
       "    </tr>\n",
       "    <tr>\n",
       "      <td>2</td>\n",
       "      <td>1657316</td>\n",
       "      <td>00147265eG6260A</td>\n",
       "      <td>2019-06-28 21:18:48+00:00</td>\n",
       "      <td>0.0</td>\n",
       "      <td>1213.0</td>\n",
       "      <td>6</td>\n",
       "    </tr>\n",
       "    <tr>\n",
       "      <td>3</td>\n",
       "      <td>1657316</td>\n",
       "      <td>006589155907619815092</td>\n",
       "      <td>2019-06-28 21:18:56+00:00</td>\n",
       "      <td>0.0</td>\n",
       "      <td>1190.0</td>\n",
       "      <td>6</td>\n",
       "    </tr>\n",
       "    <tr>\n",
       "      <td>4</td>\n",
       "      <td>1564925</td>\n",
       "      <td>00631847DD47563</td>\n",
       "      <td>2019-06-28 21:19:03+00:00</td>\n",
       "      <td>1.0</td>\n",
       "      <td>791.0</td>\n",
       "      <td>6</td>\n",
       "    </tr>\n",
       "  </tbody>\n",
       "</table>\n",
       "</div>"
      ],
      "text/plain": [
       "    userID anbieter_artikelnummer               datum_click  pick  \\\n",
       "0  1677343       0070854200002534 2019-06-28 21:18:42+00:00   1.0   \n",
       "1  1677430   00100620101051000097 2019-06-28 21:18:45+00:00   0.0   \n",
       "2  1657316        00147265eG6260A 2019-06-28 21:18:48+00:00   0.0   \n",
       "3  1657316  006589155907619815092 2019-06-28 21:18:56+00:00   0.0   \n",
       "4  1564925        00631847DD47563 2019-06-28 21:19:03+00:00   1.0   \n",
       "\n",
       "   days_online  month  \n",
       "0        599.0      6  \n",
       "1       1928.0      6  \n",
       "2       1213.0      6  \n",
       "3       1190.0      6  \n",
       "4        791.0      6  "
      ]
     },
     "execution_count": 15,
     "metadata": {},
     "output_type": "execute_result"
    }
   ],
   "source": [
    "df.head()"
   ]
  },
  {
   "cell_type": "code",
   "execution_count": 19,
   "metadata": {},
   "outputs": [],
   "source": [
    "df.to_pickle('data/training_data/target_train_done.pkl')"
   ]
  },
  {
   "cell_type": "markdown",
   "metadata": {},
   "source": [
    "# User"
   ]
  },
  {
   "cell_type": "markdown",
   "metadata": {},
   "source": [
    "Add the user's marketplace to the log data"
   ]
  },
  {
   "cell_type": "code",
   "execution_count": 16,
   "metadata": {},
   "outputs": [
    {
     "data": {
      "text/html": [
       "<div>\n",
       "<style scoped>\n",
       "    .dataframe tbody tr th:only-of-type {\n",
       "        vertical-align: middle;\n",
       "    }\n",
       "\n",
       "    .dataframe tbody tr th {\n",
       "        vertical-align: top;\n",
       "    }\n",
       "\n",
       "    .dataframe thead th {\n",
       "        text-align: right;\n",
       "    }\n",
       "</style>\n",
       "<table border=\"1\" class=\"dataframe\">\n",
       "  <thead>\n",
       "    <tr style=\"text-align: right;\">\n",
       "      <th></th>\n",
       "      <th>userID</th>\n",
       "      <th>anbieter_artikelnummer</th>\n",
       "      <th>datum_click</th>\n",
       "      <th>pick</th>\n",
       "      <th>days_online</th>\n",
       "      <th>month</th>\n",
       "    </tr>\n",
       "  </thead>\n",
       "  <tbody>\n",
       "    <tr>\n",
       "      <td>0</td>\n",
       "      <td>1677343</td>\n",
       "      <td>0070854200002534</td>\n",
       "      <td>2019-06-28 21:18:42+00:00</td>\n",
       "      <td>1.0</td>\n",
       "      <td>599.0</td>\n",
       "      <td>6</td>\n",
       "    </tr>\n",
       "    <tr>\n",
       "      <td>1</td>\n",
       "      <td>1677430</td>\n",
       "      <td>00100620101051000097</td>\n",
       "      <td>2019-06-28 21:18:45+00:00</td>\n",
       "      <td>0.0</td>\n",
       "      <td>1928.0</td>\n",
       "      <td>6</td>\n",
       "    </tr>\n",
       "    <tr>\n",
       "      <td>2</td>\n",
       "      <td>1657316</td>\n",
       "      <td>00147265eG6260A</td>\n",
       "      <td>2019-06-28 21:18:48+00:00</td>\n",
       "      <td>0.0</td>\n",
       "      <td>1213.0</td>\n",
       "      <td>6</td>\n",
       "    </tr>\n",
       "    <tr>\n",
       "      <td>3</td>\n",
       "      <td>1657316</td>\n",
       "      <td>006589155907619815092</td>\n",
       "      <td>2019-06-28 21:18:56+00:00</td>\n",
       "      <td>0.0</td>\n",
       "      <td>1190.0</td>\n",
       "      <td>6</td>\n",
       "    </tr>\n",
       "    <tr>\n",
       "      <td>4</td>\n",
       "      <td>1564925</td>\n",
       "      <td>00631847DD47563</td>\n",
       "      <td>2019-06-28 21:19:03+00:00</td>\n",
       "      <td>1.0</td>\n",
       "      <td>791.0</td>\n",
       "      <td>6</td>\n",
       "    </tr>\n",
       "  </tbody>\n",
       "</table>\n",
       "</div>"
      ],
      "text/plain": [
       "    userID anbieter_artikelnummer               datum_click  pick  \\\n",
       "0  1677343       0070854200002534 2019-06-28 21:18:42+00:00   1.0   \n",
       "1  1677430   00100620101051000097 2019-06-28 21:18:45+00:00   0.0   \n",
       "2  1657316        00147265eG6260A 2019-06-28 21:18:48+00:00   0.0   \n",
       "3  1657316  006589155907619815092 2019-06-28 21:18:56+00:00   0.0   \n",
       "4  1564925        00631847DD47563 2019-06-28 21:19:03+00:00   1.0   \n",
       "\n",
       "   days_online  month  \n",
       "0        599.0      6  \n",
       "1       1928.0      6  \n",
       "2       1213.0      6  \n",
       "3       1190.0      6  \n",
       "4        791.0      6  "
      ]
     },
     "execution_count": 16,
     "metadata": {},
     "output_type": "execute_result"
    }
   ],
   "source": [
    "df.head()"
   ]
  },
  {
   "cell_type": "code",
   "execution_count": 17,
   "metadata": {},
   "outputs": [
    {
     "name": "stderr",
     "output_type": "stream",
     "text": [
      "/opt/conda/lib/python3.7/site-packages/IPython/core/interactiveshell.py:3058: DtypeWarning: Columns (11,12) have mixed types. Specify dtype option on import or set low_memory=False.\n",
      "  interactivity=interactivity, compiler=compiler, result=result)\n"
     ]
    }
   ],
   "source": [
    "user = pd.read_csv(\"data/raw_data/userstammdaten.csv\", sep = \";\", encoding = 'ISO-8859-15')"
   ]
  },
  {
   "cell_type": "code",
   "execution_count": 18,
   "metadata": {},
   "outputs": [
    {
     "data": {
      "text/html": [
       "<div>\n",
       "<style scoped>\n",
       "    .dataframe tbody tr th:only-of-type {\n",
       "        vertical-align: middle;\n",
       "    }\n",
       "\n",
       "    .dataframe tbody tr th {\n",
       "        vertical-align: top;\n",
       "    }\n",
       "\n",
       "    .dataframe thead th {\n",
       "        text-align: right;\n",
       "    }\n",
       "</style>\n",
       "<table border=\"1\" class=\"dataframe\">\n",
       "  <thead>\n",
       "    <tr style=\"text-align: right;\">\n",
       "      <th></th>\n",
       "      <th>Unnamed: 0</th>\n",
       "      <th>userID</th>\n",
       "      <th>erstRegMarktplatz</th>\n",
       "      <th>nachname</th>\n",
       "      <th>firma</th>\n",
       "      <th>userLand</th>\n",
       "      <th>plz</th>\n",
       "      <th>uid</th>\n",
       "      <th>registrierungsdatum</th>\n",
       "      <th>statusMitgliedschaft</th>\n",
       "      <th>...</th>\n",
       "      <th>herkunft</th>\n",
       "      <th>unternehmenstyp</th>\n",
       "      <th>branchenkompetenz</th>\n",
       "      <th>betreuer</th>\n",
       "      <th>betreuerdatum</th>\n",
       "      <th>welcomeDatum</th>\n",
       "      <th>welcomeStatus</th>\n",
       "      <th>userklasse</th>\n",
       "      <th>userKlasseSeit</th>\n",
       "      <th>userKlasseAlt</th>\n",
       "    </tr>\n",
       "  </thead>\n",
       "  <tbody>\n",
       "    <tr>\n",
       "      <td>0</td>\n",
       "      <td>1</td>\n",
       "      <td>111</td>\n",
       "      <td>DE</td>\n",
       "      <td>zentrada</td>\n",
       "      <td>Schimmel Media Verlag GmbH &amp; CoKG</td>\n",
       "      <td>Deutschland</td>\n",
       "      <td>97074</td>\n",
       "      <td>NaN</td>\n",
       "      <td>2002-09-30 13:12:00</td>\n",
       "      <td>Account freigegeben</td>\n",
       "      <td>...</td>\n",
       "      <td>NaN</td>\n",
       "      <td>NaN</td>\n",
       "      <td>NaN</td>\n",
       "      <td>NaN</td>\n",
       "      <td>NaN</td>\n",
       "      <td>NaN</td>\n",
       "      <td>Account gesperrt</td>\n",
       "      <td>admin</td>\n",
       "      <td>NaN</td>\n",
       "      <td>admin</td>\n",
       "    </tr>\n",
       "    <tr>\n",
       "      <td>1</td>\n",
       "      <td>2</td>\n",
       "      <td>137</td>\n",
       "      <td>DE</td>\n",
       "      <td>Mosthaf</td>\n",
       "      <td>wapp consult GmbH</td>\n",
       "      <td>Deutschland</td>\n",
       "      <td>97076</td>\n",
       "      <td>DE814217770</td>\n",
       "      <td>2002-10-02 19:30:00</td>\n",
       "      <td>Account freigegeben</td>\n",
       "      <td>...</td>\n",
       "      <td>NaN</td>\n",
       "      <td>Stationärer Einzelhandel</td>\n",
       "      <td>NaN</td>\n",
       "      <td>NaN</td>\n",
       "      <td>NaN</td>\n",
       "      <td>2012-11-15 12:11:14</td>\n",
       "      <td>angerufen</td>\n",
       "      <td>admin</td>\n",
       "      <td>NaN</td>\n",
       "      <td>admin</td>\n",
       "    </tr>\n",
       "    <tr>\n",
       "      <td>2</td>\n",
       "      <td>3</td>\n",
       "      <td>139</td>\n",
       "      <td>DE</td>\n",
       "      <td>Schloo</td>\n",
       "      <td>zentrada Europe GmbH &amp; Co KG</td>\n",
       "      <td>Deutschland</td>\n",
       "      <td>97076</td>\n",
       "      <td>DE813805341</td>\n",
       "      <td>2002-10-08 20:33:00</td>\n",
       "      <td>Account freigegeben</td>\n",
       "      <td>...</td>\n",
       "      <td>NaN</td>\n",
       "      <td>Stationärer Einzelhandel</td>\n",
       "      <td>Haushalt &amp; Küche</td>\n",
       "      <td>Ingo, Schloo</td>\n",
       "      <td>2018-01-24 13:18:35</td>\n",
       "      <td>NaN</td>\n",
       "      <td>Account gesperrt</td>\n",
       "      <td>admin</td>\n",
       "      <td>NaN</td>\n",
       "      <td>admin</td>\n",
       "    </tr>\n",
       "    <tr>\n",
       "      <td>3</td>\n",
       "      <td>4</td>\n",
       "      <td>155</td>\n",
       "      <td>DE</td>\n",
       "      <td>Schloo</td>\n",
       "      <td>msv</td>\n",
       "      <td>Deutschland</td>\n",
       "      <td>97082</td>\n",
       "      <td>NaN</td>\n",
       "      <td>2002-10-15 15:22:00</td>\n",
       "      <td>Account gesperrt</td>\n",
       "      <td>...</td>\n",
       "      <td>NaN</td>\n",
       "      <td>NaN</td>\n",
       "      <td>NaN</td>\n",
       "      <td>NaN</td>\n",
       "      <td>NaN</td>\n",
       "      <td>NaN</td>\n",
       "      <td>Account gesperrt</td>\n",
       "      <td>inactiveBasic</td>\n",
       "      <td>2015-06-12 02:00:00</td>\n",
       "      <td>inactiveBasic</td>\n",
       "    </tr>\n",
       "    <tr>\n",
       "      <td>4</td>\n",
       "      <td>5</td>\n",
       "      <td>158</td>\n",
       "      <td>DE</td>\n",
       "      <td>Schloo</td>\n",
       "      <td>VaW GmbH</td>\n",
       "      <td>Deutschland</td>\n",
       "      <td>97218</td>\n",
       "      <td>NaN</td>\n",
       "      <td>2002-10-18 18:37:00</td>\n",
       "      <td>NaN</td>\n",
       "      <td>...</td>\n",
       "      <td>NaN</td>\n",
       "      <td>NaN</td>\n",
       "      <td>NaN</td>\n",
       "      <td>NaN</td>\n",
       "      <td>NaN</td>\n",
       "      <td>NaN</td>\n",
       "      <td>Account gesperrt</td>\n",
       "      <td>NaN</td>\n",
       "      <td>NaN</td>\n",
       "      <td>NaN</td>\n",
       "    </tr>\n",
       "  </tbody>\n",
       "</table>\n",
       "<p>5 rows × 21 columns</p>\n",
       "</div>"
      ],
      "text/plain": [
       "   Unnamed: 0  userID erstRegMarktplatz  nachname  \\\n",
       "0           1     111                DE  zentrada   \n",
       "1           2     137                DE   Mosthaf   \n",
       "2           3     139                DE    Schloo   \n",
       "3           4     155                DE    Schloo   \n",
       "4           5     158                DE    Schloo   \n",
       "\n",
       "                               firma     userLand    plz          uid  \\\n",
       "0  Schimmel Media Verlag GmbH & CoKG  Deutschland  97074          NaN   \n",
       "1                  wapp consult GmbH  Deutschland  97076  DE814217770   \n",
       "2       zentrada Europe GmbH & Co KG  Deutschland  97076  DE813805341   \n",
       "3                                msv  Deutschland  97082          NaN   \n",
       "4                           VaW GmbH  Deutschland  97218          NaN   \n",
       "\n",
       "   registrierungsdatum statusMitgliedschaft  ... herkunft  \\\n",
       "0  2002-09-30 13:12:00  Account freigegeben  ...      NaN   \n",
       "1  2002-10-02 19:30:00  Account freigegeben  ...      NaN   \n",
       "2  2002-10-08 20:33:00  Account freigegeben  ...      NaN   \n",
       "3  2002-10-15 15:22:00     Account gesperrt  ...      NaN   \n",
       "4  2002-10-18 18:37:00                  NaN  ...      NaN   \n",
       "\n",
       "            unternehmenstyp branchenkompetenz      betreuer  \\\n",
       "0                       NaN               NaN           NaN   \n",
       "1  Stationärer Einzelhandel               NaN           NaN   \n",
       "2  Stationärer Einzelhandel  Haushalt & Küche  Ingo, Schloo   \n",
       "3                       NaN               NaN           NaN   \n",
       "4                       NaN               NaN           NaN   \n",
       "\n",
       "         betreuerdatum         welcomeDatum     welcomeStatus     userklasse  \\\n",
       "0                  NaN                  NaN  Account gesperrt          admin   \n",
       "1                  NaN  2012-11-15 12:11:14         angerufen          admin   \n",
       "2  2018-01-24 13:18:35                  NaN  Account gesperrt          admin   \n",
       "3                  NaN                  NaN  Account gesperrt  inactiveBasic   \n",
       "4                  NaN                  NaN  Account gesperrt            NaN   \n",
       "\n",
       "        userKlasseSeit  userKlasseAlt  \n",
       "0                  NaN          admin  \n",
       "1                  NaN          admin  \n",
       "2                  NaN          admin  \n",
       "3  2015-06-12 02:00:00  inactiveBasic  \n",
       "4                  NaN            NaN  \n",
       "\n",
       "[5 rows x 21 columns]"
      ]
     },
     "execution_count": 18,
     "metadata": {},
     "output_type": "execute_result"
    }
   ],
   "source": [
    "user.head()"
   ]
  },
  {
   "cell_type": "code",
   "execution_count": 19,
   "metadata": {},
   "outputs": [],
   "source": [
    "user = user[['userID', 'erstRegMarktplatz']]"
   ]
  },
  {
   "cell_type": "code",
   "execution_count": 20,
   "metadata": {},
   "outputs": [],
   "source": [
    "df = pd.merge(df, user, how = \"left\", on = \"userID\")"
   ]
  },
  {
   "cell_type": "code",
   "execution_count": 21,
   "metadata": {},
   "outputs": [
    {
     "data": {
      "text/html": [
       "<div>\n",
       "<style scoped>\n",
       "    .dataframe tbody tr th:only-of-type {\n",
       "        vertical-align: middle;\n",
       "    }\n",
       "\n",
       "    .dataframe tbody tr th {\n",
       "        vertical-align: top;\n",
       "    }\n",
       "\n",
       "    .dataframe thead th {\n",
       "        text-align: right;\n",
       "    }\n",
       "</style>\n",
       "<table border=\"1\" class=\"dataframe\">\n",
       "  <thead>\n",
       "    <tr style=\"text-align: right;\">\n",
       "      <th></th>\n",
       "      <th>userID</th>\n",
       "      <th>anbieter_artikelnummer</th>\n",
       "      <th>datum_click</th>\n",
       "      <th>pick</th>\n",
       "      <th>days_online</th>\n",
       "      <th>month</th>\n",
       "      <th>erstRegMarktplatz</th>\n",
       "    </tr>\n",
       "  </thead>\n",
       "  <tbody>\n",
       "    <tr>\n",
       "      <td>0</td>\n",
       "      <td>1677343</td>\n",
       "      <td>0070854200002534</td>\n",
       "      <td>2019-06-28 21:18:42+00:00</td>\n",
       "      <td>1.0</td>\n",
       "      <td>599.0</td>\n",
       "      <td>6</td>\n",
       "      <td>DE</td>\n",
       "    </tr>\n",
       "    <tr>\n",
       "      <td>1</td>\n",
       "      <td>1677430</td>\n",
       "      <td>00100620101051000097</td>\n",
       "      <td>2019-06-28 21:18:45+00:00</td>\n",
       "      <td>0.0</td>\n",
       "      <td>1928.0</td>\n",
       "      <td>6</td>\n",
       "      <td>NL</td>\n",
       "    </tr>\n",
       "    <tr>\n",
       "      <td>2</td>\n",
       "      <td>1657316</td>\n",
       "      <td>00147265eG6260A</td>\n",
       "      <td>2019-06-28 21:18:48+00:00</td>\n",
       "      <td>0.0</td>\n",
       "      <td>1213.0</td>\n",
       "      <td>6</td>\n",
       "      <td>DE</td>\n",
       "    </tr>\n",
       "    <tr>\n",
       "      <td>3</td>\n",
       "      <td>1657316</td>\n",
       "      <td>006589155907619815092</td>\n",
       "      <td>2019-06-28 21:18:56+00:00</td>\n",
       "      <td>0.0</td>\n",
       "      <td>1190.0</td>\n",
       "      <td>6</td>\n",
       "      <td>DE</td>\n",
       "    </tr>\n",
       "    <tr>\n",
       "      <td>4</td>\n",
       "      <td>1564925</td>\n",
       "      <td>00631847DD47563</td>\n",
       "      <td>2019-06-28 21:19:03+00:00</td>\n",
       "      <td>1.0</td>\n",
       "      <td>791.0</td>\n",
       "      <td>6</td>\n",
       "      <td>FR</td>\n",
       "    </tr>\n",
       "  </tbody>\n",
       "</table>\n",
       "</div>"
      ],
      "text/plain": [
       "    userID anbieter_artikelnummer               datum_click  pick  \\\n",
       "0  1677343       0070854200002534 2019-06-28 21:18:42+00:00   1.0   \n",
       "1  1677430   00100620101051000097 2019-06-28 21:18:45+00:00   0.0   \n",
       "2  1657316        00147265eG6260A 2019-06-28 21:18:48+00:00   0.0   \n",
       "3  1657316  006589155907619815092 2019-06-28 21:18:56+00:00   0.0   \n",
       "4  1564925        00631847DD47563 2019-06-28 21:19:03+00:00   1.0   \n",
       "\n",
       "   days_online  month erstRegMarktplatz  \n",
       "0        599.0      6                DE  \n",
       "1       1928.0      6                NL  \n",
       "2       1213.0      6                DE  \n",
       "3       1190.0      6                DE  \n",
       "4        791.0      6                FR  "
      ]
     },
     "execution_count": 21,
     "metadata": {},
     "output_type": "execute_result"
    }
   ],
   "source": [
    "df.head()"
   ]
  },
  {
   "cell_type": "code",
   "execution_count": 22,
   "metadata": {},
   "outputs": [
    {
     "data": {
      "text/plain": [
       "1251600"
      ]
     },
     "execution_count": 22,
     "metadata": {},
     "output_type": "execute_result"
    }
   ],
   "source": [
    "len(df)"
   ]
  },
  {
   "cell_type": "code",
   "execution_count": 23,
   "metadata": {},
   "outputs": [
    {
     "data": {
      "text/plain": [
       "0"
      ]
     },
     "execution_count": 23,
     "metadata": {},
     "output_type": "execute_result"
    }
   ],
   "source": [
    "sum(pd.isnull(df['erstRegMarktplatz'] == True))"
   ]
  },
  {
   "cell_type": "code",
   "execution_count": 27,
   "metadata": {},
   "outputs": [
    {
     "data": {
      "text/plain": [
       "1249179"
      ]
     },
     "execution_count": 27,
     "metadata": {},
     "output_type": "execute_result"
    }
   ],
   "source": [
    "len(df[pd.isnull(df['erstRegMarktplatz']) == False])"
   ]
  },
  {
   "cell_type": "code",
   "execution_count": 28,
   "metadata": {},
   "outputs": [],
   "source": [
    "df.to_pickle('data/testing_data/target_test_done.pkl')"
   ]
  },
  {
   "cell_type": "code",
   "execution_count": null,
   "metadata": {},
   "outputs": [],
   "source": []
  }
 ],
 "metadata": {
  "kernelspec": {
   "display_name": "Python 3",
   "language": "python",
   "name": "python3"
  },
  "language_info": {
   "codemirror_mode": {
    "name": "ipython",
    "version": 3
   },
   "file_extension": ".py",
   "mimetype": "text/x-python",
   "name": "python",
   "nbconvert_exporter": "python",
   "pygments_lexer": "ipython3",
   "version": "3.7.3"
  }
 },
 "nbformat": 4,
 "nbformat_minor": 2
}
