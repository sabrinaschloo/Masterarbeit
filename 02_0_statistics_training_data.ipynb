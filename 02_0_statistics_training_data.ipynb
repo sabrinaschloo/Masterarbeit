{
 "cells": [
  {
   "cell_type": "markdown",
   "metadata": {},
   "source": [
    "# Statistics Final Training Data"
   ]
  },
  {
   "cell_type": "markdown",
   "metadata": {},
   "source": [
    "These values show the real distribution, running this sheet will show the distributions of the sample data set"
   ]
  },
  {
   "cell_type": "code",
   "execution_count": 1,
   "metadata": {},
   "outputs": [],
   "source": [
    "import pandas as pd\n",
    "import sqlalchemy \n",
    "from sqlalchemy.ext.declarative import declarative_base\n",
    "from sqlalchemy import Column, Integer, String, DateTime, Float\n",
    "from sqlalchemy import create_engine, MetaData, Table, inspect\n",
    "import psycopg2\n",
    "from sqlalchemy.dialects import postgresql\n",
    "from matplotlib import pyplot as plt \n",
    "import sqlite3"
   ]
  },
  {
   "cell_type": "code",
   "execution_count": 2,
   "metadata": {},
   "outputs": [],
   "source": [
    "#DATABASE_URI = ###\n",
    "#engine = create_engine(DATABASE_URI)"
   ]
  },
  {
   "cell_type": "code",
   "execution_count": null,
   "metadata": {},
   "outputs": [],
   "source": [
    "engine = sqlite3.connect('data/db.db')"
   ]
  },
  {
   "cell_type": "markdown",
   "metadata": {},
   "source": [
    "## Density"
   ]
  },
  {
   "cell_type": "code",
   "execution_count": 3,
   "metadata": {},
   "outputs": [],
   "source": [
    "users = pd.read_sql('''SELECT DISTINCT t.userid\n",
    "            FROM    target_training_enc as t \n",
    "                    LEFT JOIN training_user_filter as f\n",
    "                        ON t.userid = f.userid\n",
    "            WHERE   f.userid IS NULL''', engine)"
   ]
  },
  {
   "cell_type": "code",
   "execution_count": 4,
   "metadata": {},
   "outputs": [],
   "source": [
    "items = pd.read_sql('''SELECT DISTINCT t.anbieter_artikelnummer\n",
    "            FROM    target_training_enc as t \n",
    "                    LEFT JOIN training_user_filter as f\n",
    "                        ON t.userid = f.userid\n",
    "            WHERE   f.userid IS NULL''', engine)"
   ]
  },
  {
   "cell_type": "code",
   "execution_count": 5,
   "metadata": {},
   "outputs": [],
   "source": [
    "clicks = pd.read_sql('''SELECT count(*)\n",
    "            FROM    target_training_enc as t \n",
    "                    LEFT JOIN training_user_filter as f\n",
    "                        ON t.userid = f.userid\n",
    "            WHERE   f.userid IS NULL''', engine)"
   ]
  },
  {
   "cell_type": "code",
   "execution_count": 6,
   "metadata": {},
   "outputs": [
    {
     "data": {
      "text/plain": [
       "117629"
      ]
     },
     "execution_count": 6,
     "metadata": {},
     "output_type": "execute_result"
    }
   ],
   "source": [
    "len(users)"
   ]
  },
  {
   "cell_type": "code",
   "execution_count": 7,
   "metadata": {
    "scrolled": true
   },
   "outputs": [
    {
     "data": {
      "text/plain": [
       "647579"
      ]
     },
     "execution_count": 7,
     "metadata": {},
     "output_type": "execute_result"
    }
   ],
   "source": [
    "len(items)"
   ]
  },
  {
   "cell_type": "code",
   "execution_count": 8,
   "metadata": {},
   "outputs": [
    {
     "data": {
      "text/html": [
       "<div>\n",
       "<style scoped>\n",
       "    .dataframe tbody tr th:only-of-type {\n",
       "        vertical-align: middle;\n",
       "    }\n",
       "\n",
       "    .dataframe tbody tr th {\n",
       "        vertical-align: top;\n",
       "    }\n",
       "\n",
       "    .dataframe thead th {\n",
       "        text-align: right;\n",
       "    }\n",
       "</style>\n",
       "<table border=\"1\" class=\"dataframe\">\n",
       "  <thead>\n",
       "    <tr style=\"text-align: right;\">\n",
       "      <th></th>\n",
       "      <th>count</th>\n",
       "    </tr>\n",
       "  </thead>\n",
       "  <tbody>\n",
       "    <tr>\n",
       "      <th>0</th>\n",
       "      <td>10019435</td>\n",
       "    </tr>\n",
       "  </tbody>\n",
       "</table>\n",
       "</div>"
      ],
      "text/plain": [
       "      count\n",
       "0  10019435"
      ]
     },
     "execution_count": 8,
     "metadata": {},
     "output_type": "execute_result"
    }
   ],
   "source": [
    "clicks"
   ]
  },
  {
   "cell_type": "markdown",
   "metadata": {},
   "source": [
    "## Clicks per User"
   ]
  },
  {
   "cell_type": "code",
   "execution_count": 9,
   "metadata": {},
   "outputs": [],
   "source": [
    "users = pd.read_sql('''SELECT t.userid, count(*)\n",
    "            FROM    target_training_enc as t \n",
    "                    LEFT JOIN training_user_filter as f\n",
    "                        ON t.userid = f.userid\n",
    "            WHERE   f.userid IS NULL GROUP BY t.userid''', engine)"
   ]
  },
  {
   "cell_type": "code",
   "execution_count": 10,
   "metadata": {},
   "outputs": [],
   "source": [
    "users.columns = ['userid', 'count']"
   ]
  },
  {
   "cell_type": "code",
   "execution_count": 11,
   "metadata": {},
   "outputs": [
    {
     "data": {
      "text/html": [
       "<div>\n",
       "<style scoped>\n",
       "    .dataframe tbody tr th:only-of-type {\n",
       "        vertical-align: middle;\n",
       "    }\n",
       "\n",
       "    .dataframe tbody tr th {\n",
       "        vertical-align: top;\n",
       "    }\n",
       "\n",
       "    .dataframe thead th {\n",
       "        text-align: right;\n",
       "    }\n",
       "</style>\n",
       "<table border=\"1\" class=\"dataframe\">\n",
       "  <thead>\n",
       "    <tr style=\"text-align: right;\">\n",
       "      <th></th>\n",
       "      <th>userid</th>\n",
       "      <th>count</th>\n",
       "    </tr>\n",
       "  </thead>\n",
       "  <tbody>\n",
       "    <tr>\n",
       "      <th>112189</th>\n",
       "      <td>864754</td>\n",
       "      <td>10845</td>\n",
       "    </tr>\n",
       "    <tr>\n",
       "      <th>91506</th>\n",
       "      <td>566204</td>\n",
       "      <td>10767</td>\n",
       "    </tr>\n",
       "    <tr>\n",
       "      <th>8851</th>\n",
       "      <td>1550835</td>\n",
       "      <td>10542</td>\n",
       "    </tr>\n",
       "    <tr>\n",
       "      <th>115186</th>\n",
       "      <td>888020</td>\n",
       "      <td>10176</td>\n",
       "    </tr>\n",
       "    <tr>\n",
       "      <th>116091</th>\n",
       "      <td>894451</td>\n",
       "      <td>9990</td>\n",
       "    </tr>\n",
       "    <tr>\n",
       "      <th>40245</th>\n",
       "      <td>1616603</td>\n",
       "      <td>9635</td>\n",
       "    </tr>\n",
       "    <tr>\n",
       "      <th>29578</th>\n",
       "      <td>1601824</td>\n",
       "      <td>9485</td>\n",
       "    </tr>\n",
       "    <tr>\n",
       "      <th>108985</th>\n",
       "      <td>835024</td>\n",
       "      <td>9404</td>\n",
       "    </tr>\n",
       "    <tr>\n",
       "      <th>44307</th>\n",
       "      <td>1622638</td>\n",
       "      <td>9313</td>\n",
       "    </tr>\n",
       "    <tr>\n",
       "      <th>93956</th>\n",
       "      <td>621510</td>\n",
       "      <td>9120</td>\n",
       "    </tr>\n",
       "  </tbody>\n",
       "</table>\n",
       "</div>"
      ],
      "text/plain": [
       "         userid  count\n",
       "112189   864754  10845\n",
       "91506    566204  10767\n",
       "8851    1550835  10542\n",
       "115186   888020  10176\n",
       "116091   894451   9990\n",
       "40245   1616603   9635\n",
       "29578   1601824   9485\n",
       "108985   835024   9404\n",
       "44307   1622638   9313\n",
       "93956    621510   9120"
      ]
     },
     "execution_count": 11,
     "metadata": {},
     "output_type": "execute_result"
    }
   ],
   "source": [
    "users.sort_values('count', ascending = False).head(10)"
   ]
  },
  {
   "cell_type": "code",
   "execution_count": 12,
   "metadata": {},
   "outputs": [
    {
     "data": {
      "text/plain": [
       "count    117629.000000\n",
       "mean         85.178272\n",
       "std         334.455323\n",
       "min           1.000000\n",
       "25%           4.000000\n",
       "50%          12.000000\n",
       "75%          44.000000\n",
       "max       10845.000000\n",
       "Name: count, dtype: float64"
      ]
     },
     "execution_count": 12,
     "metadata": {},
     "output_type": "execute_result"
    }
   ],
   "source": [
    "users['count'].describe()"
   ]
  },
  {
   "cell_type": "markdown",
   "metadata": {},
   "source": [
    "Percentage of users with more than 200 clicks"
   ]
  },
  {
   "cell_type": "code",
   "execution_count": 13,
   "metadata": {},
   "outputs": [
    {
     "data": {
      "text/plain": [
       "0.08226712800414863"
      ]
     },
     "execution_count": 13,
     "metadata": {},
     "output_type": "execute_result"
    }
   ],
   "source": [
    "len(users[users['count'] >=200])/len(users)"
   ]
  },
  {
   "cell_type": "markdown",
   "metadata": {},
   "source": [
    "## Clicks per Item"
   ]
  },
  {
   "cell_type": "code",
   "execution_count": 14,
   "metadata": {},
   "outputs": [],
   "source": [
    "items = pd.read_sql('''SELECT t.anbieter_artikelnummer, count(*)\n",
    "            FROM    target_training_enc as t \n",
    "                    LEFT JOIN training_user_filter as f\n",
    "                        ON t.userid = f.userid\n",
    "            WHERE   f.userid IS NULL GROUP BY t.anbieter_artikelnummer''', engine)"
   ]
  },
  {
   "cell_type": "code",
   "execution_count": 15,
   "metadata": {},
   "outputs": [],
   "source": [
    "items.columns = ['anbieter_artikelnummer', 'count']"
   ]
  },
  {
   "cell_type": "code",
   "execution_count": 16,
   "metadata": {},
   "outputs": [
    {
     "data": {
      "text/html": [
       "<div>\n",
       "<style scoped>\n",
       "    .dataframe tbody tr th:only-of-type {\n",
       "        vertical-align: middle;\n",
       "    }\n",
       "\n",
       "    .dataframe tbody tr th {\n",
       "        vertical-align: top;\n",
       "    }\n",
       "\n",
       "    .dataframe thead th {\n",
       "        text-align: right;\n",
       "    }\n",
       "</style>\n",
       "<table border=\"1\" class=\"dataframe\">\n",
       "  <thead>\n",
       "    <tr style=\"text-align: right;\">\n",
       "      <th></th>\n",
       "      <th>anbieter_artikelnummer</th>\n",
       "      <th>count</th>\n",
       "    </tr>\n",
       "  </thead>\n",
       "  <tbody>\n",
       "    <tr>\n",
       "      <th>229381</th>\n",
       "      <td>0034309263929</td>\n",
       "      <td>3161</td>\n",
       "    </tr>\n",
       "    <tr>\n",
       "      <th>226077</th>\n",
       "      <td>0034309244515</td>\n",
       "      <td>2595</td>\n",
       "    </tr>\n",
       "    <tr>\n",
       "      <th>224331</th>\n",
       "      <td>0034309216301</td>\n",
       "      <td>2506</td>\n",
       "    </tr>\n",
       "    <tr>\n",
       "      <th>224550</th>\n",
       "      <td>0034309218303</td>\n",
       "      <td>2386</td>\n",
       "    </tr>\n",
       "    <tr>\n",
       "      <th>331600</th>\n",
       "      <td>00477078FL433 MIX</td>\n",
       "      <td>2264</td>\n",
       "    </tr>\n",
       "    <tr>\n",
       "      <th>223915</th>\n",
       "      <td>003430921300</td>\n",
       "      <td>2239</td>\n",
       "    </tr>\n",
       "    <tr>\n",
       "      <th>545632</th>\n",
       "      <td>00714655011467</td>\n",
       "      <td>2066</td>\n",
       "    </tr>\n",
       "    <tr>\n",
       "      <th>326971</th>\n",
       "      <td>004770784014 MIX</td>\n",
       "      <td>2004</td>\n",
       "    </tr>\n",
       "    <tr>\n",
       "      <th>327715</th>\n",
       "      <td>00477078A1940 MIX</td>\n",
       "      <td>1927</td>\n",
       "    </tr>\n",
       "    <tr>\n",
       "      <th>542805</th>\n",
       "      <td>00714655004196</td>\n",
       "      <td>1809</td>\n",
       "    </tr>\n",
       "  </tbody>\n",
       "</table>\n",
       "</div>"
      ],
      "text/plain": [
       "       anbieter_artikelnummer  count\n",
       "229381          0034309263929   3161\n",
       "226077          0034309244515   2595\n",
       "224331          0034309216301   2506\n",
       "224550          0034309218303   2386\n",
       "331600      00477078FL433 MIX   2264\n",
       "223915           003430921300   2239\n",
       "545632         00714655011467   2066\n",
       "326971       004770784014 MIX   2004\n",
       "327715      00477078A1940 MIX   1927\n",
       "542805         00714655004196   1809"
      ]
     },
     "execution_count": 16,
     "metadata": {},
     "output_type": "execute_result"
    }
   ],
   "source": [
    "items.sort_values('count', ascending = False).head(10)"
   ]
  },
  {
   "cell_type": "code",
   "execution_count": 17,
   "metadata": {},
   "outputs": [
    {
     "data": {
      "text/plain": [
       "count    647579.000000\n",
       "mean         15.472143\n",
       "std          34.682728\n",
       "min           1.000000\n",
       "25%           2.000000\n",
       "50%           6.000000\n",
       "75%          15.000000\n",
       "max        3161.000000\n",
       "Name: count, dtype: float64"
      ]
     },
     "execution_count": 17,
     "metadata": {},
     "output_type": "execute_result"
    }
   ],
   "source": [
    "items['count'].describe()"
   ]
  },
  {
   "cell_type": "markdown",
   "metadata": {},
   "source": [
    "## Pick-Ratio"
   ]
  },
  {
   "cell_type": "code",
   "execution_count": 18,
   "metadata": {},
   "outputs": [],
   "source": [
    "picks = pd.read_sql('''SELECT sum(t.pick)\n",
    "            FROM    target_training_enc as t \n",
    "                    LEFT JOIN training_user_filter as f\n",
    "                        ON t.userid = f.userid\n",
    "            WHERE   f.userid IS NULL''', engine)"
   ]
  },
  {
   "cell_type": "code",
   "execution_count": 19,
   "metadata": {},
   "outputs": [
    {
     "data": {
      "text/html": [
       "<div>\n",
       "<style scoped>\n",
       "    .dataframe tbody tr th:only-of-type {\n",
       "        vertical-align: middle;\n",
       "    }\n",
       "\n",
       "    .dataframe tbody tr th {\n",
       "        vertical-align: top;\n",
       "    }\n",
       "\n",
       "    .dataframe thead th {\n",
       "        text-align: right;\n",
       "    }\n",
       "</style>\n",
       "<table border=\"1\" class=\"dataframe\">\n",
       "  <thead>\n",
       "    <tr style=\"text-align: right;\">\n",
       "      <th></th>\n",
       "      <th>sum</th>\n",
       "    </tr>\n",
       "  </thead>\n",
       "  <tbody>\n",
       "    <tr>\n",
       "      <th>0</th>\n",
       "      <td>2861198.0</td>\n",
       "    </tr>\n",
       "  </tbody>\n",
       "</table>\n",
       "</div>"
      ],
      "text/plain": [
       "         sum\n",
       "0  2861198.0"
      ]
     },
     "execution_count": 19,
     "metadata": {},
     "output_type": "execute_result"
    }
   ],
   "source": [
    "picks"
   ]
  },
  {
   "cell_type": "markdown",
   "metadata": {},
   "source": [
    "Pick-Ratio"
   ]
  },
  {
   "cell_type": "code",
   "execution_count": 20,
   "metadata": {},
   "outputs": [
    {
     "data": {
      "text/plain": [
       "0.2855648048018676"
      ]
     },
     "execution_count": 20,
     "metadata": {},
     "output_type": "execute_result"
    }
   ],
   "source": [
    "picks.values[0][0]/clicks.values[0][0]"
   ]
  },
  {
   "cell_type": "code",
   "execution_count": 21,
   "metadata": {},
   "outputs": [
    {
     "data": {
      "text/html": [
       "<div>\n",
       "<style scoped>\n",
       "    .dataframe tbody tr th:only-of-type {\n",
       "        vertical-align: middle;\n",
       "    }\n",
       "\n",
       "    .dataframe tbody tr th {\n",
       "        vertical-align: top;\n",
       "    }\n",
       "\n",
       "    .dataframe thead th {\n",
       "        text-align: right;\n",
       "    }\n",
       "</style>\n",
       "<table border=\"1\" class=\"dataframe\">\n",
       "  <thead>\n",
       "    <tr style=\"text-align: right;\">\n",
       "      <th></th>\n",
       "      <th>userid</th>\n",
       "      <th>datum_click</th>\n",
       "      <th>clicked_before</th>\n",
       "      <th>usermkt_enc</th>\n",
       "      <th>anbieterid_enc_user</th>\n",
       "      <th>anbietermarktplatz_enc_user</th>\n",
       "      <th>warengruppe_enc_user</th>\n",
       "      <th>text_vec_user</th>\n",
       "      <th>preis_std_user</th>\n",
       "      <th>minve_std_user</th>\n",
       "      <th>minve_log_std_user</th>\n",
       "      <th>preis_log_std_user</th>\n",
       "    </tr>\n",
       "  </thead>\n",
       "  <tbody>\n",
       "    <tr>\n",
       "      <th>0</th>\n",
       "      <td>1698332</td>\n",
       "      <td>2020-03-17 15:01:41</td>\n",
       "      <td>[00714655012517, 00714655012272, 0071465501214...</td>\n",
       "      <td>6</td>\n",
       "      <td>[103, 213, 264, 301, 430, 430, 430, 430, 430, ...</td>\n",
       "      <td>[7, 5, 8, 1, 1, 1, 1, 1, 1, 1, 1, 1, 1, 1, 1, ...</td>\n",
       "      <td>[139, 96, 221, 105, 119, 204, 107, 88, 88, 88,...</td>\n",
       "      <td>[-0.0835299999347297, -0.139140869329946, -0.4...</td>\n",
       "      <td>-0.030964</td>\n",
       "      <td>-0.006157</td>\n",
       "      <td>-0.021344</td>\n",
       "      <td>0.346582</td>\n",
       "    </tr>\n",
       "  </tbody>\n",
       "</table>\n",
       "</div>"
      ],
      "text/plain": [
       "    userid         datum_click  \\\n",
       "0  1698332 2020-03-17 15:01:41   \n",
       "\n",
       "                                      clicked_before  usermkt_enc  \\\n",
       "0  [00714655012517, 00714655012272, 0071465501214...            6   \n",
       "\n",
       "                                 anbieterid_enc_user  \\\n",
       "0  [103, 213, 264, 301, 430, 430, 430, 430, 430, ...   \n",
       "\n",
       "                         anbietermarktplatz_enc_user  \\\n",
       "0  [7, 5, 8, 1, 1, 1, 1, 1, 1, 1, 1, 1, 1, 1, 1, ...   \n",
       "\n",
       "                                warengruppe_enc_user  \\\n",
       "0  [139, 96, 221, 105, 119, 204, 107, 88, 88, 88,...   \n",
       "\n",
       "                                       text_vec_user  preis_std_user  \\\n",
       "0  [-0.0835299999347297, -0.139140869329946, -0.4...       -0.030964   \n",
       "\n",
       "   minve_std_user  minve_log_std_user  preis_log_std_user  \n",
       "0       -0.006157           -0.021344            0.346582  "
      ]
     },
     "execution_count": 21,
     "metadata": {},
     "output_type": "execute_result"
    }
   ],
   "source": [
    "pd.read_sql(\"SELECT * from user_enc where userid = '1698332'\", engine)"
   ]
  },
  {
   "cell_type": "code",
   "execution_count": 22,
   "metadata": {},
   "outputs": [],
   "source": [
    "import pickle"
   ]
  },
  {
   "cell_type": "code",
   "execution_count": 23,
   "metadata": {},
   "outputs": [],
   "source": [
    "imputer_stueck = pickle.load( open( \"data/models/preprocessing/imputer_stueck.pkl\", \"rb\" ) )\n",
    "imputer_preis = pickle.load( open( \"data/models/preprocessing/imputer_preis.pkl\", \"rb\" ) )"
   ]
  },
  {
   "cell_type": "code",
   "execution_count": 24,
   "metadata": {},
   "outputs": [
    {
     "data": {
      "text/plain": [
       "array([[10.45257975]])"
      ]
     },
     "execution_count": 24,
     "metadata": {},
     "output_type": "execute_result"
    }
   ],
   "source": [
    "imputer_stueck.transform([[None]])"
   ]
  },
  {
   "cell_type": "code",
   "execution_count": 25,
   "metadata": {},
   "outputs": [
    {
     "data": {
      "text/plain": [
       "array([[12.95303852]])"
      ]
     },
     "execution_count": 25,
     "metadata": {},
     "output_type": "execute_result"
    }
   ],
   "source": [
    "imputer_preis.transform([[None]])"
   ]
  }
 ],
 "metadata": {
  "kernelspec": {
   "display_name": "Python 3",
   "language": "python",
   "name": "python3"
  },
  "language_info": {
   "codemirror_mode": {
    "name": "ipython",
    "version": 3
   },
   "file_extension": ".py",
   "mimetype": "text/x-python",
   "name": "python",
   "nbconvert_exporter": "python",
   "pygments_lexer": "ipython3",
   "version": "3.7.3"
  }
 },
 "nbformat": 4,
 "nbformat_minor": 2
}